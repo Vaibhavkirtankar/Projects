{
  "nbformat": 4,
  "nbformat_minor": 0,
  "metadata": {
    "anaconda-cloud": {},
    "kernelspec": {
      "display_name": "Python 3",
      "language": "python",
      "name": "python3"
    },
    "language_info": {
      "codemirror_mode": {
        "name": "ipython",
        "version": 3
      },
      "file_extension": ".py",
      "mimetype": "text/x-python",
      "name": "python",
      "nbconvert_exporter": "python",
      "pygments_lexer": "ipython3",
      "version": "3.8.3"
    },
    "colab": {
      "provenance": [],
      "collapsed_sections": [
        "UerDiHUFFebb",
        "SCSv1oTyFebk",
        "ZcqQi9QlFebv",
        "cBLdecogFeb3",
        "tAQT5zCRFeb4",
        "wXgZwMhhFeb9",
        "Qie8m8jUFecB",
        "nXPfMKs4FecD",
        "mTeAXWA2FecG",
        "vaiR4-lDFecJ",
        "3dU-W7UDFecU",
        "P-R7orDRFecX",
        "omqTk4P7FecZ",
        "PlZqo0ivFecg",
        "bf2r8siNFecj",
        "oyJnQ47NFecl",
        "AY5lSSjhFecn",
        "obCm1zDbFedB",
        "GxiVMwagFedJ",
        "zRxifoovFedM",
        "Y4L4QmJ4FedT",
        "BvCmD9fpFedW",
        "WYl2AeaSFedd",
        "nXwN2AwUFedg",
        "E2v3MjRtFedi",
        "VD46GosVFedk",
        "3_3IQjFuFedn",
        "jOB4lenrFedp"
      ]
    }
  },
  "cells": [
    {
      "cell_type": "markdown",
      "metadata": {
        "id": "p0sX_kR1Feax"
      },
      "source": [
        "<hr style=\"border:5px solid #108999\"> </hr>"
      ]
    },
    {
      "cell_type": "markdown",
      "metadata": {
        "id": "LeXJwYgGFebG"
      },
      "source": [
        "# Python Variables and Types of Data <hr style=\"border:4.5px solid #108999\"> </hr>"
      ]
    },
    {
      "cell_type": "markdown",
      "metadata": {
        "id": "7gLFqYF5FebI"
      },
      "source": [
        "## Variables"
      ]
    },
    {
      "cell_type": "markdown",
      "metadata": {
        "id": "XR-OFI-eFebK"
      },
      "source": [
        "Create a variable with name \"x\" and a value of 10. Execute."
      ]
    },
    {
      "cell_type": "code",
      "metadata": {
        "collapsed": true,
        "id": "PvJ9WHXuFebL"
      },
      "source": [
        "x=10"
      ],
      "execution_count": null,
      "outputs": []
    },
    {
      "cell_type": "markdown",
      "metadata": {
        "id": "OjamzmuMFebN"
      },
      "source": [
        "Tell the computer to show you the value of that variable."
      ]
    },
    {
      "cell_type": "code",
      "metadata": {
        "collapsed": true,
        "colab": {
          "base_uri": "https://localhost:8080/"
        },
        "id": "uKAf6FHeFebO",
        "outputId": "f18a8b2f-8f5b-4c95-e5c2-4a3ade24eb84"
      },
      "source": [
        "print(x)"
      ],
      "execution_count": null,
      "outputs": [
        {
          "output_type": "stream",
          "name": "stdout",
          "text": [
            "10\n"
          ]
        }
      ]
    },
    {
      "cell_type": "markdown",
      "metadata": {
        "id": "khJzVJu9FebQ"
      },
      "source": [
        "Can you think of a second way to obtain the same result?"
      ]
    },
    {
      "cell_type": "code",
      "metadata": {
        "collapsed": true,
        "colab": {
          "base_uri": "https://localhost:8080/"
        },
        "id": "BrRwa3HYFebS",
        "outputId": "cd13bd30-247f-4f25-df26-94e35021a80e"
      },
      "source": [
        "x"
      ],
      "execution_count": null,
      "outputs": [
        {
          "output_type": "execute_result",
          "data": {
            "text/plain": [
              "10"
            ]
          },
          "metadata": {},
          "execution_count": 4
        }
      ]
    },
    {
      "cell_type": "markdown",
      "metadata": {
        "id": "p9TkfIzLFebT"
      },
      "source": [
        "On the same line, create four new variables: a,b,c, and d, that are equal to 10, 20, 30, and 40, respectively."
      ]
    },
    {
      "cell_type": "code",
      "metadata": {
        "collapsed": true,
        "id": "FMayN5GzFebV"
      },
      "source": [
        "a,b,c,d=10,20,30,40"
      ],
      "execution_count": null,
      "outputs": []
    },
    {
      "cell_type": "markdown",
      "metadata": {
        "id": "LeetJgpBFebV"
      },
      "source": [
        "Tell the computer to show you the value corresponding to the variable \"b\"."
      ]
    },
    {
      "cell_type": "code",
      "metadata": {
        "collapsed": true,
        "colab": {
          "base_uri": "https://localhost:8080/"
        },
        "id": "d7XIJWQZFebX",
        "outputId": "382fe4e4-01a9-4511-c652-6cacc3b30c5f"
      },
      "source": [
        "b\n"
      ],
      "execution_count": null,
      "outputs": [
        {
          "output_type": "execute_result",
          "data": {
            "text/plain": [
              "20"
            ]
          },
          "metadata": {},
          "execution_count": 6
        }
      ]
    },
    {
      "cell_type": "markdown",
      "metadata": {
        "id": "qq14wrYHFebX"
      },
      "source": [
        "Do the same for \"d\"."
      ]
    },
    {
      "cell_type": "code",
      "metadata": {
        "collapsed": true,
        "colab": {
          "base_uri": "https://localhost:8080/"
        },
        "id": "WWSoFyO7FebZ",
        "outputId": "4994db9d-26b6-4487-f18d-be0ea7f75a54"
      },
      "source": [
        "d"
      ],
      "execution_count": null,
      "outputs": [
        {
          "output_type": "execute_result",
          "data": {
            "text/plain": [
              "40"
            ]
          },
          "metadata": {},
          "execution_count": 7
        }
      ]
    },
    {
      "cell_type": "markdown",
      "metadata": {
        "id": "UerDiHUFFebb"
      },
      "source": [
        "## Numbers and Boolean Values"
      ]
    },
    {
      "cell_type": "markdown",
      "metadata": {
        "id": "2oboQYAmFebc"
      },
      "source": [
        "Create a variable equal to \"True\"."
      ]
    },
    {
      "cell_type": "code",
      "metadata": {
        "collapsed": true,
        "id": "7QLGrlR4Febd"
      },
      "source": [
        "c=True"
      ],
      "execution_count": null,
      "outputs": []
    },
    {
      "cell_type": "markdown",
      "metadata": {
        "id": "bMpWaRd1Febe"
      },
      "source": [
        "Check its type."
      ]
    },
    {
      "cell_type": "code",
      "metadata": {
        "collapsed": true,
        "colab": {
          "base_uri": "https://localhost:8080/"
        },
        "id": "jJWUw0GGFebf",
        "outputId": "1b9116f5-4f98-44aa-e3d7-f1235bd50c81"
      },
      "source": [
        "type(c)"
      ],
      "execution_count": null,
      "outputs": [
        {
          "output_type": "execute_result",
          "data": {
            "text/plain": [
              "bool"
            ]
          },
          "metadata": {},
          "execution_count": 10
        }
      ]
    },
    {
      "cell_type": "markdown",
      "metadata": {
        "id": "1euZVC8QFebf"
      },
      "source": [
        "Create a variable equal to 99."
      ]
    },
    {
      "cell_type": "code",
      "metadata": {
        "collapsed": true,
        "id": "4vtiq8NAFebg"
      },
      "source": [
        "x=99"
      ],
      "execution_count": null,
      "outputs": []
    },
    {
      "cell_type": "markdown",
      "metadata": {
        "id": "XDxjPfDvFebg"
      },
      "source": [
        "Check its type."
      ]
    },
    {
      "cell_type": "code",
      "metadata": {
        "collapsed": true,
        "colab": {
          "base_uri": "https://localhost:8080/"
        },
        "id": "SGbvAVyYFebh",
        "outputId": "136021da-b97b-4b63-b969-fe2f6a23895d"
      },
      "source": [
        "type(x)"
      ],
      "execution_count": null,
      "outputs": [
        {
          "output_type": "execute_result",
          "data": {
            "text/plain": [
              "int"
            ]
          },
          "metadata": {},
          "execution_count": 12
        }
      ]
    },
    {
      "cell_type": "markdown",
      "metadata": {
        "id": "rHIxA7D5Febh"
      },
      "source": [
        "Check the type of the value 0.99."
      ]
    },
    {
      "cell_type": "code",
      "metadata": {
        "collapsed": true,
        "colab": {
          "base_uri": "https://localhost:8080/"
        },
        "id": "aQ0lgYWjFebi",
        "outputId": "50c32f60-ac87-42c6-f6e3-6278f2cd8156"
      },
      "source": [
        "type(0.99)"
      ],
      "execution_count": null,
      "outputs": [
        {
          "output_type": "execute_result",
          "data": {
            "text/plain": [
              "float"
            ]
          },
          "metadata": {},
          "execution_count": 13
        }
      ]
    },
    {
      "cell_type": "markdown",
      "metadata": {
        "id": "8MTw4sdyFebi"
      },
      "source": [
        "Turn 99 into a *float*."
      ]
    },
    {
      "cell_type": "code",
      "metadata": {
        "collapsed": true,
        "colab": {
          "base_uri": "https://localhost:8080/"
        },
        "id": "Ze6_CDZ2Febi",
        "outputId": "5d6ba5e8-dcad-47ba-a05f-8af199dc45a8"
      },
      "source": [
        "float(99)"
      ],
      "execution_count": null,
      "outputs": [
        {
          "output_type": "execute_result",
          "data": {
            "text/plain": [
              "99.0"
            ]
          },
          "metadata": {},
          "execution_count": 14
        }
      ]
    },
    {
      "cell_type": "markdown",
      "metadata": {
        "id": "z7ubXbTCFebj"
      },
      "source": [
        "Turn 0.99 into an integer. What value did you get?"
      ]
    },
    {
      "cell_type": "code",
      "metadata": {
        "collapsed": true,
        "colab": {
          "base_uri": "https://localhost:8080/"
        },
        "id": "kGm3ABaeFebj",
        "outputId": "28982492-cb19-4fb6-8c8f-3c6831bbaadf"
      },
      "source": [
        "int(0.99)"
      ],
      "execution_count": null,
      "outputs": [
        {
          "output_type": "execute_result",
          "data": {
            "text/plain": [
              "0"
            ]
          },
          "metadata": {},
          "execution_count": 15
        }
      ]
    },
    {
      "cell_type": "markdown",
      "metadata": {
        "id": "SCSv1oTyFebk"
      },
      "source": [
        "## Strings"
      ]
    },
    {
      "cell_type": "markdown",
      "metadata": {
        "id": "xkGeVDvdFebk"
      },
      "source": [
        "Assign the value of 100 to the variable \"m\"."
      ]
    },
    {
      "cell_type": "code",
      "metadata": {
        "id": "Qu4L2fKrFebl"
      },
      "source": [
        "m=100"
      ],
      "execution_count": null,
      "outputs": []
    },
    {
      "cell_type": "markdown",
      "metadata": {
        "id": "uIs2-EfQFebl"
      },
      "source": [
        "With the help of the variable \"m\", write one line of code where the output after executuion would be *100 days*.\n",
        "\n",
        "*Hint:* *You could provide four answers to this question!*"
      ]
    },
    {
      "cell_type": "code",
      "metadata": {
        "colab": {
          "base_uri": "https://localhost:8080/",
          "height": 35
        },
        "id": "FHCrEt78Febm",
        "outputId": "69957661-92d0-4c48-8264-2d22b3c3fefa"
      },
      "source": [
        "str(m)+\"days\""
      ],
      "execution_count": null,
      "outputs": [
        {
          "output_type": "execute_result",
          "data": {
            "application/vnd.google.colaboratory.intrinsic+json": {
              "type": "string"
            },
            "text/plain": [
              "'100days'"
            ]
          },
          "metadata": {},
          "execution_count": 19
        }
      ]
    },
    {
      "cell_type": "code",
      "metadata": {
        "colab": {
          "base_uri": "https://localhost:8080/",
          "height": 35
        },
        "id": "hw9HwCepFebn",
        "outputId": "380a6049-cc19-45f8-c7cc-973b79737943"
      },
      "source": [
        "\"100\"+\"days\""
      ],
      "execution_count": null,
      "outputs": [
        {
          "output_type": "execute_result",
          "data": {
            "application/vnd.google.colaboratory.intrinsic+json": {
              "type": "string"
            },
            "text/plain": [
              "'100days'"
            ]
          },
          "metadata": {},
          "execution_count": 20
        }
      ]
    },
    {
      "cell_type": "code",
      "metadata": {
        "id": "c6bVgV7MFebn"
      },
      "source": [],
      "execution_count": null,
      "outputs": []
    },
    {
      "cell_type": "markdown",
      "metadata": {
        "id": "jidqUzN3Febo"
      },
      "source": [
        "Produce an output equal to *It's cool, isn't it?*"
      ]
    },
    {
      "cell_type": "code",
      "metadata": {
        "id": "i-9kaAosFebo"
      },
      "source": [
        "cv=\" It's cool, isn't it?\""
      ],
      "execution_count": null,
      "outputs": []
    },
    {
      "cell_type": "code",
      "metadata": {
        "colab": {
          "base_uri": "https://localhost:8080/",
          "height": 35
        },
        "id": "V9V3kYmdG53B",
        "outputId": "0e82d3a6-6a00-4f01-f360-a2b9815e1e53"
      },
      "source": [
        "cv"
      ],
      "execution_count": null,
      "outputs": [
        {
          "output_type": "execute_result",
          "data": {
            "application/vnd.google.colaboratory.intrinsic+json": {
              "type": "string"
            },
            "text/plain": [
              "\" It's cool, isn't it?\""
            ]
          },
          "metadata": {},
          "execution_count": 22
        }
      ]
    },
    {
      "cell_type": "markdown",
      "metadata": {
        "id": "SVzfMTuoFebo"
      },
      "source": [
        "Fix the string below."
      ]
    },
    {
      "cell_type": "code",
      "metadata": {
        "colab": {
          "base_uri": "https://localhost:8080/",
          "height": 35
        },
        "id": "mOKegQhGFebp",
        "outputId": "6978d55a-4695-46af-fc9d-0f9263e4cc6f"
      },
      "source": [
        "\"Don't be shy\""
      ],
      "execution_count": null,
      "outputs": [
        {
          "output_type": "execute_result",
          "data": {
            "application/vnd.google.colaboratory.intrinsic+json": {
              "type": "string"
            },
            "text/plain": [
              "\"Don't be shy\""
            ]
          },
          "metadata": {},
          "execution_count": 23
        }
      ]
    },
    {
      "cell_type": "markdown",
      "metadata": {
        "id": "HGawsONbFebr"
      },
      "source": [
        "Produce an output equal to *Click \"OK\"*."
      ]
    },
    {
      "cell_type": "code",
      "metadata": {
        "colab": {
          "base_uri": "https://localhost:8080/"
        },
        "id": "9CVQflpTFebs",
        "outputId": "690c1fe2-6f3d-4443-d2cc-d568386ffbd0"
      },
      "source": [
        "print('Click \"OK\".')"
      ],
      "execution_count": null,
      "outputs": [
        {
          "output_type": "stream",
          "name": "stdout",
          "text": [
            "Click \"OK\".\n"
          ]
        }
      ]
    },
    {
      "cell_type": "markdown",
      "metadata": {
        "id": "sUbTbnyXFebt"
      },
      "source": [
        "Include a plus sign in your line of code to produce *'Big Houses'*."
      ]
    },
    {
      "cell_type": "code",
      "metadata": {
        "colab": {
          "base_uri": "https://localhost:8080/",
          "height": 35
        },
        "id": "CBV9WeNBFebt",
        "outputId": "1353d4f8-91e1-40e7-d136-5dbad391101f"
      },
      "source": [
        "\"Big\"+\" Houses\""
      ],
      "execution_count": null,
      "outputs": [
        {
          "output_type": "execute_result",
          "data": {
            "application/vnd.google.colaboratory.intrinsic+json": {
              "type": "string"
            },
            "text/plain": [
              "'Big Houses'"
            ]
          },
          "metadata": {},
          "execution_count": 26
        }
      ]
    },
    {
      "cell_type": "markdown",
      "metadata": {
        "id": "R6-I34zEFebt"
      },
      "source": [
        "Include a trailing comma in your line of code to produce *Big Houses*."
      ]
    },
    {
      "cell_type": "code",
      "metadata": {
        "colab": {
          "base_uri": "https://localhost:8080/"
        },
        "id": "ZhVmsI2DFebu",
        "outputId": "0d48ad8f-73d3-4db8-b1f9-f0c998052855"
      },
      "source": [
        "print(\"Big\", \"Houses.\")"
      ],
      "execution_count": null,
      "outputs": [
        {
          "output_type": "stream",
          "name": "stdout",
          "text": [
            "Big Houses.\n"
          ]
        }
      ]
    },
    {
      "cell_type": "markdown",
      "metadata": {
        "id": "A6NtlzugFebu"
      },
      "source": [
        "<hr style=\"border:5px solid #108999\"> </hr>"
      ]
    },
    {
      "cell_type": "markdown",
      "metadata": {
        "id": "k33zZ7vYFebv"
      },
      "source": [
        "# Basic Python Syntax <hr style=\"border:4.5px solid #108999\"> </hr>"
      ]
    },
    {
      "cell_type": "markdown",
      "metadata": {
        "id": "ZcqQi9QlFebv"
      },
      "source": [
        "## Arithmetic operators"
      ]
    },
    {
      "cell_type": "markdown",
      "metadata": {
        "id": "h3CruvGvFebw"
      },
      "source": [
        "Combine 15 and 23."
      ]
    },
    {
      "cell_type": "code",
      "metadata": {
        "collapsed": true,
        "id": "-nEmDPRsFebw",
        "colab": {
          "base_uri": "https://localhost:8080/"
        },
        "outputId": "816f4424-013c-4e64-98b6-5f66dcb51b53"
      },
      "source": [
        "15+23"
      ],
      "execution_count": null,
      "outputs": [
        {
          "output_type": "execute_result",
          "data": {
            "text/plain": [
              "38"
            ]
          },
          "metadata": {},
          "execution_count": 1
        }
      ]
    },
    {
      "cell_type": "markdown",
      "metadata": {
        "id": "PT6hba8QFebx"
      },
      "source": [
        "Subtract 50 from 26."
      ]
    },
    {
      "cell_type": "code",
      "metadata": {
        "collapsed": true,
        "id": "hwFXeCfpFebx",
        "colab": {
          "base_uri": "https://localhost:8080/"
        },
        "outputId": "0cb23370-c89b-4a1c-a004-6b4301bef1e5"
      },
      "source": [
        "50-26"
      ],
      "execution_count": null,
      "outputs": [
        {
          "output_type": "execute_result",
          "data": {
            "text/plain": [
              "24"
            ]
          },
          "metadata": {},
          "execution_count": 2
        }
      ]
    },
    {
      "cell_type": "markdown",
      "metadata": {
        "id": "3xdVioXNFeby"
      },
      "source": [
        "Divide 20 by 4."
      ]
    },
    {
      "cell_type": "code",
      "metadata": {
        "collapsed": true,
        "id": "WY-1AaErFebz",
        "colab": {
          "base_uri": "https://localhost:8080/"
        },
        "outputId": "3656b860-110c-4c7b-c4fb-9bad1e0ca8a1"
      },
      "source": [
        "20/4"
      ],
      "execution_count": null,
      "outputs": [
        {
          "output_type": "execute_result",
          "data": {
            "text/plain": [
              "5.0"
            ]
          },
          "metadata": {},
          "execution_count": 3
        }
      ]
    },
    {
      "cell_type": "markdown",
      "metadata": {
        "id": "PApjmlTnFebz"
      },
      "source": [
        "Divide 22 by 4."
      ]
    },
    {
      "cell_type": "code",
      "metadata": {
        "collapsed": true,
        "id": "f9N4yE60Febz",
        "colab": {
          "base_uri": "https://localhost:8080/"
        },
        "outputId": "76ff014d-7fb6-40af-bc05-39203a0788b1"
      },
      "source": [
        "22/4\n"
      ],
      "execution_count": null,
      "outputs": [
        {
          "output_type": "execute_result",
          "data": {
            "text/plain": [
              "5.5"
            ]
          },
          "metadata": {},
          "execution_count": 4
        }
      ]
    },
    {
      "cell_type": "markdown",
      "metadata": {
        "id": "-tRSsIMlFeb0"
      },
      "source": [
        "Obtain the remainder of the division of 22 by 4."
      ]
    },
    {
      "cell_type": "code",
      "metadata": {
        "collapsed": true,
        "id": "8OOQG8xsFeb0",
        "colab": {
          "base_uri": "https://localhost:8080/"
        },
        "outputId": "f3b1db64-2385-4417-bde7-7019ab265682"
      },
      "source": [
        "22/4"
      ],
      "execution_count": null,
      "outputs": [
        {
          "output_type": "execute_result",
          "data": {
            "text/plain": [
              "5.5"
            ]
          },
          "metadata": {},
          "execution_count": 5
        }
      ]
    },
    {
      "cell_type": "markdown",
      "metadata": {
        "id": "O9h8x9vjFeb1"
      },
      "source": [
        "Divide the float 22 by 4."
      ]
    },
    {
      "cell_type": "code",
      "metadata": {
        "collapsed": true,
        "id": "5k0Lj70tFeb1"
      },
      "source": [],
      "execution_count": null,
      "outputs": []
    },
    {
      "cell_type": "code",
      "metadata": {
        "collapsed": true,
        "id": "nGAmAimRFeb1"
      },
      "source": [],
      "execution_count": null,
      "outputs": []
    },
    {
      "cell_type": "markdown",
      "metadata": {
        "id": "XtHeqbZAFeb2"
      },
      "source": [
        "Multiply 6 by 8."
      ]
    },
    {
      "cell_type": "code",
      "metadata": {
        "collapsed": true,
        "id": "-ppWA_3oFeb2",
        "colab": {
          "base_uri": "https://localhost:8080/"
        },
        "outputId": "bff98f8f-b565-4c92-e19e-0a40d73ad06f"
      },
      "source": [
        "6*8"
      ],
      "execution_count": null,
      "outputs": [
        {
          "output_type": "execute_result",
          "data": {
            "text/plain": [
              "48"
            ]
          },
          "metadata": {},
          "execution_count": 6
        }
      ]
    },
    {
      "cell_type": "markdown",
      "metadata": {
        "id": "zT21yFw9Feb2"
      },
      "source": [
        "Raise 15 to the power of 2."
      ]
    },
    {
      "cell_type": "code",
      "metadata": {
        "collapsed": true,
        "id": "O1SJw-qmFeb3",
        "colab": {
          "base_uri": "https://localhost:8080/"
        },
        "outputId": "4e4d5d70-812a-4084-efd4-9125af17e8a4"
      },
      "source": [
        "15**2"
      ],
      "execution_count": null,
      "outputs": [
        {
          "output_type": "execute_result",
          "data": {
            "text/plain": [
              "225"
            ]
          },
          "metadata": {},
          "execution_count": 7
        }
      ]
    },
    {
      "cell_type": "markdown",
      "metadata": {
        "id": "cBLdecogFeb3"
      },
      "source": [
        "## The double-equality sign"
      ]
    },
    {
      "cell_type": "markdown",
      "metadata": {
        "id": "QdDuX7CxFeb4"
      },
      "source": [
        "Demonstrate that 100 is not equal to 98."
      ]
    },
    {
      "cell_type": "code",
      "metadata": {
        "collapsed": true,
        "id": "SPvBOwz1Feb4",
        "colab": {
          "base_uri": "https://localhost:8080/"
        },
        "outputId": "8f897c87-b496-4748-da59-ef7ba362c13e"
      },
      "source": [
        "100!=98"
      ],
      "execution_count": null,
      "outputs": [
        {
          "output_type": "execute_result",
          "data": {
            "text/plain": [
              "True"
            ]
          },
          "metadata": {},
          "execution_count": 8
        }
      ]
    },
    {
      "cell_type": "markdown",
      "metadata": {
        "id": "tAQT5zCRFeb4"
      },
      "source": [
        "## Reassign Values"
      ]
    },
    {
      "cell_type": "markdown",
      "metadata": {
        "id": "ralcN96sFeb5"
      },
      "source": [
        "Assign the value of 14 to a variable p."
      ]
    },
    {
      "cell_type": "code",
      "metadata": {
        "collapsed": true,
        "id": "4LvRPLrAFeb5"
      },
      "source": [
        "p=14"
      ],
      "execution_count": null,
      "outputs": []
    },
    {
      "cell_type": "markdown",
      "metadata": {
        "id": "kf9zfXzHFeb6"
      },
      "source": [
        "Calculate p + 10."
      ]
    },
    {
      "cell_type": "code",
      "metadata": {
        "collapsed": true,
        "id": "MlazQGnqFeb6",
        "colab": {
          "base_uri": "https://localhost:8080/"
        },
        "outputId": "f3136d3d-cab8-4714-a7d3-a3ea0cd352ad"
      },
      "source": [
        "p+10"
      ],
      "execution_count": null,
      "outputs": [
        {
          "output_type": "execute_result",
          "data": {
            "text/plain": [
              "24"
            ]
          },
          "metadata": {},
          "execution_count": 11
        }
      ]
    },
    {
      "cell_type": "markdown",
      "metadata": {
        "id": "0e0yTUnRFeb7"
      },
      "source": [
        "Now, assign 30 to the variable p."
      ]
    },
    {
      "cell_type": "code",
      "metadata": {
        "collapsed": true,
        "id": "rxoHfNaEFeb7"
      },
      "source": [
        "P=30"
      ],
      "execution_count": null,
      "outputs": []
    },
    {
      "cell_type": "markdown",
      "metadata": {
        "id": "-dUVLQQUFeb8"
      },
      "source": [
        "Calculate p + 10."
      ]
    },
    {
      "cell_type": "code",
      "metadata": {
        "collapsed": true,
        "id": "WQ3xBciHFeb8",
        "colab": {
          "base_uri": "https://localhost:8080/"
        },
        "outputId": "b9751bcf-df4c-4c9a-f8d2-a2b6744476fb"
      },
      "source": [
        "P+10"
      ],
      "execution_count": null,
      "outputs": [
        {
          "output_type": "execute_result",
          "data": {
            "text/plain": [
              "40"
            ]
          },
          "metadata": {},
          "execution_count": 13
        }
      ]
    },
    {
      "cell_type": "markdown",
      "metadata": {
        "id": "-8HRomJTFeb9"
      },
      "source": [
        "Observe how the value of p is always the last one you have assigned."
      ]
    },
    {
      "cell_type": "markdown",
      "metadata": {
        "id": "wXgZwMhhFeb9"
      },
      "source": [
        "## Line Continuation"
      ]
    },
    {
      "cell_type": "markdown",
      "metadata": {
        "id": "fz1ncBg6Feb-"
      },
      "source": [
        "Add a backslash in the code below, so it is a one-line code. Observe the change in the result."
      ]
    },
    {
      "cell_type": "code",
      "metadata": {
        "id": "j06PMPDkFeb-",
        "outputId": "9e2ed271-8415-4bc3-a8e8-972064c98c61",
        "colab": {
          "base_uri": "https://localhost:8080/"
        }
      },
      "source": [
        "15 + 31\n",
        "- 26"
      ],
      "execution_count": null,
      "outputs": [
        {
          "output_type": "execute_result",
          "data": {
            "text/plain": [
              "-26"
            ]
          },
          "metadata": {},
          "execution_count": 15
        }
      ]
    },
    {
      "cell_type": "code",
      "metadata": {
        "id": "fKkmzOy7FecB",
        "colab": {
          "base_uri": "https://localhost:8080/"
        },
        "outputId": "cfc03618-40e2-4664-f6b3-b88ec2e7ddfb"
      },
      "source": [
        "15+31 -26\\"
      ],
      "execution_count": null,
      "outputs": [
        {
          "output_type": "execute_result",
          "data": {
            "text/plain": [
              "20"
            ]
          },
          "metadata": {},
          "execution_count": 16
        }
      ]
    },
    {
      "cell_type": "markdown",
      "metadata": {
        "id": "Qie8m8jUFecB"
      },
      "source": [
        "## Indexing Elements"
      ]
    },
    {
      "cell_type": "markdown",
      "metadata": {
        "id": "cdx4t3ReFecB"
      },
      "source": [
        "Extract the letter 'B' from \"Bingo!\"."
      ]
    },
    {
      "cell_type": "code",
      "metadata": {
        "collapsed": true,
        "id": "0gv3WvoZFecC",
        "colab": {
          "base_uri": "https://localhost:8080/",
          "height": 35
        },
        "outputId": "bf149bf4-5a68-4286-907d-8d7015b12e53"
      },
      "source": [
        "\"Bingo!\"[0]"
      ],
      "execution_count": null,
      "outputs": [
        {
          "output_type": "execute_result",
          "data": {
            "application/vnd.google.colaboratory.intrinsic+json": {
              "type": "string"
            },
            "text/plain": [
              "'B'"
            ]
          },
          "metadata": {},
          "execution_count": 19
        }
      ]
    },
    {
      "cell_type": "markdown",
      "metadata": {
        "id": "ZKwGyalgFecC"
      },
      "source": [
        "Extract the letter \"u\" from \"Constitution\".\n",
        "\n",
        "> Indented block\n",
        "\n"
      ]
    },
    {
      "cell_type": "code",
      "metadata": {
        "collapsed": true,
        "id": "OiE8yB3ZFecD",
        "colab": {
          "base_uri": "https://localhost:8080/",
          "height": 35
        },
        "outputId": "088e6be3-502e-4f58-98de-788923918b35"
      },
      "source": [
        "\"Constitution\"[-5]"
      ],
      "execution_count": null,
      "outputs": [
        {
          "output_type": "execute_result",
          "data": {
            "application/vnd.google.colaboratory.intrinsic+json": {
              "type": "string"
            },
            "text/plain": [
              "'u'"
            ]
          },
          "metadata": {},
          "execution_count": 20
        }
      ]
    },
    {
      "cell_type": "code",
      "metadata": {
        "collapsed": true,
        "id": "TmurxIFbFecD"
      },
      "source": [],
      "execution_count": null,
      "outputs": []
    },
    {
      "cell_type": "markdown",
      "metadata": {
        "id": "nXPfMKs4FecD"
      },
      "source": [
        "## Structure Your Code with Indentation"
      ]
    },
    {
      "cell_type": "markdown",
      "metadata": {
        "id": "WQKIPjCBFecE"
      },
      "source": [
        "Use indentation properly to print the result of the function with an argument of 3."
      ]
    },
    {
      "cell_type": "code",
      "metadata": {
        "id": "5DzWTHBrFecE",
        "colab": {
          "base_uri": "https://localhost:8080/"
        },
        "outputId": "53860395-e2eb-41ad-a15c-429e421e172b"
      },
      "source": [
        "def ten(x):\n",
        "    x = 10\n",
        "    return x\n",
        "print (ten(3))"
      ],
      "execution_count": null,
      "outputs": [
        {
          "output_type": "stream",
          "name": "stdout",
          "text": [
            "10\n"
          ]
        }
      ]
    },
    {
      "cell_type": "markdown",
      "metadata": {
        "id": "GM7gqviJFecF"
      },
      "source": [
        "<hr style=\"border:5px solid #108999\"> </hr>"
      ]
    },
    {
      "cell_type": "markdown",
      "metadata": {
        "id": "EG44OG5nFecF"
      },
      "source": [
        "# Operators <hr style=\"border:4.5px solid #108999\"> </hr>"
      ]
    },
    {
      "cell_type": "markdown",
      "metadata": {
        "id": "mTeAXWA2FecG"
      },
      "source": [
        "## Comparison Operators"
      ]
    },
    {
      "cell_type": "markdown",
      "metadata": {
        "id": "viGmWsXNFecG"
      },
      "source": [
        "Verify that 25 is smaller than 30."
      ]
    },
    {
      "cell_type": "code",
      "metadata": {
        "collapsed": true,
        "id": "aVUvXTPdFecH",
        "colab": {
          "base_uri": "https://localhost:8080/"
        },
        "outputId": "5f5cd133-a6b9-4013-8103-578a4286ecfa"
      },
      "source": [
        "25<30"
      ],
      "execution_count": null,
      "outputs": [
        {
          "output_type": "execute_result",
          "data": {
            "text/plain": [
              "True"
            ]
          },
          "metadata": {},
          "execution_count": 22
        }
      ]
    },
    {
      "cell_type": "markdown",
      "metadata": {
        "id": "OmJ-_KlyFecH"
      },
      "source": [
        "Verify that 5 multiplied by 3 is less than or equal to 5 to the power of 3."
      ]
    },
    {
      "cell_type": "code",
      "metadata": {
        "collapsed": true,
        "id": "cNwbh_h7FecI",
        "colab": {
          "base_uri": "https://localhost:8080/"
        },
        "outputId": "ea5f5f7c-e0cd-4f3d-84fe-d7d74844af33"
      },
      "source": [
        "5*3<=5**3"
      ],
      "execution_count": null,
      "outputs": [
        {
          "output_type": "execute_result",
          "data": {
            "text/plain": [
              "True"
            ]
          },
          "metadata": {},
          "execution_count": 23
        }
      ]
    },
    {
      "cell_type": "markdown",
      "metadata": {
        "id": "110sdN5aFecI"
      },
      "source": [
        "Verify that 100 is equal to 10 square."
      ]
    },
    {
      "cell_type": "code",
      "metadata": {
        "collapsed": true,
        "id": "rcxUuI7DFecI",
        "colab": {
          "base_uri": "https://localhost:8080/"
        },
        "outputId": "961fb5ab-5184-4785-84cf-a690557462c0"
      },
      "source": [
        "100==10**2"
      ],
      "execution_count": null,
      "outputs": [
        {
          "output_type": "execute_result",
          "data": {
            "text/plain": [
              "True"
            ]
          },
          "metadata": {},
          "execution_count": 24
        }
      ]
    },
    {
      "cell_type": "markdown",
      "metadata": {
        "id": "bDUKYoM9FecJ"
      },
      "source": [
        "Verify that 53 is not equal to 46."
      ]
    },
    {
      "cell_type": "code",
      "metadata": {
        "collapsed": true,
        "id": "NFbD6w8lFecJ",
        "colab": {
          "base_uri": "https://localhost:8080/"
        },
        "outputId": "04a2431d-0ac4-4eb2-8691-3b1d48e3f568"
      },
      "source": [
        "53==46"
      ],
      "execution_count": null,
      "outputs": [
        {
          "output_type": "execute_result",
          "data": {
            "text/plain": [
              "False"
            ]
          },
          "metadata": {},
          "execution_count": 25
        }
      ]
    },
    {
      "cell_type": "markdown",
      "metadata": {
        "id": "vaiR4-lDFecJ"
      },
      "source": [
        "## Logical and Identity Operators"
      ]
    },
    {
      "cell_type": "markdown",
      "metadata": {
        "id": "DuGuZLL3FecK"
      },
      "source": [
        "*Suggested Answers follow (usually there are multiple ways to solve a problem in Python).*"
      ]
    },
    {
      "cell_type": "markdown",
      "metadata": {
        "id": "Oq0UWadRFecM"
      },
      "source": [
        "Check whether the following code is True or False."
      ]
    },
    {
      "cell_type": "markdown",
      "metadata": {
        "id": "rlO3CZCzFecN"
      },
      "source": [
        "False or not True and not False\n",
        "\n",
        "\n",
        "\n",
        "\n"
      ]
    },
    {
      "cell_type": "code",
      "metadata": {
        "collapsed": true,
        "id": "Z14jQCd1FecO",
        "colab": {
          "base_uri": "https://localhost:8080/"
        },
        "outputId": "62292993-df7e-4c90-ce63-8e659f9a2f8b"
      },
      "source": [
        "False or not True and not False"
      ],
      "execution_count": null,
      "outputs": [
        {
          "output_type": "execute_result",
          "data": {
            "text/plain": [
              "False"
            ]
          },
          "metadata": {},
          "execution_count": 26
        }
      ]
    },
    {
      "cell_type": "markdown",
      "metadata": {
        "id": "U-R1f59mFecO"
      },
      "source": [
        "True and not False and True or not False"
      ]
    },
    {
      "cell_type": "code",
      "metadata": {
        "collapsed": true,
        "id": "v08mmD3hFecP",
        "colab": {
          "base_uri": "https://localhost:8080/"
        },
        "outputId": "8f036f00-4d7b-4e08-b583-0b8b59a0186f"
      },
      "source": [
        "True and not False and True or not False"
      ],
      "execution_count": null,
      "outputs": [
        {
          "output_type": "execute_result",
          "data": {
            "text/plain": [
              "True"
            ]
          },
          "metadata": {},
          "execution_count": 27
        }
      ]
    },
    {
      "cell_type": "markdown",
      "metadata": {
        "id": "jq9VUGdVFecP"
      },
      "source": [
        "True or False and False"
      ]
    },
    {
      "cell_type": "code",
      "metadata": {
        "collapsed": true,
        "id": "4jJcmUyDFecQ",
        "colab": {
          "base_uri": "https://localhost:8080/"
        },
        "outputId": "ede14d2f-8cdc-4a22-b648-c1f57bc9d17c"
      },
      "source": [
        "True or False and False"
      ],
      "execution_count": null,
      "outputs": [
        {
          "output_type": "execute_result",
          "data": {
            "text/plain": [
              "True"
            ]
          },
          "metadata": {},
          "execution_count": 28
        }
      ]
    },
    {
      "cell_type": "markdown",
      "metadata": {
        "id": "dIYW4NZ-FecR"
      },
      "source": [
        "False and True or False"
      ]
    },
    {
      "cell_type": "code",
      "metadata": {
        "collapsed": true,
        "id": "B472UjT-FecR",
        "colab": {
          "base_uri": "https://localhost:8080/"
        },
        "outputId": "dfa870ac-0657-43ba-8ab8-54a6d37d2541"
      },
      "source": [
        "False and True or False"
      ],
      "execution_count": null,
      "outputs": [
        {
          "output_type": "execute_result",
          "data": {
            "text/plain": [
              "False"
            ]
          },
          "metadata": {},
          "execution_count": 29
        }
      ]
    },
    {
      "cell_type": "markdown",
      "metadata": {
        "id": "5dt3LhTtFecS"
      },
      "source": [
        "Using an identity operator, verify that 10 is not the same as 12."
      ]
    },
    {
      "cell_type": "code",
      "metadata": {
        "collapsed": true,
        "id": "wKSog32bFecS",
        "colab": {
          "base_uri": "https://localhost:8080/"
        },
        "outputId": "85c75d82-52af-48a0-fe35-b3b637d1fcf8"
      },
      "source": [
        "10 is not 12"
      ],
      "execution_count": null,
      "outputs": [
        {
          "output_type": "execute_result",
          "data": {
            "text/plain": [
              "True"
            ]
          },
          "metadata": {},
          "execution_count": 31
        }
      ]
    },
    {
      "cell_type": "markdown",
      "metadata": {
        "id": "pA0sNFKfFecS"
      },
      "source": [
        "Using an identity operator, verify that 50 is the same as 50."
      ]
    },
    {
      "cell_type": "code",
      "metadata": {
        "collapsed": true,
        "id": "XIH4pBFpFecT",
        "colab": {
          "base_uri": "https://localhost:8080/"
        },
        "outputId": "2cf5a93c-7fa3-411f-fde8-e6a4b94fcad4"
      },
      "source": [
        "50==50"
      ],
      "execution_count": null,
      "outputs": [
        {
          "output_type": "execute_result",
          "data": {
            "text/plain": [
              "True"
            ]
          },
          "metadata": {},
          "execution_count": 32
        }
      ]
    },
    {
      "cell_type": "markdown",
      "metadata": {
        "id": "5qQYKkv5FecT"
      },
      "source": [
        "<hr style=\"border:5px solid #108999\"> </hr>"
      ]
    },
    {
      "cell_type": "markdown",
      "metadata": {
        "id": "tQrBvd_KFecT"
      },
      "source": [
        "# Conditional Statements <hr style=\"border:4.5px solid #108999\"> </hr>"
      ]
    },
    {
      "cell_type": "markdown",
      "metadata": {
        "id": "3dU-W7UDFecU"
      },
      "source": [
        "## Introduction to the IF statement"
      ]
    },
    {
      "cell_type": "markdown",
      "metadata": {
        "id": "MBTNrC2sFecU"
      },
      "source": [
        "Create a two-line code that prints \"The condition has been satisfied\" if 5 is greater than 2."
      ]
    },
    {
      "cell_type": "code",
      "metadata": {
        "collapsed": true,
        "id": "hCt_ewCyFecV",
        "colab": {
          "base_uri": "https://localhost:8080/"
        },
        "outputId": "002c3d39-1249-4757-e4db-35f780e03a66"
      },
      "source": [
        "if 5>2:\n",
        "  print(\"The condition has been satisfied\")"
      ],
      "execution_count": null,
      "outputs": [
        {
          "output_type": "stream",
          "name": "stdout",
          "text": [
            "The condition has been satisfied\n"
          ]
        }
      ]
    },
    {
      "cell_type": "markdown",
      "metadata": {
        "id": "cnvPTEz1FecV"
      },
      "source": [
        "Assign 10 to the variable x and 25 to the variable y. In the same cell, create 2 conditional statements. Let the first one print \"Both conditions are correct\" if x is greater then 3 and y is greater than 13. Let the second one print \"At least one of the conditions is false\" if x is less than or equal to 3 or y is less than or equal to 13.\n",
        "Change the values assigned to x and y and re-run the cell to verify your code still works."
      ]
    },
    {
      "cell_type": "code",
      "metadata": {
        "collapsed": true,
        "id": "qh23XzgPFecW",
        "colab": {
          "base_uri": "https://localhost:8080/"
        },
        "outputId": "a3db71ce-a5f0-4fa8-f527-23cdc1fe904a"
      },
      "source": [
        "x, y=10, 25\n",
        "if x>3 and y>13:\n",
        "  print(\"Both conditions are correct\")\n",
        "if x<=3 or y <= 13:\n",
        "  print(\"At least one of the conditions is false\")"
      ],
      "execution_count": null,
      "outputs": [
        {
          "output_type": "stream",
          "name": "stdout",
          "text": [
            "Both conditions are correct\n"
          ]
        }
      ]
    },
    {
      "cell_type": "markdown",
      "metadata": {
        "id": "P-R7orDRFecX"
      },
      "source": [
        "## Add an ELSE Statement"
      ]
    },
    {
      "cell_type": "markdown",
      "metadata": {
        "id": "dt1J7exxFecX"
      },
      "source": [
        "Let x represent the number of orders received during a certain day.\n",
        "Assign 102 to x. Create a program that prints \"A busy day\" if x is greater than 100, and \"A calm day\" otherwise. Change x to 97 to verify your code works properly."
      ]
    },
    {
      "cell_type": "code",
      "metadata": {
        "collapsed": true,
        "id": "Ii8GwiCqFecZ",
        "colab": {
          "base_uri": "https://localhost:8080/"
        },
        "outputId": "efa31eb9-9385-4581-e07f-37f69728c55f"
      },
      "source": [
        "\n",
        "if x<100:\n",
        "  print(\"A calm day \")\n",
        "else :\n",
        "  print(\"A busy day\")\n",
        "  x=97"
      ],
      "execution_count": null,
      "outputs": [
        {
          "output_type": "stream",
          "name": "stdout",
          "text": [
            "A calm day \n"
          ]
        }
      ]
    },
    {
      "cell_type": "markdown",
      "metadata": {
        "id": "omqTk4P7FecZ"
      },
      "source": [
        "## Else if, for Brief - ELIF"
      ]
    },
    {
      "cell_type": "markdown",
      "metadata": {
        "id": "Qfk4XefPFeca"
      },
      "source": [
        "Assign 200 to x.\n",
        "Create the following piece of code:\n",
        "If x > 200, print out \"Big\";\n",
        "If x > 100 and x <= 200, print out \"Average\";\n",
        "and If x <= 100, print out \"Small\".\n",
        "Use the If, Elif, and Else keywords in your code."
      ]
    },
    {
      "cell_type": "code",
      "metadata": {
        "collapsed": true,
        "id": "KQ1pPodNFecb",
        "colab": {
          "base_uri": "https://localhost:8080/",
          "height": 135
        },
        "outputId": "14e6e369-27b9-46ed-c2d3-592c467dac56"
      },
      "source": [
        "x=200\n",
        "if x >200 :\n",
        "  print(\"BIG!\")\n",
        "elif x>100 and x<=200:\n",
        "  print(\"Average\")\n",
        "else x<=100:\n",
        "  print(\"small\")"
      ],
      "execution_count": null,
      "outputs": [
        {
          "output_type": "error",
          "ename": "SyntaxError",
          "evalue": "ignored",
          "traceback": [
            "\u001b[0;36m  File \u001b[0;32m\"<ipython-input-50-1442464e056b>\"\u001b[0;36m, line \u001b[0;32m6\u001b[0m\n\u001b[0;31m    else x<=100:\u001b[0m\n\u001b[0m         ^\u001b[0m\n\u001b[0;31mSyntaxError\u001b[0m\u001b[0;31m:\u001b[0m invalid syntax\n"
          ]
        }
      ]
    },
    {
      "cell_type": "markdown",
      "metadata": {
        "id": "UQJSbpm7Fecb"
      },
      "source": [
        "Change the initial value of x to see how your output will vary."
      ]
    },
    {
      "cell_type": "markdown",
      "metadata": {
        "id": "YKSbMjzkFece"
      },
      "source": [
        "******"
      ]
    },
    {
      "cell_type": "markdown",
      "metadata": {
        "id": "lIcIZ-NkFece"
      },
      "source": [
        "Keep the first two conditions of the previous code. Add a new ELIF statement, so that, eventually, the program prints \"Small\" if x >= 0 and x <= 100, and \"Negative\" if x < 0.\n",
        "Let x carry the value of 50 and then of -50 to check if your code is correct."
      ]
    },
    {
      "cell_type": "code",
      "metadata": {
        "collapsed": true,
        "id": "Q1EpyDeEFecf"
      },
      "source": [],
      "execution_count": null,
      "outputs": []
    },
    {
      "cell_type": "markdown",
      "metadata": {
        "id": "yCkez7YyFecf"
      },
      "source": [
        "<hr style=\"border:5px solid #108999\"> </hr>"
      ]
    },
    {
      "cell_type": "markdown",
      "metadata": {
        "id": "iMiTOEngFecg"
      },
      "source": [
        "# Functions <hr style=\"border:4.5px solid #108999\"> </hr>"
      ]
    },
    {
      "cell_type": "markdown",
      "metadata": {
        "id": "PlZqo0ivFecg"
      },
      "source": [
        "## Creating a Function with a Parameter"
      ]
    },
    {
      "cell_type": "markdown",
      "metadata": {
        "id": "d5SZgzW-Fech"
      },
      "source": [
        "Define a function that returns a value equal to its argument multiplied by 2."
      ]
    },
    {
      "cell_type": "code",
      "metadata": {
        "collapsed": true,
        "id": "JULIWNjLFech",
        "colab": {
          "base_uri": "https://localhost:8080/"
        },
        "outputId": "a192910c-dd31-4d96-f442-ceda7e389d3b"
      },
      "source": [
        "def mul(x):\n",
        "  return x*2\n",
        "\n",
        "mul(8)"
      ],
      "execution_count": null,
      "outputs": [
        {
          "output_type": "execute_result",
          "data": {
            "text/plain": [
              "16"
            ]
          },
          "metadata": {},
          "execution_count": 4
        }
      ]
    },
    {
      "cell_type": "markdown",
      "metadata": {
        "id": "aSsdvxjuFech"
      },
      "source": [
        "Define a funciton that returns a float value equal to its argument divided by 2."
      ]
    },
    {
      "cell_type": "code",
      "metadata": {
        "collapsed": true,
        "id": "Ye5I5cdlFeci",
        "colab": {
          "base_uri": "https://localhost:8080/"
        },
        "outputId": "1a24f220-bc8d-4a41-a9ec-460cfae9b722"
      },
      "source": [
        "def flt(x):\n",
        "  return float(x*2)\n",
        "flt(3)"
      ],
      "execution_count": null,
      "outputs": [
        {
          "output_type": "execute_result",
          "data": {
            "text/plain": [
              "6.0"
            ]
          },
          "metadata": {},
          "execution_count": 9
        }
      ]
    },
    {
      "cell_type": "markdown",
      "metadata": {
        "id": "ARraCZPnFeci"
      },
      "source": [
        "## Another Way to Define a Function"
      ]
    },
    {
      "cell_type": "markdown",
      "metadata": {
        "id": "qkXU5KKTFecj"
      },
      "source": [
        "Define a function that states the value of the argument accompanied by the phrase \"Raised to the power of 2:\" and returns a value equal to its argument raised to the power of 2. This time, use a new variable, called \"result\", in the body of the Function.\n",
        "Call the function with some argument to verify it works properly.\n",
        "\n",
        "*Hint: Your knowledge about stating multiple elements on a line can be of great help in solving this exercise!*"
      ]
    },
    {
      "cell_type": "code",
      "metadata": {
        "collapsed": true,
        "id": "rgUlRW3wFecj",
        "colab": {
          "base_uri": "https://localhost:8080/"
        },
        "outputId": "c69c6a53-1a7e-4d8a-a0d2-8f10c6f04392"
      },
      "source": [
        "def power(result):\n",
        "  return result**2\n",
        "  print(\"Raised to the power of 2:\")\n",
        "power(6)"
      ],
      "execution_count": null,
      "outputs": [
        {
          "output_type": "execute_result",
          "data": {
            "text/plain": [
              "36"
            ]
          },
          "metadata": {},
          "execution_count": 17
        }
      ]
    },
    {
      "cell_type": "markdown",
      "metadata": {
        "id": "bf2r8siNFecj"
      },
      "source": [
        "## Using a Function in Another Function"
      ]
    },
    {
      "cell_type": "markdown",
      "metadata": {
        "id": "6KSxDphoFeck"
      },
      "source": [
        "Define a function that adds 5 to the parameter. Then, define another function that will multiply the newly obtained number by 3.\n",
        "Verify your code was correct by calling the second function with an argument of 5.\n",
        "Was your output equal to 30?"
      ]
    },
    {
      "cell_type": "code",
      "metadata": {
        "collapsed": true,
        "id": "-4I7uOl-Feck",
        "colab": {
          "base_uri": "https://localhost:8080/"
        },
        "outputId": "230c6951-2102-4eab-8421-bf084a0d5d01"
      },
      "source": [
        "def new1(x):\n",
        "  return x+5\n",
        "def new2(x):\n",
        "  return new1(x)*3\n",
        "new2(5)"
      ],
      "execution_count": null,
      "outputs": [
        {
          "output_type": "execute_result",
          "data": {
            "text/plain": [
              "30"
            ]
          },
          "metadata": {},
          "execution_count": 27
        }
      ]
    },
    {
      "cell_type": "markdown",
      "metadata": {
        "id": "oyJnQ47NFecl"
      },
      "source": [
        "## Combining Conditional Statements and Functions"
      ]
    },
    {
      "cell_type": "markdown",
      "metadata": {
        "id": "fqYE32h5Fecl"
      },
      "source": [
        "Define a function, called **compare_the_two()**, with two arguments. If the first one is greater than the second one, let it print \"Greater\". If the second one is greater, it should print \"Less\". Let it print \"Equal\" if the two values are the same number."
      ]
    },
    {
      "cell_type": "code",
      "metadata": {
        "collapsed": true,
        "id": "swPGq42WFecm",
        "colab": {
          "base_uri": "https://localhost:8080/"
        },
        "outputId": "cbf832f4-8af1-4360-96be-154972286f36"
      },
      "source": [
        "def compare_the_two(a,b):\n",
        "  if a>b:\n",
        "    print(\"Greater\")\n",
        "  elif a==b:\n",
        "     print(\"Equal\")\n",
        "  else:\n",
        "    print(\"Less\")\n",
        "compare_the_two(49,50)"
      ],
      "execution_count": null,
      "outputs": [
        {
          "output_type": "stream",
          "name": "stdout",
          "text": [
            "Less\n"
          ]
        }
      ]
    },
    {
      "cell_type": "markdown",
      "metadata": {
        "id": "AY5lSSjhFecn"
      },
      "source": [
        "## Notable Built-In Functions in Python"
      ]
    },
    {
      "cell_type": "markdown",
      "metadata": {
        "id": "VM92Shd2Fecn"
      },
      "source": [
        "Obtain the maximum number among the values 25, 65, 890, and 15."
      ]
    },
    {
      "cell_type": "code",
      "metadata": {
        "collapsed": true,
        "id": "hy6B_YHOFecn",
        "colab": {
          "base_uri": "https://localhost:8080/"
        },
        "outputId": "ac87666e-2ea1-45d1-9b5b-7debeb6fd35d"
      },
      "source": [
        "\n",
        "max([25, 65, 890,15])"
      ],
      "execution_count": null,
      "outputs": [
        {
          "output_type": "execute_result",
          "data": {
            "text/plain": [
              "890"
            ]
          },
          "metadata": {},
          "execution_count": 35
        }
      ]
    },
    {
      "cell_type": "markdown",
      "metadata": {
        "id": "wnJ0fzLWFeco"
      },
      "source": [
        "Obtain the minimum number among the values 25, 65, 890, and 15."
      ]
    },
    {
      "cell_type": "code",
      "metadata": {
        "collapsed": true,
        "id": "sUqNtJ-tFeco",
        "colab": {
          "base_uri": "https://localhost:8080/"
        },
        "outputId": "340ef0aa-2baf-4197-9d0f-d9658f6f773b"
      },
      "source": [
        "min([ 25, 65, 890,15])"
      ],
      "execution_count": null,
      "outputs": [
        {
          "output_type": "execute_result",
          "data": {
            "text/plain": [
              "15"
            ]
          },
          "metadata": {},
          "execution_count": 36
        }
      ]
    },
    {
      "cell_type": "markdown",
      "metadata": {
        "id": "9AkfXaPgFec1"
      },
      "source": [
        "Find the absolute value of -100"
      ]
    },
    {
      "cell_type": "code",
      "metadata": {
        "collapsed": true,
        "id": "gSXyCKYKFec2",
        "colab": {
          "base_uri": "https://localhost:8080/"
        },
        "outputId": "495f94f9-1ac9-451b-c815-56efae07e317"
      },
      "source": [
        "abs(-100)"
      ],
      "execution_count": null,
      "outputs": [
        {
          "output_type": "execute_result",
          "data": {
            "text/plain": [
              "100"
            ]
          },
          "metadata": {},
          "execution_count": 37
        }
      ]
    },
    {
      "cell_type": "markdown",
      "metadata": {
        "id": "94eX8XZDFec2"
      },
      "source": [
        "Round the value of 55.5. Did you obtain 56.0?"
      ]
    },
    {
      "cell_type": "code",
      "metadata": {
        "collapsed": true,
        "id": "rR5mb1stFec3",
        "colab": {
          "base_uri": "https://localhost:8080/"
        },
        "outputId": "80076536-9d97-4774-ca77-96e1b787f44b"
      },
      "source": [
        "round(55.5,0)"
      ],
      "execution_count": null,
      "outputs": [
        {
          "output_type": "execute_result",
          "data": {
            "text/plain": [
              "56.0"
            ]
          },
          "metadata": {},
          "execution_count": 42
        }
      ]
    },
    {
      "cell_type": "markdown",
      "metadata": {
        "id": "mNc1xmtLFec4"
      },
      "source": [
        "Round 35.56789 to the third digit."
      ]
    },
    {
      "cell_type": "code",
      "metadata": {
        "collapsed": true,
        "id": "XwgKypeTFec5",
        "colab": {
          "base_uri": "https://localhost:8080/"
        },
        "outputId": "d51ad4f8-6ecf-41b5-d07f-1c4efcd07b1b"
      },
      "source": [
        "round(35.56789,3)"
      ],
      "execution_count": null,
      "outputs": [
        {
          "output_type": "execute_result",
          "data": {
            "text/plain": [
              "35.568"
            ]
          },
          "metadata": {},
          "execution_count": 39
        }
      ]
    },
    {
      "cell_type": "markdown",
      "metadata": {
        "id": "5wN61aEGFec5"
      },
      "source": [
        "Find the sum of all elements in the provided list, called \"Numbers\"."
      ]
    },
    {
      "cell_type": "code",
      "metadata": {
        "collapsed": true,
        "id": "UbHM3DzcFec6"
      },
      "source": [
        "Numbers = [1, 5, 64, 24.5]"
      ],
      "execution_count": null,
      "outputs": []
    },
    {
      "cell_type": "code",
      "metadata": {
        "collapsed": true,
        "id": "a0BBlriZFec6",
        "colab": {
          "base_uri": "https://localhost:8080/"
        },
        "outputId": "91dd1c83-bb44-4a3f-a272-bbafd62b3642"
      },
      "source": [
        "sum(Numbers)"
      ],
      "execution_count": null,
      "outputs": [
        {
          "output_type": "execute_result",
          "data": {
            "text/plain": [
              "94.5"
            ]
          },
          "metadata": {},
          "execution_count": 44
        }
      ]
    },
    {
      "cell_type": "markdown",
      "metadata": {
        "id": "XZg6L95dFec7"
      },
      "source": [
        "Use a built-in function to raise 10 to the power of 3."
      ]
    },
    {
      "cell_type": "code",
      "metadata": {
        "collapsed": true,
        "id": "bUundeOLFec8",
        "colab": {
          "base_uri": "https://localhost:8080/"
        },
        "outputId": "55e8fb3f-be31-4bee-ed76-7f7e2fbf150f"
      },
      "source": [
        "pow(10,3)"
      ],
      "execution_count": null,
      "outputs": [
        {
          "output_type": "execute_result",
          "data": {
            "text/plain": [
              "1000"
            ]
          },
          "metadata": {},
          "execution_count": 45
        }
      ]
    },
    {
      "cell_type": "markdown",
      "metadata": {
        "id": "62_uvddVFec8"
      },
      "source": [
        "How many characters are there in the word \"Elephant\"?"
      ]
    },
    {
      "cell_type": "code",
      "metadata": {
        "collapsed": true,
        "id": "tYFsfqsKFec8",
        "colab": {
          "base_uri": "https://localhost:8080/"
        },
        "outputId": "b8712207-b195-490e-b006-2b33cbe1885a"
      },
      "source": [
        "len(\"Elephant\")"
      ],
      "execution_count": null,
      "outputs": [
        {
          "output_type": "execute_result",
          "data": {
            "text/plain": [
              "8"
            ]
          },
          "metadata": {},
          "execution_count": 46
        }
      ]
    },
    {
      "cell_type": "markdown",
      "metadata": {
        "id": "elCjvFSWFec9"
      },
      "source": [
        "Create a function, called \"distance_from_zero\", that returns the absolute value of a provided single argument and prints a statement \"Not Possible\" if the argument provided is not a number.\n",
        "Call the funtion with the values of -10 and \"cat\" to verify it works correctly."
      ]
    },
    {
      "cell_type": "code",
      "metadata": {
        "collapsed": true,
        "id": "lw2CUoYDFec-"
      },
      "source": [
        "def distance_from_zero(v):\n",
        "  if type(v) == \"str\":\n",
        "    print(\"Not Possible\")\n",
        "    return v\n",
        "\n",
        "distance_from_zero=\"sa\"\n"
      ],
      "execution_count": null,
      "outputs": []
    },
    {
      "cell_type": "code",
      "metadata": {
        "collapsed": true,
        "id": "LRkVK3tCFec_"
      },
      "source": [],
      "execution_count": null,
      "outputs": []
    },
    {
      "cell_type": "code",
      "metadata": {
        "collapsed": true,
        "id": "aPnCANYwFec_"
      },
      "source": [],
      "execution_count": null,
      "outputs": []
    },
    {
      "cell_type": "markdown",
      "metadata": {
        "id": "N5ZCTTyjFedA"
      },
      "source": [
        "<hr style=\"border:5px solid #108999\"> </hr>"
      ]
    },
    {
      "cell_type": "markdown",
      "metadata": {
        "id": "zOIa5OLQFedA"
      },
      "source": [
        "# Sequences <hr style=\"border:4.5px solid #108999\"> </hr>"
      ]
    },
    {
      "cell_type": "markdown",
      "metadata": {
        "id": "obCm1zDbFedB"
      },
      "source": [
        "## Lists"
      ]
    },
    {
      "cell_type": "markdown",
      "metadata": {
        "id": "wpNxCu8AFedC"
      },
      "source": [
        "Create a list, called \"Numbers\". Let it contain the numbers 10, 25, 40, and 50."
      ]
    },
    {
      "cell_type": "code",
      "metadata": {
        "collapsed": true,
        "id": "xXsxfmnRFedD"
      },
      "source": [],
      "execution_count": null,
      "outputs": []
    },
    {
      "cell_type": "markdown",
      "metadata": {
        "id": "iyXHFDX0FedE"
      },
      "source": [
        "Print the element at index 2 from the list."
      ]
    },
    {
      "cell_type": "code",
      "metadata": {
        "collapsed": true,
        "id": "5jTwNrsGFedF"
      },
      "source": [],
      "execution_count": null,
      "outputs": []
    },
    {
      "cell_type": "markdown",
      "metadata": {
        "id": "YV7IoMATFedG"
      },
      "source": [
        "Print the 0th element."
      ]
    },
    {
      "cell_type": "code",
      "metadata": {
        "collapsed": true,
        "id": "4bhm1PogFedG"
      },
      "source": [],
      "execution_count": null,
      "outputs": []
    },
    {
      "cell_type": "markdown",
      "metadata": {
        "id": "be9jxTRfFedH"
      },
      "source": [
        "Print the third-to-last element using a minus sign in the brackets."
      ]
    },
    {
      "cell_type": "code",
      "metadata": {
        "collapsed": true,
        "id": "G9X2PiGGFedH"
      },
      "source": [],
      "execution_count": null,
      "outputs": []
    },
    {
      "cell_type": "markdown",
      "metadata": {
        "id": "xeQPsaB1FedH"
      },
      "source": [
        "Substitute the number 10 with the number 15."
      ]
    },
    {
      "cell_type": "code",
      "metadata": {
        "collapsed": true,
        "id": "qYke66N8FedI"
      },
      "source": [],
      "execution_count": null,
      "outputs": []
    },
    {
      "cell_type": "markdown",
      "metadata": {
        "id": "gkpzglsoFedI"
      },
      "source": [
        "Delete the number 25 from the Numbers list."
      ]
    },
    {
      "cell_type": "code",
      "metadata": {
        "collapsed": true,
        "id": "9J_5CgCtFedI"
      },
      "source": [],
      "execution_count": null,
      "outputs": []
    },
    {
      "cell_type": "markdown",
      "metadata": {
        "id": "GxiVMwagFedJ"
      },
      "source": [
        "## Help Yourself with Methods"
      ]
    },
    {
      "cell_type": "markdown",
      "metadata": {
        "id": "aecXL694FedJ"
      },
      "source": [
        "Append the number 100 to the Numbers list."
      ]
    },
    {
      "cell_type": "code",
      "metadata": {
        "collapsed": true,
        "id": "i2aqQCEmFedK"
      },
      "source": [
        "Numbers = [15, 40, 50]"
      ],
      "execution_count": null,
      "outputs": []
    },
    {
      "cell_type": "code",
      "metadata": {
        "collapsed": true,
        "id": "ZBbU2AbiFedK"
      },
      "source": [],
      "execution_count": null,
      "outputs": []
    },
    {
      "cell_type": "markdown",
      "metadata": {
        "id": "1LrL5S7RFedK"
      },
      "source": [
        "With the help of the \"extend method\", add the numbers 115 an 140 to the list."
      ]
    },
    {
      "cell_type": "code",
      "metadata": {
        "collapsed": true,
        "id": "-OFrahZbFedL"
      },
      "source": [],
      "execution_count": null,
      "outputs": []
    },
    {
      "cell_type": "markdown",
      "metadata": {
        "id": "eYD97lZDFedL"
      },
      "source": [
        "Print a statement, saying \"The fourth element of the Numbers list is:\" and then designate the value of the fourth element. Use a trailing comma."
      ]
    },
    {
      "cell_type": "code",
      "metadata": {
        "collapsed": true,
        "id": "exyzbaaxFedL"
      },
      "source": [],
      "execution_count": null,
      "outputs": []
    },
    {
      "cell_type": "markdown",
      "metadata": {
        "id": "RZxa9nH9FedM"
      },
      "source": [
        "How many elements are there in the Numbers list?"
      ]
    },
    {
      "cell_type": "code",
      "metadata": {
        "collapsed": true,
        "id": "sksfBv7ZFedM"
      },
      "source": [],
      "execution_count": null,
      "outputs": []
    },
    {
      "cell_type": "markdown",
      "metadata": {
        "id": "zRxifoovFedM"
      },
      "source": [
        "## List Slicing"
      ]
    },
    {
      "cell_type": "code",
      "metadata": {
        "id": "1AUm0J6rFedN"
      },
      "source": [
        "Numbers = [15, 40, 50, 100, 115, 140]"
      ],
      "execution_count": null,
      "outputs": []
    },
    {
      "cell_type": "markdown",
      "metadata": {
        "id": "0pWa8oBxFedO"
      },
      "source": [
        "Using list slicing, obtain the numbers 100 and 115."
      ]
    },
    {
      "cell_type": "code",
      "metadata": {
        "collapsed": true,
        "id": "oP4j0tYVFedO"
      },
      "source": [],
      "execution_count": null,
      "outputs": []
    },
    {
      "cell_type": "markdown",
      "metadata": {
        "id": "k75zEZ_DFedP"
      },
      "source": [
        "Using slicing, extract the first four elements from the list."
      ]
    },
    {
      "cell_type": "code",
      "metadata": {
        "collapsed": true,
        "id": "Fs_QUrhDFedP"
      },
      "source": [],
      "execution_count": null,
      "outputs": []
    },
    {
      "cell_type": "markdown",
      "metadata": {
        "id": "fyxpZJToFedQ"
      },
      "source": [
        "Using slicing, extract all the elements from the list from the 3rd position onwards."
      ]
    },
    {
      "cell_type": "code",
      "metadata": {
        "collapsed": true,
        "id": "lUWVn0eaFedQ"
      },
      "source": [],
      "execution_count": null,
      "outputs": []
    },
    {
      "cell_type": "markdown",
      "metadata": {
        "id": "U1TtfFBaFedQ"
      },
      "source": [
        "Using slicing, extract the last 4 elements from the list."
      ]
    },
    {
      "cell_type": "code",
      "metadata": {
        "collapsed": true,
        "id": "PSqEG_bCFedR"
      },
      "source": [],
      "execution_count": null,
      "outputs": []
    },
    {
      "cell_type": "markdown",
      "metadata": {
        "id": "qJCgrFphFedR"
      },
      "source": [
        "Which is the position of the value 15?"
      ]
    },
    {
      "cell_type": "code",
      "metadata": {
        "collapsed": true,
        "id": "sCVdvxUpFedR"
      },
      "source": [],
      "execution_count": null,
      "outputs": []
    },
    {
      "cell_type": "markdown",
      "metadata": {
        "id": "YFH-EOHvFedS"
      },
      "source": [
        "Create a list, called \"Two_Numbers\". Let its elements be the values 1 and 2. Then, create a new one, named \"All_Numbers\", that will containt both the \"Numbers\" and the \"Two_Numbers\" lists."
      ]
    },
    {
      "cell_type": "code",
      "metadata": {
        "collapsed": true,
        "id": "N2OqnBe8FedS"
      },
      "source": [],
      "execution_count": null,
      "outputs": []
    },
    {
      "cell_type": "markdown",
      "metadata": {
        "id": "GUenhLcrFedS"
      },
      "source": [
        "Sort all the numbers in the \"Numbers\" list from the largest to the smallest."
      ]
    },
    {
      "cell_type": "code",
      "metadata": {
        "collapsed": true,
        "id": "HDUXJX93FedT"
      },
      "source": [],
      "execution_count": null,
      "outputs": []
    },
    {
      "cell_type": "markdown",
      "metadata": {
        "id": "Y4L4QmJ4FedT"
      },
      "source": [
        "## Tuples"
      ]
    },
    {
      "cell_type": "markdown",
      "metadata": {
        "collapsed": true,
        "id": "iI7uJ-d-FedU"
      },
      "source": [
        "Create a tuple, called \"Cars\", with elements \"BMW\", \"Dodge\", and \"Ford\"."
      ]
    },
    {
      "cell_type": "code",
      "metadata": {
        "collapsed": true,
        "id": "-vRGuzsWFedU"
      },
      "source": [],
      "execution_count": null,
      "outputs": []
    },
    {
      "cell_type": "markdown",
      "metadata": {
        "id": "y3eWpguMFedU"
      },
      "source": [
        "Access the second element of this tuple."
      ]
    },
    {
      "cell_type": "code",
      "metadata": {
        "collapsed": true,
        "id": "PPh1vg8EFedU"
      },
      "source": [],
      "execution_count": null,
      "outputs": []
    },
    {
      "cell_type": "markdown",
      "metadata": {
        "id": "A58BH_qaFedV"
      },
      "source": [
        "Call a method that would allow you to extract the provided name and age separately. Then print the \"name\" and \"age\" values to see if you worked correctly."
      ]
    },
    {
      "cell_type": "code",
      "metadata": {
        "id": "eslIYX_WFedV"
      },
      "source": [
        "name, age = 'Peter,24'"
      ],
      "execution_count": null,
      "outputs": []
    },
    {
      "cell_type": "code",
      "metadata": {
        "collapsed": true,
        "id": "oUkH0EUGFedV"
      },
      "source": [],
      "execution_count": null,
      "outputs": []
    },
    {
      "cell_type": "markdown",
      "metadata": {
        "id": "7guZNAEbFedW"
      },
      "source": [
        "Create a function that takes as arguments the two values of a rectangle and then returns the Area and the Perimeter of the rectangle.\n",
        "Call the function with arguments 2 and 10 to verify it worked correctly."
      ]
    },
    {
      "cell_type": "code",
      "metadata": {
        "collapsed": true,
        "id": "0f2Dr1QWFedW"
      },
      "source": [],
      "execution_count": null,
      "outputs": []
    },
    {
      "cell_type": "markdown",
      "metadata": {
        "id": "BvCmD9fpFedW"
      },
      "source": [
        "## Dictionaries"
      ]
    },
    {
      "cell_type": "markdown",
      "metadata": {
        "id": "p7Kpi94OFedX"
      },
      "source": [
        "*Suggested Answers follow (usually there are multiple ways to solve a problem in Python).*"
      ]
    },
    {
      "cell_type": "markdown",
      "metadata": {
        "id": "a8dcLL9wFedX"
      },
      "source": [
        "This is the menu of a close-by restaurant:"
      ]
    },
    {
      "cell_type": "code",
      "metadata": {
        "id": "3yJS19lzFedX"
      },
      "source": [
        "Menu = {'meal_1':'Spaghetti', 'meal_2':'Fries', 'meal_3':'Hamburger', 'meal_4':'Lasagna'}"
      ],
      "execution_count": null,
      "outputs": []
    },
    {
      "cell_type": "markdown",
      "metadata": {
        "id": "zDV1TKOnFedY"
      },
      "source": [
        "What is the second meal in the list?"
      ]
    },
    {
      "cell_type": "code",
      "metadata": {
        "collapsed": true,
        "id": "9eH_3TlrFedY"
      },
      "source": [],
      "execution_count": null,
      "outputs": []
    },
    {
      "cell_type": "markdown",
      "metadata": {
        "id": "XgLBII1_FedZ"
      },
      "source": [
        "Add a new meal - \"Soup\"."
      ]
    },
    {
      "cell_type": "code",
      "metadata": {
        "collapsed": true,
        "id": "5nD4Tz5xFedZ"
      },
      "source": [],
      "execution_count": null,
      "outputs": []
    },
    {
      "cell_type": "markdown",
      "metadata": {
        "id": "fuMDKyLjFeda"
      },
      "source": [
        "Replace the Hamburger with a Cheeseburger."
      ]
    },
    {
      "cell_type": "code",
      "metadata": {
        "collapsed": true,
        "id": "j58mBOyZFeda"
      },
      "source": [],
      "execution_count": null,
      "outputs": []
    },
    {
      "cell_type": "markdown",
      "metadata": {
        "id": "eyUCIVjgFeda"
      },
      "source": [
        "Attach the Desserts list in the form of a sixth meal."
      ]
    },
    {
      "cell_type": "code",
      "metadata": {
        "id": "lnNKFYRKFedb"
      },
      "source": [
        "Dessert = ['Pancakes', 'Ice-cream', 'Tiramisu']"
      ],
      "execution_count": null,
      "outputs": []
    },
    {
      "cell_type": "code",
      "metadata": {
        "collapsed": true,
        "id": "7Ikgg5JRFedb"
      },
      "source": [],
      "execution_count": null,
      "outputs": []
    },
    {
      "cell_type": "markdown",
      "metadata": {
        "id": "_doUcP8MFedb"
      },
      "source": [
        "Create a new dictionary that contains the first five meals as keys and assign the following five values as prices (in dollars):\n",
        "10, 5, 8, 12, 5.\n",
        "Start by *Price_list = {}*."
      ]
    },
    {
      "cell_type": "code",
      "metadata": {
        "collapsed": true,
        "id": "kL-NzVGbFedc"
      },
      "source": [],
      "execution_count": null,
      "outputs": []
    },
    {
      "cell_type": "markdown",
      "metadata": {
        "id": "gd9_Ia_6Fedc"
      },
      "source": [
        "Use the *.get()* method to check the price of the Spaghetti."
      ]
    },
    {
      "cell_type": "code",
      "metadata": {
        "collapsed": true,
        "id": "TVWtTjUQFedc"
      },
      "source": [],
      "execution_count": null,
      "outputs": []
    },
    {
      "cell_type": "markdown",
      "metadata": {
        "id": "NI5ziwmkFedd"
      },
      "source": [
        "<hr style=\"border:5px solid #108999\"> </hr>"
      ]
    },
    {
      "cell_type": "markdown",
      "metadata": {
        "id": "ZV5Mp8hYFedd"
      },
      "source": [
        "# Iteration <hr style=\"border:4.5px solid #108999\"> </hr>"
      ]
    },
    {
      "cell_type": "markdown",
      "metadata": {
        "id": "WYl2AeaSFedd"
      },
      "source": [
        "## For Loops"
      ]
    },
    {
      "cell_type": "markdown",
      "metadata": {
        "id": "zknPe0rsFede"
      },
      "source": [
        "Create a For loop that prints every digit on a new line."
      ]
    },
    {
      "cell_type": "code",
      "metadata": {
        "collapsed": true,
        "id": "RDljHG3wFede"
      },
      "source": [
        "digits = [0,1,2,3,4,5,6,7,8,9]"
      ],
      "execution_count": null,
      "outputs": []
    },
    {
      "cell_type": "code",
      "metadata": {
        "collapsed": true,
        "id": "x0WPOI4wFedf"
      },
      "source": [],
      "execution_count": null,
      "outputs": []
    },
    {
      "cell_type": "markdown",
      "metadata": {
        "id": "nCcImbSHFedg"
      },
      "source": [
        "Adjust the code, so the digits are all printed on the same line."
      ]
    },
    {
      "cell_type": "code",
      "metadata": {
        "collapsed": true,
        "id": "SU5dK8TNFedg"
      },
      "source": [],
      "execution_count": null,
      "outputs": []
    },
    {
      "cell_type": "markdown",
      "metadata": {
        "id": "nXwN2AwUFedg"
      },
      "source": [
        "## While Loops and Incrementing"
      ]
    },
    {
      "cell_type": "markdown",
      "metadata": {
        "id": "UxQ-gu4iFedh"
      },
      "source": [
        "*Suggested Answers follow (usually there are multiple ways to solve a problem in Python).*"
      ]
    },
    {
      "cell_type": "markdown",
      "metadata": {
        "id": "OTYgQPgEFedh"
      },
      "source": [
        "Create a while loop that will print all odd numbers from 0 to 30 on the same row.\n",
        "<br />\n",
        "*Hint: There are two ways in which you can create the odd values!*"
      ]
    },
    {
      "cell_type": "code",
      "metadata": {
        "collapsed": true,
        "id": "K5It-tdgFedh"
      },
      "source": [],
      "execution_count": null,
      "outputs": []
    },
    {
      "cell_type": "markdown",
      "metadata": {
        "id": "E2v3MjRtFedi"
      },
      "source": [
        "## Create Lists with the range() Function"
      ]
    },
    {
      "cell_type": "markdown",
      "metadata": {
        "id": "Ky-NYyT1Fedi"
      },
      "source": [
        "Use the range() function to create a list with all numbers from 1 to 10."
      ]
    },
    {
      "cell_type": "code",
      "metadata": {
        "collapsed": true,
        "id": "gt-SFWA6Fedi"
      },
      "source": [],
      "execution_count": null,
      "outputs": []
    },
    {
      "cell_type": "markdown",
      "metadata": {
        "id": "2ojhZY5CFedj"
      },
      "source": [
        "Use the range() function to create a list with all numbers from 0 to 19."
      ]
    },
    {
      "cell_type": "code",
      "metadata": {
        "collapsed": true,
        "id": "FDhQkMFdFedj"
      },
      "source": [],
      "execution_count": null,
      "outputs": []
    },
    {
      "cell_type": "markdown",
      "metadata": {
        "id": "tqqe2nlBFedj"
      },
      "source": [
        "Use the range function to create a list with all even numbers from 0 to 30 included."
      ]
    },
    {
      "cell_type": "code",
      "metadata": {
        "collapsed": true,
        "id": "WIHPQlhTFedk"
      },
      "source": [],
      "execution_count": null,
      "outputs": []
    },
    {
      "cell_type": "markdown",
      "metadata": {
        "id": "VD46GosVFedk"
      },
      "source": [
        "## Use Conditional Statements and Loops Together"
      ]
    },
    {
      "cell_type": "markdown",
      "metadata": {
        "id": "G72gtnhJFedk"
      },
      "source": [
        "Create a For loop that will print all the variables from a given list multiplied by 2. Let the list contain all numbers from 1 to 10. Create it with the help of the range() function."
      ]
    },
    {
      "cell_type": "code",
      "metadata": {
        "collapsed": true,
        "id": "SQfeALaBFedl"
      },
      "source": [],
      "execution_count": null,
      "outputs": []
    },
    {
      "cell_type": "markdown",
      "metadata": {
        "id": "4Amk3HMWFedl"
      },
      "source": [
        "Create a little program that runs a loop over all values from 1 to 30. Let it print all Odd numbers, and in the place of the even numbers, it should print \"Even\".\n",
        "Help yourself with the range() function to solve this exercise."
      ]
    },
    {
      "cell_type": "code",
      "metadata": {
        "collapsed": true,
        "id": "pvzyAReXFedm"
      },
      "source": [],
      "execution_count": null,
      "outputs": []
    },
    {
      "cell_type": "markdown",
      "metadata": {
        "id": "O5XdmOeMFedm"
      },
      "source": [
        "You have the following list of numbers. Iterate over this list, printing out each list value multiplied by 10.\n",
        "Find two solutions of this problem."
      ]
    },
    {
      "cell_type": "code",
      "metadata": {
        "collapsed": true,
        "id": "EejAhLUTFedm"
      },
      "source": [
        "n = [1,2,3,4,5,6]"
      ],
      "execution_count": null,
      "outputs": []
    },
    {
      "cell_type": "code",
      "metadata": {
        "collapsed": true,
        "id": "jdTuov5PFedn"
      },
      "source": [],
      "execution_count": null,
      "outputs": []
    },
    {
      "cell_type": "code",
      "metadata": {
        "collapsed": true,
        "id": "xqClsvtRFedn"
      },
      "source": [],
      "execution_count": null,
      "outputs": []
    },
    {
      "cell_type": "markdown",
      "metadata": {
        "id": "3_3IQjFuFedn"
      },
      "source": [
        "## All in - Conditional Statements, Functions, and Loops"
      ]
    },
    {
      "cell_type": "markdown",
      "metadata": {
        "id": "CFojp1-BFedo"
      },
      "source": [
        "You are provided with the 'nums' list. Complete the code in the cell that follows. Use a while loop to count the number of values lower than 20.\n",
        "*Hint: This exercise is similar to what we did in the video lecture. You might prefer using the x[item] structure for indicating the value of an element from the list.*"
      ]
    },
    {
      "cell_type": "code",
      "metadata": {
        "collapsed": true,
        "id": "Su2gDJ3MFedo"
      },
      "source": [
        "nums = [1,12,24,31,51,70,100]"
      ],
      "execution_count": null,
      "outputs": []
    },
    {
      "cell_type": "code",
      "metadata": {
        "collapsed": true,
        "id": "D8gAxtonFedp"
      },
      "source": [],
      "execution_count": null,
      "outputs": []
    },
    {
      "cell_type": "markdown",
      "metadata": {
        "id": "jOB4lenrFedp"
      },
      "source": [
        "## Iterating over Dictionaries"
      ]
    },
    {
      "cell_type": "markdown",
      "metadata": {
        "id": "O6dAtHt2Fedq"
      },
      "source": [
        "In this exercise you will use the same dictionaries as the ones we used in the lesson - \"prices\" and \"quantity\". This time, don't just calculate all the money Jan spent. Calculate how much she spent on products with a price of 5 dollars or more."
      ]
    },
    {
      "cell_type": "code",
      "metadata": {
        "collapsed": true,
        "id": "gwhs7T6XFedq"
      },
      "source": [
        "prices = {\n",
        "    \"box_of_spaghetti\" : 4,\n",
        "    \"lasagna\"  : 5,\n",
        "    \"hamburger\" : 2\n",
        "   }\n",
        "quantity = {\n",
        "    \"box_of_spaghetti\" : 6,\n",
        "    \"lasagna\"  : 10,\n",
        "    \"hamburger\" : 0\n",
        "    }\n",
        "\n",
        "money_spent = 0"
      ],
      "execution_count": null,
      "outputs": []
    },
    {
      "cell_type": "code",
      "metadata": {
        "collapsed": true,
        "id": "4QZpFLfdFedr"
      },
      "source": [],
      "execution_count": null,
      "outputs": []
    },
    {
      "cell_type": "markdown",
      "metadata": {
        "id": "9DAeQct1Fedr"
      },
      "source": [
        "And how much did Jan spent on products that cost less than 5 dollars?"
      ]
    },
    {
      "cell_type": "code",
      "metadata": {
        "collapsed": true,
        "id": "hM5q3usPFedr"
      },
      "source": [
        "prices = {\n",
        "    \"box_of_spaghetti\" : 4,\n",
        "    \"lasagna\"  : 5,\n",
        "    \"hamburger\" : 2\n",
        "   }\n",
        "quantity = {\n",
        "    \"box_of_spaghetti\" : 6,\n",
        "    \"lasagna\"  : 10,\n",
        "    \"hamburger\" : 0\n",
        "    }\n",
        "\n",
        "money_spent = 0"
      ],
      "execution_count": null,
      "outputs": []
    },
    {
      "cell_type": "code",
      "metadata": {
        "collapsed": true,
        "id": "7pS4MEl_Feds"
      },
      "source": [],
      "execution_count": null,
      "outputs": []
    }
  ]
}
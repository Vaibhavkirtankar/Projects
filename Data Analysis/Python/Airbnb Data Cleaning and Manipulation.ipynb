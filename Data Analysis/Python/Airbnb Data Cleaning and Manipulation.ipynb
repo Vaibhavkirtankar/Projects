{
  "cells": [
    {
      "cell_type": "markdown",
      "id": "f2900ce9",
      "metadata": {
        "id": "f2900ce9"
      },
      "source": [
        "# PART-1 (Data Cleaning and Manipulation)\n",
        "\n",
        "We will begin by importing the required modules and reading the data file."
      ]
    },
    {
      "cell_type": "code",
      "execution_count": null,
      "id": "82a7ff87-b67e-4670-83b6-5725b6abea96",
      "metadata": {
        "tags": [],
        "id": "82a7ff87-b67e-4670-83b6-5725b6abea96"
      },
      "outputs": [],
      "source": [
        "import numpy as np\n",
        "from sklearn.datasets import load_iris\n",
        "from sklearn import preprocessing\n",
        "import pandas as pd\n",
        "import seaborn as sns\n",
        "from scipy import stats\n",
        "import matplotlib.pyplot as plt\n",
        "%matplotlib inline"
      ]
    },
    {
      "cell_type": "code",
      "execution_count": null,
      "id": "3e33b6df-3ad0-418e-8088-958ddd75adb3",
      "metadata": {
        "tags": [],
        "id": "3e33b6df-3ad0-418e-8088-958ddd75adb3"
      },
      "outputs": [],
      "source": [
        "df = pd.read_csv(\"airbnb_final.csv\")"
      ]
    },
    {
      "cell_type": "code",
      "execution_count": null,
      "id": "ab68d38f-2401-44b3-b8a8-fefb50045393",
      "metadata": {
        "tags": [],
        "colab": {
          "base_uri": "https://localhost:8080/",
          "height": 348
        },
        "id": "ab68d38f-2401-44b3-b8a8-fefb50045393",
        "outputId": "fd3f0e3e-3588-4979-f35e-c41d09388716"
      },
      "outputs": [
        {
          "output_type": "execute_result",
          "data": {
            "text/plain": [
              "     host_id                           neighbourhood  latitude  longitude  \\\n",
              "0     3159.0  Oostelijk Havengebied - Indische Buurt  52.36435    4.94358   \n",
              "1    59484.0                            Centrum-Oost  52.36407    4.89393   \n",
              "2  1100324.0                 De Pijp - Rivierenbuurt  52.35150    4.89656   \n",
              "3   748161.0                                Oud-Oost  52.36420    4.92829   \n",
              "4    97647.0                            Centrum-West  52.38761    4.89188   \n",
              "\n",
              "         room_type  price in $  minimum_nights  availability_365  \\\n",
              "0     Private room        69.0             3.0               7.0   \n",
              "1     Private room       106.0             1.0               0.0   \n",
              "2  Entire home/apt       270.0             4.0               2.0   \n",
              "3  Entire home/apt       200.0             3.0               0.0   \n",
              "4     Private room       137.0             3.0               0.0   \n",
              "\n",
              "  Apartment_type       City  Rating  No_of_bed_rooms  No_of_beds  \\\n",
              "0          Condo  Amsterdam    4.89              1.0         1.0   \n",
              "1      Townhouse  Amsterdam    4.44              1.0         1.0   \n",
              "2    Rental unit  Amsterdam    4.86              3.0         3.0   \n",
              "3    Rental unit  Amsterdam    4.76              1.0         1.0   \n",
              "4      Houseboat  Amsterdam    4.94              1.0         1.0   \n",
              "\n",
              "   No_of_bathrooms Bathroom_type  \n",
              "0              1.5        shared  \n",
              "1              NaN       private  \n",
              "2              1.5       private  \n",
              "3              1.5       private  \n",
              "4              1.5       private  "
            ],
            "text/html": [
              "\n",
              "  <div id=\"df-33b02e53-f04b-4519-a085-2a462844ac27\" class=\"colab-df-container\">\n",
              "    <div>\n",
              "<style scoped>\n",
              "    .dataframe tbody tr th:only-of-type {\n",
              "        vertical-align: middle;\n",
              "    }\n",
              "\n",
              "    .dataframe tbody tr th {\n",
              "        vertical-align: top;\n",
              "    }\n",
              "\n",
              "    .dataframe thead th {\n",
              "        text-align: right;\n",
              "    }\n",
              "</style>\n",
              "<table border=\"1\" class=\"dataframe\">\n",
              "  <thead>\n",
              "    <tr style=\"text-align: right;\">\n",
              "      <th></th>\n",
              "      <th>host_id</th>\n",
              "      <th>neighbourhood</th>\n",
              "      <th>latitude</th>\n",
              "      <th>longitude</th>\n",
              "      <th>room_type</th>\n",
              "      <th>price in $</th>\n",
              "      <th>minimum_nights</th>\n",
              "      <th>availability_365</th>\n",
              "      <th>Apartment_type</th>\n",
              "      <th>City</th>\n",
              "      <th>Rating</th>\n",
              "      <th>No_of_bed_rooms</th>\n",
              "      <th>No_of_beds</th>\n",
              "      <th>No_of_bathrooms</th>\n",
              "      <th>Bathroom_type</th>\n",
              "    </tr>\n",
              "  </thead>\n",
              "  <tbody>\n",
              "    <tr>\n",
              "      <th>0</th>\n",
              "      <td>3159.0</td>\n",
              "      <td>Oostelijk Havengebied - Indische Buurt</td>\n",
              "      <td>52.36435</td>\n",
              "      <td>4.94358</td>\n",
              "      <td>Private room</td>\n",
              "      <td>69.0</td>\n",
              "      <td>3.0</td>\n",
              "      <td>7.0</td>\n",
              "      <td>Condo</td>\n",
              "      <td>Amsterdam</td>\n",
              "      <td>4.89</td>\n",
              "      <td>1.0</td>\n",
              "      <td>1.0</td>\n",
              "      <td>1.5</td>\n",
              "      <td>shared</td>\n",
              "    </tr>\n",
              "    <tr>\n",
              "      <th>1</th>\n",
              "      <td>59484.0</td>\n",
              "      <td>Centrum-Oost</td>\n",
              "      <td>52.36407</td>\n",
              "      <td>4.89393</td>\n",
              "      <td>Private room</td>\n",
              "      <td>106.0</td>\n",
              "      <td>1.0</td>\n",
              "      <td>0.0</td>\n",
              "      <td>Townhouse</td>\n",
              "      <td>Amsterdam</td>\n",
              "      <td>4.44</td>\n",
              "      <td>1.0</td>\n",
              "      <td>1.0</td>\n",
              "      <td>NaN</td>\n",
              "      <td>private</td>\n",
              "    </tr>\n",
              "    <tr>\n",
              "      <th>2</th>\n",
              "      <td>1100324.0</td>\n",
              "      <td>De Pijp - Rivierenbuurt</td>\n",
              "      <td>52.35150</td>\n",
              "      <td>4.89656</td>\n",
              "      <td>Entire home/apt</td>\n",
              "      <td>270.0</td>\n",
              "      <td>4.0</td>\n",
              "      <td>2.0</td>\n",
              "      <td>Rental unit</td>\n",
              "      <td>Amsterdam</td>\n",
              "      <td>4.86</td>\n",
              "      <td>3.0</td>\n",
              "      <td>3.0</td>\n",
              "      <td>1.5</td>\n",
              "      <td>private</td>\n",
              "    </tr>\n",
              "    <tr>\n",
              "      <th>3</th>\n",
              "      <td>748161.0</td>\n",
              "      <td>Oud-Oost</td>\n",
              "      <td>52.36420</td>\n",
              "      <td>4.92829</td>\n",
              "      <td>Entire home/apt</td>\n",
              "      <td>200.0</td>\n",
              "      <td>3.0</td>\n",
              "      <td>0.0</td>\n",
              "      <td>Rental unit</td>\n",
              "      <td>Amsterdam</td>\n",
              "      <td>4.76</td>\n",
              "      <td>1.0</td>\n",
              "      <td>1.0</td>\n",
              "      <td>1.5</td>\n",
              "      <td>private</td>\n",
              "    </tr>\n",
              "    <tr>\n",
              "      <th>4</th>\n",
              "      <td>97647.0</td>\n",
              "      <td>Centrum-West</td>\n",
              "      <td>52.38761</td>\n",
              "      <td>4.89188</td>\n",
              "      <td>Private room</td>\n",
              "      <td>137.0</td>\n",
              "      <td>3.0</td>\n",
              "      <td>0.0</td>\n",
              "      <td>Houseboat</td>\n",
              "      <td>Amsterdam</td>\n",
              "      <td>4.94</td>\n",
              "      <td>1.0</td>\n",
              "      <td>1.0</td>\n",
              "      <td>1.5</td>\n",
              "      <td>private</td>\n",
              "    </tr>\n",
              "  </tbody>\n",
              "</table>\n",
              "</div>\n",
              "    <div class=\"colab-df-buttons\">\n",
              "\n",
              "  <div class=\"colab-df-container\">\n",
              "    <button class=\"colab-df-convert\" onclick=\"convertToInteractive('df-33b02e53-f04b-4519-a085-2a462844ac27')\"\n",
              "            title=\"Convert this dataframe to an interactive table.\"\n",
              "            style=\"display:none;\">\n",
              "\n",
              "  <svg xmlns=\"http://www.w3.org/2000/svg\" height=\"24px\" viewBox=\"0 -960 960 960\">\n",
              "    <path d=\"M120-120v-720h720v720H120Zm60-500h600v-160H180v160Zm220 220h160v-160H400v160Zm0 220h160v-160H400v160ZM180-400h160v-160H180v160Zm440 0h160v-160H620v160ZM180-180h160v-160H180v160Zm440 0h160v-160H620v160Z\"/>\n",
              "  </svg>\n",
              "    </button>\n",
              "\n",
              "  <style>\n",
              "    .colab-df-container {\n",
              "      display:flex;\n",
              "      gap: 12px;\n",
              "    }\n",
              "\n",
              "    .colab-df-convert {\n",
              "      background-color: #E8F0FE;\n",
              "      border: none;\n",
              "      border-radius: 50%;\n",
              "      cursor: pointer;\n",
              "      display: none;\n",
              "      fill: #1967D2;\n",
              "      height: 32px;\n",
              "      padding: 0 0 0 0;\n",
              "      width: 32px;\n",
              "    }\n",
              "\n",
              "    .colab-df-convert:hover {\n",
              "      background-color: #E2EBFA;\n",
              "      box-shadow: 0px 1px 2px rgba(60, 64, 67, 0.3), 0px 1px 3px 1px rgba(60, 64, 67, 0.15);\n",
              "      fill: #174EA6;\n",
              "    }\n",
              "\n",
              "    .colab-df-buttons div {\n",
              "      margin-bottom: 4px;\n",
              "    }\n",
              "\n",
              "    [theme=dark] .colab-df-convert {\n",
              "      background-color: #3B4455;\n",
              "      fill: #D2E3FC;\n",
              "    }\n",
              "\n",
              "    [theme=dark] .colab-df-convert:hover {\n",
              "      background-color: #434B5C;\n",
              "      box-shadow: 0px 1px 3px 1px rgba(0, 0, 0, 0.15);\n",
              "      filter: drop-shadow(0px 1px 2px rgba(0, 0, 0, 0.3));\n",
              "      fill: #FFFFFF;\n",
              "    }\n",
              "  </style>\n",
              "\n",
              "    <script>\n",
              "      const buttonEl =\n",
              "        document.querySelector('#df-33b02e53-f04b-4519-a085-2a462844ac27 button.colab-df-convert');\n",
              "      buttonEl.style.display =\n",
              "        google.colab.kernel.accessAllowed ? 'block' : 'none';\n",
              "\n",
              "      async function convertToInteractive(key) {\n",
              "        const element = document.querySelector('#df-33b02e53-f04b-4519-a085-2a462844ac27');\n",
              "        const dataTable =\n",
              "          await google.colab.kernel.invokeFunction('convertToInteractive',\n",
              "                                                    [key], {});\n",
              "        if (!dataTable) return;\n",
              "\n",
              "        const docLinkHtml = 'Like what you see? Visit the ' +\n",
              "          '<a target=\"_blank\" href=https://colab.research.google.com/notebooks/data_table.ipynb>data table notebook</a>'\n",
              "          + ' to learn more about interactive tables.';\n",
              "        element.innerHTML = '';\n",
              "        dataTable['output_type'] = 'display_data';\n",
              "        await google.colab.output.renderOutput(dataTable, element);\n",
              "        const docLink = document.createElement('div');\n",
              "        docLink.innerHTML = docLinkHtml;\n",
              "        element.appendChild(docLink);\n",
              "      }\n",
              "    </script>\n",
              "  </div>\n",
              "\n",
              "\n",
              "<div id=\"df-0f428934-1133-4b9b-a31b-38dbbda44cac\">\n",
              "  <button class=\"colab-df-quickchart\" onclick=\"quickchart('df-0f428934-1133-4b9b-a31b-38dbbda44cac')\"\n",
              "            title=\"Suggest charts.\"\n",
              "            style=\"display:none;\">\n",
              "\n",
              "<svg xmlns=\"http://www.w3.org/2000/svg\" height=\"24px\"viewBox=\"0 0 24 24\"\n",
              "     width=\"24px\">\n",
              "    <g>\n",
              "        <path d=\"M19 3H5c-1.1 0-2 .9-2 2v14c0 1.1.9 2 2 2h14c1.1 0 2-.9 2-2V5c0-1.1-.9-2-2-2zM9 17H7v-7h2v7zm4 0h-2V7h2v10zm4 0h-2v-4h2v4z\"/>\n",
              "    </g>\n",
              "</svg>\n",
              "  </button>\n",
              "\n",
              "<style>\n",
              "  .colab-df-quickchart {\n",
              "      --bg-color: #E8F0FE;\n",
              "      --fill-color: #1967D2;\n",
              "      --hover-bg-color: #E2EBFA;\n",
              "      --hover-fill-color: #174EA6;\n",
              "      --disabled-fill-color: #AAA;\n",
              "      --disabled-bg-color: #DDD;\n",
              "  }\n",
              "\n",
              "  [theme=dark] .colab-df-quickchart {\n",
              "      --bg-color: #3B4455;\n",
              "      --fill-color: #D2E3FC;\n",
              "      --hover-bg-color: #434B5C;\n",
              "      --hover-fill-color: #FFFFFF;\n",
              "      --disabled-bg-color: #3B4455;\n",
              "      --disabled-fill-color: #666;\n",
              "  }\n",
              "\n",
              "  .colab-df-quickchart {\n",
              "    background-color: var(--bg-color);\n",
              "    border: none;\n",
              "    border-radius: 50%;\n",
              "    cursor: pointer;\n",
              "    display: none;\n",
              "    fill: var(--fill-color);\n",
              "    height: 32px;\n",
              "    padding: 0;\n",
              "    width: 32px;\n",
              "  }\n",
              "\n",
              "  .colab-df-quickchart:hover {\n",
              "    background-color: var(--hover-bg-color);\n",
              "    box-shadow: 0 1px 2px rgba(60, 64, 67, 0.3), 0 1px 3px 1px rgba(60, 64, 67, 0.15);\n",
              "    fill: var(--button-hover-fill-color);\n",
              "  }\n",
              "\n",
              "  .colab-df-quickchart-complete:disabled,\n",
              "  .colab-df-quickchart-complete:disabled:hover {\n",
              "    background-color: var(--disabled-bg-color);\n",
              "    fill: var(--disabled-fill-color);\n",
              "    box-shadow: none;\n",
              "  }\n",
              "\n",
              "  .colab-df-spinner {\n",
              "    border: 2px solid var(--fill-color);\n",
              "    border-color: transparent;\n",
              "    border-bottom-color: var(--fill-color);\n",
              "    animation:\n",
              "      spin 1s steps(1) infinite;\n",
              "  }\n",
              "\n",
              "  @keyframes spin {\n",
              "    0% {\n",
              "      border-color: transparent;\n",
              "      border-bottom-color: var(--fill-color);\n",
              "      border-left-color: var(--fill-color);\n",
              "    }\n",
              "    20% {\n",
              "      border-color: transparent;\n",
              "      border-left-color: var(--fill-color);\n",
              "      border-top-color: var(--fill-color);\n",
              "    }\n",
              "    30% {\n",
              "      border-color: transparent;\n",
              "      border-left-color: var(--fill-color);\n",
              "      border-top-color: var(--fill-color);\n",
              "      border-right-color: var(--fill-color);\n",
              "    }\n",
              "    40% {\n",
              "      border-color: transparent;\n",
              "      border-right-color: var(--fill-color);\n",
              "      border-top-color: var(--fill-color);\n",
              "    }\n",
              "    60% {\n",
              "      border-color: transparent;\n",
              "      border-right-color: var(--fill-color);\n",
              "    }\n",
              "    80% {\n",
              "      border-color: transparent;\n",
              "      border-right-color: var(--fill-color);\n",
              "      border-bottom-color: var(--fill-color);\n",
              "    }\n",
              "    90% {\n",
              "      border-color: transparent;\n",
              "      border-bottom-color: var(--fill-color);\n",
              "    }\n",
              "  }\n",
              "</style>\n",
              "\n",
              "  <script>\n",
              "    async function quickchart(key) {\n",
              "      const quickchartButtonEl =\n",
              "        document.querySelector('#' + key + ' button');\n",
              "      quickchartButtonEl.disabled = true;  // To prevent multiple clicks.\n",
              "      quickchartButtonEl.classList.add('colab-df-spinner');\n",
              "      try {\n",
              "        const charts = await google.colab.kernel.invokeFunction(\n",
              "            'suggestCharts', [key], {});\n",
              "      } catch (error) {\n",
              "        console.error('Error during call to suggestCharts:', error);\n",
              "      }\n",
              "      quickchartButtonEl.classList.remove('colab-df-spinner');\n",
              "      quickchartButtonEl.classList.add('colab-df-quickchart-complete');\n",
              "    }\n",
              "    (() => {\n",
              "      let quickchartButtonEl =\n",
              "        document.querySelector('#df-0f428934-1133-4b9b-a31b-38dbbda44cac button');\n",
              "      quickchartButtonEl.style.display =\n",
              "        google.colab.kernel.accessAllowed ? 'block' : 'none';\n",
              "    })();\n",
              "  </script>\n",
              "</div>\n",
              "    </div>\n",
              "  </div>\n"
            ]
          },
          "metadata": {},
          "execution_count": 55
        }
      ],
      "source": [
        "df.head()"
      ]
    },
    {
      "cell_type": "markdown",
      "id": "c065dce8",
      "metadata": {
        "id": "c065dce8"
      },
      "source": [
        "### 1.1. **What is the shape of the dataset?**"
      ]
    },
    {
      "cell_type": "code",
      "execution_count": null,
      "id": "24dcb753-4172-43d8-b484-081f9ebbbaa2",
      "metadata": {
        "tags": [],
        "colab": {
          "base_uri": "https://localhost:8080/"
        },
        "id": "24dcb753-4172-43d8-b484-081f9ebbbaa2",
        "outputId": "4f50f2f1-729b-4624-adfa-d6734a48cf1f"
      },
      "outputs": [
        {
          "output_type": "execute_result",
          "data": {
            "text/plain": [
              "(7608, 15)"
            ]
          },
          "metadata": {},
          "execution_count": 56
        }
      ],
      "source": [
        "#Code goes here\n",
        "df.shape\n"
      ]
    },
    {
      "cell_type": "markdown",
      "id": "53955378",
      "metadata": {
        "id": "53955378"
      },
      "source": [
        "### 1.2 **Identify the data types of each column. Are there any columns that need type conversion?**"
      ]
    },
    {
      "cell_type": "code",
      "execution_count": null,
      "id": "26c488ac-4992-4e8f-b3bb-e31ce5373c20",
      "metadata": {
        "tags": [],
        "colab": {
          "base_uri": "https://localhost:8080/"
        },
        "id": "26c488ac-4992-4e8f-b3bb-e31ce5373c20",
        "outputId": "3a34f907-3102-4bce-b6fe-e8a16f4b1e08"
      },
      "outputs": [
        {
          "output_type": "execute_result",
          "data": {
            "text/plain": [
              "host_id             float64\n",
              "neighbourhood        object\n",
              "latitude            float64\n",
              "longitude           float64\n",
              "room_type            object\n",
              "price in $          float64\n",
              "minimum_nights      float64\n",
              "availability_365    float64\n",
              "Apartment_type       object\n",
              "City                 object\n",
              "Rating              float64\n",
              "No_of_bed_rooms     float64\n",
              "No_of_beds          float64\n",
              "No_of_bathrooms     float64\n",
              "Bathroom_type        object\n",
              "dtype: object"
            ]
          },
          "metadata": {},
          "execution_count": 57
        }
      ],
      "source": [
        "# 1.2.1 Code to identify data types goes here.\n",
        "df.dtypes\n"
      ]
    },
    {
      "cell_type": "raw",
      "id": "c7021ff2",
      "metadata": {
        "id": "c7021ff2"
      },
      "source": [
        "1.2.2 List the columns that need their type changed.\n"
      ]
    },
    {
      "cell_type": "code",
      "execution_count": null,
      "id": "5fd686a9-b4f8-49af-8b1c-0423374cdbbc",
      "metadata": {
        "tags": [],
        "id": "5fd686a9-b4f8-49af-8b1c-0423374cdbbc"
      },
      "outputs": [],
      "source": [
        "# 1.2.3 change the host_id column to an integer\n",
        "df['host_id'].fillna(0, inplace=True)\n",
        "df['host_id'] = df['host_id'].astype(int)"
      ]
    },
    {
      "cell_type": "markdown",
      "id": "7684276b",
      "metadata": {
        "id": "7684276b"
      },
      "source": [
        "### 1.3. **Are there any duplicate rows in the dataset? If yes, how would you handle them?**"
      ]
    },
    {
      "cell_type": "code",
      "execution_count": null,
      "id": "c1988573-15f6-47b3-acf9-2e57ac5decaf",
      "metadata": {
        "tags": [],
        "colab": {
          "base_uri": "https://localhost:8080/"
        },
        "id": "c1988573-15f6-47b3-acf9-2e57ac5decaf",
        "outputId": "3e77199f-eaa7-49e1-dfa2-a97b7dd3d1e5"
      },
      "outputs": [
        {
          "output_type": "execute_result",
          "data": {
            "text/plain": [
              "0"
            ]
          },
          "metadata": {},
          "execution_count": 59
        }
      ],
      "source": [
        "# 1.3.1 check for duplicate values\n",
        "df.duplicated().sum()\n"
      ]
    },
    {
      "cell_type": "raw",
      "id": "f345e347",
      "metadata": {
        "id": "f345e347"
      },
      "source": [
        "1.3.2 How would you handle duplicate rows?\n",
        "We can Use drop duplicates(), incase if the amount of data we want to remove is small."
      ]
    },
    {
      "cell_type": "markdown",
      "id": "82b7d3f0",
      "metadata": {
        "id": "82b7d3f0"
      },
      "source": [
        "### 1.4. **Check for missing values, How would you handle the missing values in the dataset?**"
      ]
    },
    {
      "cell_type": "code",
      "execution_count": null,
      "id": "40a3d1d9-1d7d-48ed-a30f-70875176eed1",
      "metadata": {
        "tags": [],
        "colab": {
          "base_uri": "https://localhost:8080/"
        },
        "id": "40a3d1d9-1d7d-48ed-a30f-70875176eed1",
        "outputId": "14402308-15fd-4862-914a-ecdc8a6e2b16"
      },
      "outputs": [
        {
          "output_type": "execute_result",
          "data": {
            "text/plain": [
              "host_id                0\n",
              "neighbourhood          0\n",
              "latitude               4\n",
              "longitude              6\n",
              "room_type              0\n",
              "price in $            10\n",
              "minimum_nights         9\n",
              "availability_365       1\n",
              "Apartment_type         1\n",
              "City                   1\n",
              "Rating              1578\n",
              "No_of_bed_rooms      284\n",
              "No_of_beds            17\n",
              "No_of_bathrooms      804\n",
              "Bathroom_type          1\n",
              "dtype: int64"
            ]
          },
          "metadata": {},
          "execution_count": 60
        }
      ],
      "source": [
        "# 1.4.1 check for missing values\n",
        "df.isnull().sum()"
      ]
    },
    {
      "cell_type": "raw",
      "id": "b5e13ce7",
      "metadata": {
        "id": "b5e13ce7"
      },
      "source": [
        "1.4.2 List some ways you might handle columns with missing\n",
        "values.\n",
        "We can use\n",
        "1. Fillna- This allows us to fill null values with mean, median or the values which we want.\n",
        "There are other methods also like interpolation, Random Imputation etc.\n"
      ]
    },
    {
      "cell_type": "code",
      "execution_count": null,
      "id": "1daaf9d4-38d3-4876-b32c-41729b16c03b",
      "metadata": {
        "tags": [],
        "id": "1daaf9d4-38d3-4876-b32c-41729b16c03b"
      },
      "outputs": [],
      "source": [
        "# 1.4.3 Populate missing values in the 'price in $' column with the mean.\n",
        "df['price in $'].fillna(df['price in $'].mean(), inplace=True)"
      ]
    },
    {
      "cell_type": "code",
      "execution_count": null,
      "id": "be21ec60-ba4e-4404-816d-de71c4b9ddd8",
      "metadata": {
        "tags": [],
        "id": "be21ec60-ba4e-4404-816d-de71c4b9ddd8",
        "colab": {
          "base_uri": "https://localhost:8080/"
        },
        "outputId": "46b738e3-31f2-4d05-c168-b0b37bf59cf2"
      },
      "outputs": [
        {
          "output_type": "execute_result",
          "data": {
            "text/plain": [
              "0"
            ]
          },
          "metadata": {},
          "execution_count": 64
        }
      ],
      "source": [
        "# 1.4.4 Verify that there are no more missing values in the 'price in $' column\n",
        "df['price in $'].isnull().sum()"
      ]
    },
    {
      "cell_type": "code",
      "execution_count": null,
      "id": "f1eca599",
      "metadata": {
        "id": "f1eca599"
      },
      "outputs": [],
      "source": [
        "# 1.4.5 Populate all missing values in the City column with \"Amsterdam\"\n",
        "df['City'].fillna(\"Amsterdam\", inplace=True)\n"
      ]
    },
    {
      "cell_type": "code",
      "execution_count": null,
      "id": "f31b257c",
      "metadata": {
        "colab": {
          "base_uri": "https://localhost:8080/"
        },
        "id": "f31b257c",
        "outputId": "3924ead6-26fc-4132-f22e-7c95693590f0"
      },
      "outputs": [
        {
          "output_type": "execute_result",
          "data": {
            "text/plain": [
              "0"
            ]
          },
          "metadata": {},
          "execution_count": 66
        }
      ],
      "source": [
        "# 1.4.6 Verify that there are no more missing values in the 'City' column\n",
        "df['City'].isnull().sum()"
      ]
    },
    {
      "cell_type": "code",
      "execution_count": null,
      "id": "ab8e99e2-77ae-49b3-aa38-e0730af0fae5",
      "metadata": {
        "tags": [],
        "id": "ab8e99e2-77ae-49b3-aa38-e0730af0fae5"
      },
      "outputs": [],
      "source": [
        "# 1.4.7 Drop all remaining rows with missing data. Store the result in a new dataframe called df2.\n",
        "df2=df.dropna()"
      ]
    },
    {
      "cell_type": "markdown",
      "id": "58d55fe0",
      "metadata": {
        "tags": [],
        "id": "58d55fe0"
      },
      "source": [
        "### 1.5. Compare the shapes of the original (df) and new (df2) dataframes, and verify there are no missing values in df2."
      ]
    },
    {
      "cell_type": "code",
      "execution_count": null,
      "id": "b6479b85-b098-417a-ab7a-86e49b323b57",
      "metadata": {
        "tags": [],
        "colab": {
          "base_uri": "https://localhost:8080/"
        },
        "id": "b6479b85-b098-417a-ab7a-86e49b323b57",
        "outputId": "c2db80a5-899d-4394-a0f4-88c9392a4401"
      },
      "outputs": [
        {
          "output_type": "stream",
          "name": "stdout",
          "text": [
            "shape of df1 =  (7608, 15)\n",
            "shape of df2 =  (5108, 15)\n"
          ]
        }
      ],
      "source": [
        "# 1.5.1 code to show shapes of old and new dataframes\n",
        "print('shape of df1 = ' ,df.shape)\n",
        "print('shape of df2 = ' ,df2.shape)\n"
      ]
    },
    {
      "cell_type": "code",
      "execution_count": null,
      "id": "9af2c0f5-a3b1-46b0-a132-f97b9d4651fb",
      "metadata": {
        "tags": [],
        "colab": {
          "base_uri": "https://localhost:8080/"
        },
        "id": "9af2c0f5-a3b1-46b0-a132-f97b9d4651fb",
        "outputId": "bcb9167d-5485-424d-838d-035f2906fb34"
      },
      "outputs": [
        {
          "output_type": "execute_result",
          "data": {
            "text/plain": [
              "host_id             0\n",
              "neighbourhood       0\n",
              "latitude            0\n",
              "longitude           0\n",
              "room_type           0\n",
              "price in $          0\n",
              "minimum_nights      0\n",
              "availability_365    0\n",
              "Apartment_type      0\n",
              "City                0\n",
              "Rating              0\n",
              "No_of_bed_rooms     0\n",
              "No_of_beds          0\n",
              "No_of_bathrooms     0\n",
              "Bathroom_type       0\n",
              "dtype: int64"
            ]
          },
          "metadata": {},
          "execution_count": 69
        }
      ],
      "source": [
        "# 1.5.2 Code to verify no missing values\n",
        "df2.isnull().sum()"
      ]
    },
    {
      "cell_type": "markdown",
      "id": "ce912f4d",
      "metadata": {
        "id": "ce912f4d"
      },
      "source": [
        "### 1.6. **Drop the 'latitude' and 'longitude' columns. How does it affect the shape of the dataset?**"
      ]
    },
    {
      "cell_type": "code",
      "execution_count": null,
      "id": "91c69265-3568-4a97-9e90-15677c70b23e",
      "metadata": {
        "tags": [],
        "colab": {
          "base_uri": "https://localhost:8080/",
          "height": 348
        },
        "id": "91c69265-3568-4a97-9e90-15677c70b23e",
        "outputId": "65a12fd5-198d-43e2-9f2c-b26c043c88fb"
      },
      "outputs": [
        {
          "output_type": "execute_result",
          "data": {
            "text/plain": [
              "   host_id                           neighbourhood        room_type  \\\n",
              "0     3159  Oostelijk Havengebied - Indische Buurt     Private room   \n",
              "1    59484                            Centrum-Oost     Private room   \n",
              "2  1100324                 De Pijp - Rivierenbuurt  Entire home/apt   \n",
              "3   748161                                Oud-Oost  Entire home/apt   \n",
              "4    97647                            Centrum-West     Private room   \n",
              "\n",
              "   price in $  minimum_nights  availability_365 Apartment_type       City  \\\n",
              "0        69.0             3.0               7.0          Condo  Amsterdam   \n",
              "1       106.0             1.0               0.0      Townhouse  Amsterdam   \n",
              "2       270.0             4.0               2.0    Rental unit  Amsterdam   \n",
              "3       200.0             3.0               0.0    Rental unit  Amsterdam   \n",
              "4       137.0             3.0               0.0      Houseboat  Amsterdam   \n",
              "\n",
              "   Rating  No_of_bed_rooms  No_of_beds  No_of_bathrooms Bathroom_type  \n",
              "0    4.89              1.0         1.0              1.5        shared  \n",
              "1    4.44              1.0         1.0              NaN       private  \n",
              "2    4.86              3.0         3.0              1.5       private  \n",
              "3    4.76              1.0         1.0              1.5       private  \n",
              "4    4.94              1.0         1.0              1.5       private  "
            ],
            "text/html": [
              "\n",
              "  <div id=\"df-7d64eca1-71da-4dc2-9419-8d601e2f8f1d\" class=\"colab-df-container\">\n",
              "    <div>\n",
              "<style scoped>\n",
              "    .dataframe tbody tr th:only-of-type {\n",
              "        vertical-align: middle;\n",
              "    }\n",
              "\n",
              "    .dataframe tbody tr th {\n",
              "        vertical-align: top;\n",
              "    }\n",
              "\n",
              "    .dataframe thead th {\n",
              "        text-align: right;\n",
              "    }\n",
              "</style>\n",
              "<table border=\"1\" class=\"dataframe\">\n",
              "  <thead>\n",
              "    <tr style=\"text-align: right;\">\n",
              "      <th></th>\n",
              "      <th>host_id</th>\n",
              "      <th>neighbourhood</th>\n",
              "      <th>room_type</th>\n",
              "      <th>price in $</th>\n",
              "      <th>minimum_nights</th>\n",
              "      <th>availability_365</th>\n",
              "      <th>Apartment_type</th>\n",
              "      <th>City</th>\n",
              "      <th>Rating</th>\n",
              "      <th>No_of_bed_rooms</th>\n",
              "      <th>No_of_beds</th>\n",
              "      <th>No_of_bathrooms</th>\n",
              "      <th>Bathroom_type</th>\n",
              "    </tr>\n",
              "  </thead>\n",
              "  <tbody>\n",
              "    <tr>\n",
              "      <th>0</th>\n",
              "      <td>3159</td>\n",
              "      <td>Oostelijk Havengebied - Indische Buurt</td>\n",
              "      <td>Private room</td>\n",
              "      <td>69.0</td>\n",
              "      <td>3.0</td>\n",
              "      <td>7.0</td>\n",
              "      <td>Condo</td>\n",
              "      <td>Amsterdam</td>\n",
              "      <td>4.89</td>\n",
              "      <td>1.0</td>\n",
              "      <td>1.0</td>\n",
              "      <td>1.5</td>\n",
              "      <td>shared</td>\n",
              "    </tr>\n",
              "    <tr>\n",
              "      <th>1</th>\n",
              "      <td>59484</td>\n",
              "      <td>Centrum-Oost</td>\n",
              "      <td>Private room</td>\n",
              "      <td>106.0</td>\n",
              "      <td>1.0</td>\n",
              "      <td>0.0</td>\n",
              "      <td>Townhouse</td>\n",
              "      <td>Amsterdam</td>\n",
              "      <td>4.44</td>\n",
              "      <td>1.0</td>\n",
              "      <td>1.0</td>\n",
              "      <td>NaN</td>\n",
              "      <td>private</td>\n",
              "    </tr>\n",
              "    <tr>\n",
              "      <th>2</th>\n",
              "      <td>1100324</td>\n",
              "      <td>De Pijp - Rivierenbuurt</td>\n",
              "      <td>Entire home/apt</td>\n",
              "      <td>270.0</td>\n",
              "      <td>4.0</td>\n",
              "      <td>2.0</td>\n",
              "      <td>Rental unit</td>\n",
              "      <td>Amsterdam</td>\n",
              "      <td>4.86</td>\n",
              "      <td>3.0</td>\n",
              "      <td>3.0</td>\n",
              "      <td>1.5</td>\n",
              "      <td>private</td>\n",
              "    </tr>\n",
              "    <tr>\n",
              "      <th>3</th>\n",
              "      <td>748161</td>\n",
              "      <td>Oud-Oost</td>\n",
              "      <td>Entire home/apt</td>\n",
              "      <td>200.0</td>\n",
              "      <td>3.0</td>\n",
              "      <td>0.0</td>\n",
              "      <td>Rental unit</td>\n",
              "      <td>Amsterdam</td>\n",
              "      <td>4.76</td>\n",
              "      <td>1.0</td>\n",
              "      <td>1.0</td>\n",
              "      <td>1.5</td>\n",
              "      <td>private</td>\n",
              "    </tr>\n",
              "    <tr>\n",
              "      <th>4</th>\n",
              "      <td>97647</td>\n",
              "      <td>Centrum-West</td>\n",
              "      <td>Private room</td>\n",
              "      <td>137.0</td>\n",
              "      <td>3.0</td>\n",
              "      <td>0.0</td>\n",
              "      <td>Houseboat</td>\n",
              "      <td>Amsterdam</td>\n",
              "      <td>4.94</td>\n",
              "      <td>1.0</td>\n",
              "      <td>1.0</td>\n",
              "      <td>1.5</td>\n",
              "      <td>private</td>\n",
              "    </tr>\n",
              "  </tbody>\n",
              "</table>\n",
              "</div>\n",
              "    <div class=\"colab-df-buttons\">\n",
              "\n",
              "  <div class=\"colab-df-container\">\n",
              "    <button class=\"colab-df-convert\" onclick=\"convertToInteractive('df-7d64eca1-71da-4dc2-9419-8d601e2f8f1d')\"\n",
              "            title=\"Convert this dataframe to an interactive table.\"\n",
              "            style=\"display:none;\">\n",
              "\n",
              "  <svg xmlns=\"http://www.w3.org/2000/svg\" height=\"24px\" viewBox=\"0 -960 960 960\">\n",
              "    <path d=\"M120-120v-720h720v720H120Zm60-500h600v-160H180v160Zm220 220h160v-160H400v160Zm0 220h160v-160H400v160ZM180-400h160v-160H180v160Zm440 0h160v-160H620v160ZM180-180h160v-160H180v160Zm440 0h160v-160H620v160Z\"/>\n",
              "  </svg>\n",
              "    </button>\n",
              "\n",
              "  <style>\n",
              "    .colab-df-container {\n",
              "      display:flex;\n",
              "      gap: 12px;\n",
              "    }\n",
              "\n",
              "    .colab-df-convert {\n",
              "      background-color: #E8F0FE;\n",
              "      border: none;\n",
              "      border-radius: 50%;\n",
              "      cursor: pointer;\n",
              "      display: none;\n",
              "      fill: #1967D2;\n",
              "      height: 32px;\n",
              "      padding: 0 0 0 0;\n",
              "      width: 32px;\n",
              "    }\n",
              "\n",
              "    .colab-df-convert:hover {\n",
              "      background-color: #E2EBFA;\n",
              "      box-shadow: 0px 1px 2px rgba(60, 64, 67, 0.3), 0px 1px 3px 1px rgba(60, 64, 67, 0.15);\n",
              "      fill: #174EA6;\n",
              "    }\n",
              "\n",
              "    .colab-df-buttons div {\n",
              "      margin-bottom: 4px;\n",
              "    }\n",
              "\n",
              "    [theme=dark] .colab-df-convert {\n",
              "      background-color: #3B4455;\n",
              "      fill: #D2E3FC;\n",
              "    }\n",
              "\n",
              "    [theme=dark] .colab-df-convert:hover {\n",
              "      background-color: #434B5C;\n",
              "      box-shadow: 0px 1px 3px 1px rgba(0, 0, 0, 0.15);\n",
              "      filter: drop-shadow(0px 1px 2px rgba(0, 0, 0, 0.3));\n",
              "      fill: #FFFFFF;\n",
              "    }\n",
              "  </style>\n",
              "\n",
              "    <script>\n",
              "      const buttonEl =\n",
              "        document.querySelector('#df-7d64eca1-71da-4dc2-9419-8d601e2f8f1d button.colab-df-convert');\n",
              "      buttonEl.style.display =\n",
              "        google.colab.kernel.accessAllowed ? 'block' : 'none';\n",
              "\n",
              "      async function convertToInteractive(key) {\n",
              "        const element = document.querySelector('#df-7d64eca1-71da-4dc2-9419-8d601e2f8f1d');\n",
              "        const dataTable =\n",
              "          await google.colab.kernel.invokeFunction('convertToInteractive',\n",
              "                                                    [key], {});\n",
              "        if (!dataTable) return;\n",
              "\n",
              "        const docLinkHtml = 'Like what you see? Visit the ' +\n",
              "          '<a target=\"_blank\" href=https://colab.research.google.com/notebooks/data_table.ipynb>data table notebook</a>'\n",
              "          + ' to learn more about interactive tables.';\n",
              "        element.innerHTML = '';\n",
              "        dataTable['output_type'] = 'display_data';\n",
              "        await google.colab.output.renderOutput(dataTable, element);\n",
              "        const docLink = document.createElement('div');\n",
              "        docLink.innerHTML = docLinkHtml;\n",
              "        element.appendChild(docLink);\n",
              "      }\n",
              "    </script>\n",
              "  </div>\n",
              "\n",
              "\n",
              "<div id=\"df-c0865241-47c2-48fb-afd4-ca2880aac30e\">\n",
              "  <button class=\"colab-df-quickchart\" onclick=\"quickchart('df-c0865241-47c2-48fb-afd4-ca2880aac30e')\"\n",
              "            title=\"Suggest charts.\"\n",
              "            style=\"display:none;\">\n",
              "\n",
              "<svg xmlns=\"http://www.w3.org/2000/svg\" height=\"24px\"viewBox=\"0 0 24 24\"\n",
              "     width=\"24px\">\n",
              "    <g>\n",
              "        <path d=\"M19 3H5c-1.1 0-2 .9-2 2v14c0 1.1.9 2 2 2h14c1.1 0 2-.9 2-2V5c0-1.1-.9-2-2-2zM9 17H7v-7h2v7zm4 0h-2V7h2v10zm4 0h-2v-4h2v4z\"/>\n",
              "    </g>\n",
              "</svg>\n",
              "  </button>\n",
              "\n",
              "<style>\n",
              "  .colab-df-quickchart {\n",
              "      --bg-color: #E8F0FE;\n",
              "      --fill-color: #1967D2;\n",
              "      --hover-bg-color: #E2EBFA;\n",
              "      --hover-fill-color: #174EA6;\n",
              "      --disabled-fill-color: #AAA;\n",
              "      --disabled-bg-color: #DDD;\n",
              "  }\n",
              "\n",
              "  [theme=dark] .colab-df-quickchart {\n",
              "      --bg-color: #3B4455;\n",
              "      --fill-color: #D2E3FC;\n",
              "      --hover-bg-color: #434B5C;\n",
              "      --hover-fill-color: #FFFFFF;\n",
              "      --disabled-bg-color: #3B4455;\n",
              "      --disabled-fill-color: #666;\n",
              "  }\n",
              "\n",
              "  .colab-df-quickchart {\n",
              "    background-color: var(--bg-color);\n",
              "    border: none;\n",
              "    border-radius: 50%;\n",
              "    cursor: pointer;\n",
              "    display: none;\n",
              "    fill: var(--fill-color);\n",
              "    height: 32px;\n",
              "    padding: 0;\n",
              "    width: 32px;\n",
              "  }\n",
              "\n",
              "  .colab-df-quickchart:hover {\n",
              "    background-color: var(--hover-bg-color);\n",
              "    box-shadow: 0 1px 2px rgba(60, 64, 67, 0.3), 0 1px 3px 1px rgba(60, 64, 67, 0.15);\n",
              "    fill: var(--button-hover-fill-color);\n",
              "  }\n",
              "\n",
              "  .colab-df-quickchart-complete:disabled,\n",
              "  .colab-df-quickchart-complete:disabled:hover {\n",
              "    background-color: var(--disabled-bg-color);\n",
              "    fill: var(--disabled-fill-color);\n",
              "    box-shadow: none;\n",
              "  }\n",
              "\n",
              "  .colab-df-spinner {\n",
              "    border: 2px solid var(--fill-color);\n",
              "    border-color: transparent;\n",
              "    border-bottom-color: var(--fill-color);\n",
              "    animation:\n",
              "      spin 1s steps(1) infinite;\n",
              "  }\n",
              "\n",
              "  @keyframes spin {\n",
              "    0% {\n",
              "      border-color: transparent;\n",
              "      border-bottom-color: var(--fill-color);\n",
              "      border-left-color: var(--fill-color);\n",
              "    }\n",
              "    20% {\n",
              "      border-color: transparent;\n",
              "      border-left-color: var(--fill-color);\n",
              "      border-top-color: var(--fill-color);\n",
              "    }\n",
              "    30% {\n",
              "      border-color: transparent;\n",
              "      border-left-color: var(--fill-color);\n",
              "      border-top-color: var(--fill-color);\n",
              "      border-right-color: var(--fill-color);\n",
              "    }\n",
              "    40% {\n",
              "      border-color: transparent;\n",
              "      border-right-color: var(--fill-color);\n",
              "      border-top-color: var(--fill-color);\n",
              "    }\n",
              "    60% {\n",
              "      border-color: transparent;\n",
              "      border-right-color: var(--fill-color);\n",
              "    }\n",
              "    80% {\n",
              "      border-color: transparent;\n",
              "      border-right-color: var(--fill-color);\n",
              "      border-bottom-color: var(--fill-color);\n",
              "    }\n",
              "    90% {\n",
              "      border-color: transparent;\n",
              "      border-bottom-color: var(--fill-color);\n",
              "    }\n",
              "  }\n",
              "</style>\n",
              "\n",
              "  <script>\n",
              "    async function quickchart(key) {\n",
              "      const quickchartButtonEl =\n",
              "        document.querySelector('#' + key + ' button');\n",
              "      quickchartButtonEl.disabled = true;  // To prevent multiple clicks.\n",
              "      quickchartButtonEl.classList.add('colab-df-spinner');\n",
              "      try {\n",
              "        const charts = await google.colab.kernel.invokeFunction(\n",
              "            'suggestCharts', [key], {});\n",
              "      } catch (error) {\n",
              "        console.error('Error during call to suggestCharts:', error);\n",
              "      }\n",
              "      quickchartButtonEl.classList.remove('colab-df-spinner');\n",
              "      quickchartButtonEl.classList.add('colab-df-quickchart-complete');\n",
              "    }\n",
              "    (() => {\n",
              "      let quickchartButtonEl =\n",
              "        document.querySelector('#df-c0865241-47c2-48fb-afd4-ca2880aac30e button');\n",
              "      quickchartButtonEl.style.display =\n",
              "        google.colab.kernel.accessAllowed ? 'block' : 'none';\n",
              "    })();\n",
              "  </script>\n",
              "</div>\n",
              "    </div>\n",
              "  </div>\n"
            ]
          },
          "metadata": {},
          "execution_count": 70
        }
      ],
      "source": [
        "# 1.6.1 Code goes here\n",
        "df=df.drop(columns=['latitude','longitude'])\n",
        "df.head()"
      ]
    },
    {
      "cell_type": "code",
      "execution_count": null,
      "id": "09ea894c",
      "metadata": {
        "colab": {
          "base_uri": "https://localhost:8080/"
        },
        "id": "09ea894c",
        "outputId": "65c0d3be-62c7-41bf-910e-03d4c7ee31be"
      },
      "outputs": [
        {
          "output_type": "execute_result",
          "data": {
            "text/plain": [
              "(7608, 13)"
            ]
          },
          "metadata": {},
          "execution_count": 71
        }
      ],
      "source": [
        "# 1.6.2 Show new shape\n",
        "df.shape"
      ]
    },
    {
      "cell_type": "markdown",
      "id": "f4b2b687",
      "metadata": {
        "id": "f4b2b687"
      },
      "source": [
        "### 1.7. **List the  unique values in Apartment_type and Bathroom_type**"
      ]
    },
    {
      "cell_type": "code",
      "execution_count": null,
      "id": "af8da01e-d2c6-4b25-a047-4610f6e32fcf",
      "metadata": {
        "tags": [],
        "colab": {
          "base_uri": "https://localhost:8080/"
        },
        "id": "af8da01e-d2c6-4b25-a047-4610f6e32fcf",
        "outputId": "5857efdd-59ab-4454-c5a3-3a8dc877a0ac"
      },
      "outputs": [
        {
          "output_type": "execute_result",
          "data": {
            "text/plain": [
              "array(['Condo', 'Townhouse', 'Rental unit', 'Houseboat', 'Guest suite',\n",
              "       'Boutique hotel', 'Home', 'Loft', 'Bed and breakfast', 'Boat',\n",
              "       'Guesthouse', nan, 'Farm stay', 'Place to stay', 'Chalet', 'Villa',\n",
              "       'Tiny home', 'Bungalow', 'casa particular', 'Serviced apartment',\n",
              "       'Barn', 'Hotel', 'Cabin', 'Aparthotel', 'Cottage', 'Nature lodge',\n",
              "       'Earthen home', 'Vacation home', 'Tower', 'Hostel', 'Cave',\n",
              "       'Camper/RV', 'Yurt', 'Tent'], dtype=object)"
            ]
          },
          "metadata": {},
          "execution_count": 72
        }
      ],
      "source": [
        "# 1.7.1 Find and list the unique apartment tpyes.\n",
        "df['Apartment_type'].unique()"
      ]
    },
    {
      "cell_type": "code",
      "execution_count": null,
      "id": "1372613e-f794-4aee-a2da-9dad0b79396d",
      "metadata": {
        "tags": [],
        "colab": {
          "base_uri": "https://localhost:8080/"
        },
        "id": "1372613e-f794-4aee-a2da-9dad0b79396d",
        "outputId": "72e5fb1b-ee7a-48b5-c2d4-8ffb1f14a16b"
      },
      "outputs": [
        {
          "output_type": "execute_result",
          "data": {
            "text/plain": [
              "array(['shared', 'private', nan], dtype=object)"
            ]
          },
          "metadata": {},
          "execution_count": 73
        }
      ],
      "source": [
        "# 1.7.2 Find and list the unuque bathroom types.\n",
        "df['Bathroom_type'].unique()"
      ]
    },
    {
      "cell_type": "markdown",
      "id": "40d69a7d",
      "metadata": {
        "id": "40d69a7d"
      },
      "source": [
        "### 1.8. **Replace the bathroom types (shared and private) with integers (0 and 1).**"
      ]
    },
    {
      "cell_type": "code",
      "execution_count": null,
      "id": "1a99c43d-8dc7-4186-accf-cd2c3fa62e0f",
      "metadata": {
        "tags": [],
        "id": "1a99c43d-8dc7-4186-accf-cd2c3fa62e0f"
      },
      "outputs": [],
      "source": [
        "# 1.8.1 Replace the strings with integers\n",
        "df['Bathroom_type'] = df['Bathroom_type'].map({'shared': 0, 'private': 1})"
      ]
    },
    {
      "cell_type": "code",
      "execution_count": null,
      "id": "64d6f42b-190e-4c81-82a9-2334322a1a8d",
      "metadata": {
        "scrolled": true,
        "tags": [],
        "colab": {
          "base_uri": "https://localhost:8080/"
        },
        "id": "64d6f42b-190e-4c81-82a9-2334322a1a8d",
        "outputId": "0a231c11-928d-4a4f-ac9a-4562ce20f911"
      },
      "outputs": [
        {
          "output_type": "execute_result",
          "data": {
            "text/plain": [
              "array([ 0.,  1., nan])"
            ]
          },
          "metadata": {},
          "execution_count": 75
        }
      ],
      "source": [
        "# 1.8.2 Verify the changes\n",
        "df['Bathroom_type'].unique()"
      ]
    },
    {
      "cell_type": "markdown",
      "id": "f70eef0d-0c39-4a80-bbb9-801fb35b4538",
      "metadata": {
        "id": "f70eef0d-0c39-4a80-bbb9-801fb35b4538"
      },
      "source": [
        "# Part - 2 (Exploratory Data Analysis)"
      ]
    },
    {
      "cell_type": "markdown",
      "id": "622528d5-0694-4bfa-b531-ea4177aaddc5",
      "metadata": {
        "id": "622528d5-0694-4bfa-b531-ea4177aaddc5"
      },
      "source": [
        "Exploratory Data Analysis refers to the critical process of performing initial investigations on data so as to discover patterns,to spot anomalies,to test hypothesis and to check assumptions with the help of summary statistics and graphical representations."
      ]
    },
    {
      "cell_type": "markdown",
      "id": "01220f3e",
      "metadata": {
        "id": "01220f3e"
      },
      "source": [
        "### 2.1. **Describe the data.**"
      ]
    },
    {
      "cell_type": "code",
      "execution_count": null,
      "id": "7f8d7c7a-4296-4a57-a75d-1e2cfa99fc45",
      "metadata": {
        "tags": [],
        "colab": {
          "base_uri": "https://localhost:8080/",
          "height": 320
        },
        "id": "7f8d7c7a-4296-4a57-a75d-1e2cfa99fc45",
        "outputId": "0d98f531-0a81-4f87-ad54-29b69ad500db"
      },
      "outputs": [
        {
          "output_type": "execute_result",
          "data": {
            "text/plain": [
              "            host_id    price in $  minimum_nights  availability_365  \\\n",
              "count  7.608000e+03   7608.000000     7599.000000       7607.000000   \n",
              "mean   1.032046e+08    251.106081        4.915647         79.597082   \n",
              "std    1.393504e+08    263.094906       33.283433        106.486090   \n",
              "min    0.000000e+00      0.000000        1.000000          0.000000   \n",
              "25%    9.924161e+06    148.000000        2.000000          0.000000   \n",
              "50%    3.501297e+07    203.000000        3.000000         21.000000   \n",
              "75%    1.402245e+08    300.000000        4.000000        145.000000   \n",
              "max    5.183111e+08  12000.000000     1001.000000        365.000000   \n",
              "\n",
              "            Rating  No_of_bed_rooms   No_of_beds  No_of_bathrooms  \\\n",
              "count  6030.000000      7324.000000  7591.000000      6804.000000   \n",
              "mean      4.821149         1.582469     1.575155         1.318783   \n",
              "std       0.214414         0.905413     0.901972         0.518660   \n",
              "min       1.670000         1.000000     1.000000         0.000000   \n",
              "25%       4.750000         1.000000     1.000000         1.000000   \n",
              "50%       4.880000         1.000000     1.000000         1.000000   \n",
              "75%       5.000000         2.000000     2.000000         1.500000   \n",
              "max       5.000000        17.000000    17.000000        17.000000   \n",
              "\n",
              "       Bathroom_type  \n",
              "count    7607.000000  \n",
              "mean        0.924675  \n",
              "std         0.263933  \n",
              "min         0.000000  \n",
              "25%         1.000000  \n",
              "50%         1.000000  \n",
              "75%         1.000000  \n",
              "max         1.000000  "
            ],
            "text/html": [
              "\n",
              "  <div id=\"df-9e9c0e54-7ab1-4ab3-a2fc-79b47ebc0584\" class=\"colab-df-container\">\n",
              "    <div>\n",
              "<style scoped>\n",
              "    .dataframe tbody tr th:only-of-type {\n",
              "        vertical-align: middle;\n",
              "    }\n",
              "\n",
              "    .dataframe tbody tr th {\n",
              "        vertical-align: top;\n",
              "    }\n",
              "\n",
              "    .dataframe thead th {\n",
              "        text-align: right;\n",
              "    }\n",
              "</style>\n",
              "<table border=\"1\" class=\"dataframe\">\n",
              "  <thead>\n",
              "    <tr style=\"text-align: right;\">\n",
              "      <th></th>\n",
              "      <th>host_id</th>\n",
              "      <th>price in $</th>\n",
              "      <th>minimum_nights</th>\n",
              "      <th>availability_365</th>\n",
              "      <th>Rating</th>\n",
              "      <th>No_of_bed_rooms</th>\n",
              "      <th>No_of_beds</th>\n",
              "      <th>No_of_bathrooms</th>\n",
              "      <th>Bathroom_type</th>\n",
              "    </tr>\n",
              "  </thead>\n",
              "  <tbody>\n",
              "    <tr>\n",
              "      <th>count</th>\n",
              "      <td>7.608000e+03</td>\n",
              "      <td>7608.000000</td>\n",
              "      <td>7599.000000</td>\n",
              "      <td>7607.000000</td>\n",
              "      <td>6030.000000</td>\n",
              "      <td>7324.000000</td>\n",
              "      <td>7591.000000</td>\n",
              "      <td>6804.000000</td>\n",
              "      <td>7607.000000</td>\n",
              "    </tr>\n",
              "    <tr>\n",
              "      <th>mean</th>\n",
              "      <td>1.032046e+08</td>\n",
              "      <td>251.106081</td>\n",
              "      <td>4.915647</td>\n",
              "      <td>79.597082</td>\n",
              "      <td>4.821149</td>\n",
              "      <td>1.582469</td>\n",
              "      <td>1.575155</td>\n",
              "      <td>1.318783</td>\n",
              "      <td>0.924675</td>\n",
              "    </tr>\n",
              "    <tr>\n",
              "      <th>std</th>\n",
              "      <td>1.393504e+08</td>\n",
              "      <td>263.094906</td>\n",
              "      <td>33.283433</td>\n",
              "      <td>106.486090</td>\n",
              "      <td>0.214414</td>\n",
              "      <td>0.905413</td>\n",
              "      <td>0.901972</td>\n",
              "      <td>0.518660</td>\n",
              "      <td>0.263933</td>\n",
              "    </tr>\n",
              "    <tr>\n",
              "      <th>min</th>\n",
              "      <td>0.000000e+00</td>\n",
              "      <td>0.000000</td>\n",
              "      <td>1.000000</td>\n",
              "      <td>0.000000</td>\n",
              "      <td>1.670000</td>\n",
              "      <td>1.000000</td>\n",
              "      <td>1.000000</td>\n",
              "      <td>0.000000</td>\n",
              "      <td>0.000000</td>\n",
              "    </tr>\n",
              "    <tr>\n",
              "      <th>25%</th>\n",
              "      <td>9.924161e+06</td>\n",
              "      <td>148.000000</td>\n",
              "      <td>2.000000</td>\n",
              "      <td>0.000000</td>\n",
              "      <td>4.750000</td>\n",
              "      <td>1.000000</td>\n",
              "      <td>1.000000</td>\n",
              "      <td>1.000000</td>\n",
              "      <td>1.000000</td>\n",
              "    </tr>\n",
              "    <tr>\n",
              "      <th>50%</th>\n",
              "      <td>3.501297e+07</td>\n",
              "      <td>203.000000</td>\n",
              "      <td>3.000000</td>\n",
              "      <td>21.000000</td>\n",
              "      <td>4.880000</td>\n",
              "      <td>1.000000</td>\n",
              "      <td>1.000000</td>\n",
              "      <td>1.000000</td>\n",
              "      <td>1.000000</td>\n",
              "    </tr>\n",
              "    <tr>\n",
              "      <th>75%</th>\n",
              "      <td>1.402245e+08</td>\n",
              "      <td>300.000000</td>\n",
              "      <td>4.000000</td>\n",
              "      <td>145.000000</td>\n",
              "      <td>5.000000</td>\n",
              "      <td>2.000000</td>\n",
              "      <td>2.000000</td>\n",
              "      <td>1.500000</td>\n",
              "      <td>1.000000</td>\n",
              "    </tr>\n",
              "    <tr>\n",
              "      <th>max</th>\n",
              "      <td>5.183111e+08</td>\n",
              "      <td>12000.000000</td>\n",
              "      <td>1001.000000</td>\n",
              "      <td>365.000000</td>\n",
              "      <td>5.000000</td>\n",
              "      <td>17.000000</td>\n",
              "      <td>17.000000</td>\n",
              "      <td>17.000000</td>\n",
              "      <td>1.000000</td>\n",
              "    </tr>\n",
              "  </tbody>\n",
              "</table>\n",
              "</div>\n",
              "    <div class=\"colab-df-buttons\">\n",
              "\n",
              "  <div class=\"colab-df-container\">\n",
              "    <button class=\"colab-df-convert\" onclick=\"convertToInteractive('df-9e9c0e54-7ab1-4ab3-a2fc-79b47ebc0584')\"\n",
              "            title=\"Convert this dataframe to an interactive table.\"\n",
              "            style=\"display:none;\">\n",
              "\n",
              "  <svg xmlns=\"http://www.w3.org/2000/svg\" height=\"24px\" viewBox=\"0 -960 960 960\">\n",
              "    <path d=\"M120-120v-720h720v720H120Zm60-500h600v-160H180v160Zm220 220h160v-160H400v160Zm0 220h160v-160H400v160ZM180-400h160v-160H180v160Zm440 0h160v-160H620v160ZM180-180h160v-160H180v160Zm440 0h160v-160H620v160Z\"/>\n",
              "  </svg>\n",
              "    </button>\n",
              "\n",
              "  <style>\n",
              "    .colab-df-container {\n",
              "      display:flex;\n",
              "      gap: 12px;\n",
              "    }\n",
              "\n",
              "    .colab-df-convert {\n",
              "      background-color: #E8F0FE;\n",
              "      border: none;\n",
              "      border-radius: 50%;\n",
              "      cursor: pointer;\n",
              "      display: none;\n",
              "      fill: #1967D2;\n",
              "      height: 32px;\n",
              "      padding: 0 0 0 0;\n",
              "      width: 32px;\n",
              "    }\n",
              "\n",
              "    .colab-df-convert:hover {\n",
              "      background-color: #E2EBFA;\n",
              "      box-shadow: 0px 1px 2px rgba(60, 64, 67, 0.3), 0px 1px 3px 1px rgba(60, 64, 67, 0.15);\n",
              "      fill: #174EA6;\n",
              "    }\n",
              "\n",
              "    .colab-df-buttons div {\n",
              "      margin-bottom: 4px;\n",
              "    }\n",
              "\n",
              "    [theme=dark] .colab-df-convert {\n",
              "      background-color: #3B4455;\n",
              "      fill: #D2E3FC;\n",
              "    }\n",
              "\n",
              "    [theme=dark] .colab-df-convert:hover {\n",
              "      background-color: #434B5C;\n",
              "      box-shadow: 0px 1px 3px 1px rgba(0, 0, 0, 0.15);\n",
              "      filter: drop-shadow(0px 1px 2px rgba(0, 0, 0, 0.3));\n",
              "      fill: #FFFFFF;\n",
              "    }\n",
              "  </style>\n",
              "\n",
              "    <script>\n",
              "      const buttonEl =\n",
              "        document.querySelector('#df-9e9c0e54-7ab1-4ab3-a2fc-79b47ebc0584 button.colab-df-convert');\n",
              "      buttonEl.style.display =\n",
              "        google.colab.kernel.accessAllowed ? 'block' : 'none';\n",
              "\n",
              "      async function convertToInteractive(key) {\n",
              "        const element = document.querySelector('#df-9e9c0e54-7ab1-4ab3-a2fc-79b47ebc0584');\n",
              "        const dataTable =\n",
              "          await google.colab.kernel.invokeFunction('convertToInteractive',\n",
              "                                                    [key], {});\n",
              "        if (!dataTable) return;\n",
              "\n",
              "        const docLinkHtml = 'Like what you see? Visit the ' +\n",
              "          '<a target=\"_blank\" href=https://colab.research.google.com/notebooks/data_table.ipynb>data table notebook</a>'\n",
              "          + ' to learn more about interactive tables.';\n",
              "        element.innerHTML = '';\n",
              "        dataTable['output_type'] = 'display_data';\n",
              "        await google.colab.output.renderOutput(dataTable, element);\n",
              "        const docLink = document.createElement('div');\n",
              "        docLink.innerHTML = docLinkHtml;\n",
              "        element.appendChild(docLink);\n",
              "      }\n",
              "    </script>\n",
              "  </div>\n",
              "\n",
              "\n",
              "<div id=\"df-739bee7b-463b-45d5-ba8c-43f8c16a3c00\">\n",
              "  <button class=\"colab-df-quickchart\" onclick=\"quickchart('df-739bee7b-463b-45d5-ba8c-43f8c16a3c00')\"\n",
              "            title=\"Suggest charts.\"\n",
              "            style=\"display:none;\">\n",
              "\n",
              "<svg xmlns=\"http://www.w3.org/2000/svg\" height=\"24px\"viewBox=\"0 0 24 24\"\n",
              "     width=\"24px\">\n",
              "    <g>\n",
              "        <path d=\"M19 3H5c-1.1 0-2 .9-2 2v14c0 1.1.9 2 2 2h14c1.1 0 2-.9 2-2V5c0-1.1-.9-2-2-2zM9 17H7v-7h2v7zm4 0h-2V7h2v10zm4 0h-2v-4h2v4z\"/>\n",
              "    </g>\n",
              "</svg>\n",
              "  </button>\n",
              "\n",
              "<style>\n",
              "  .colab-df-quickchart {\n",
              "      --bg-color: #E8F0FE;\n",
              "      --fill-color: #1967D2;\n",
              "      --hover-bg-color: #E2EBFA;\n",
              "      --hover-fill-color: #174EA6;\n",
              "      --disabled-fill-color: #AAA;\n",
              "      --disabled-bg-color: #DDD;\n",
              "  }\n",
              "\n",
              "  [theme=dark] .colab-df-quickchart {\n",
              "      --bg-color: #3B4455;\n",
              "      --fill-color: #D2E3FC;\n",
              "      --hover-bg-color: #434B5C;\n",
              "      --hover-fill-color: #FFFFFF;\n",
              "      --disabled-bg-color: #3B4455;\n",
              "      --disabled-fill-color: #666;\n",
              "  }\n",
              "\n",
              "  .colab-df-quickchart {\n",
              "    background-color: var(--bg-color);\n",
              "    border: none;\n",
              "    border-radius: 50%;\n",
              "    cursor: pointer;\n",
              "    display: none;\n",
              "    fill: var(--fill-color);\n",
              "    height: 32px;\n",
              "    padding: 0;\n",
              "    width: 32px;\n",
              "  }\n",
              "\n",
              "  .colab-df-quickchart:hover {\n",
              "    background-color: var(--hover-bg-color);\n",
              "    box-shadow: 0 1px 2px rgba(60, 64, 67, 0.3), 0 1px 3px 1px rgba(60, 64, 67, 0.15);\n",
              "    fill: var(--button-hover-fill-color);\n",
              "  }\n",
              "\n",
              "  .colab-df-quickchart-complete:disabled,\n",
              "  .colab-df-quickchart-complete:disabled:hover {\n",
              "    background-color: var(--disabled-bg-color);\n",
              "    fill: var(--disabled-fill-color);\n",
              "    box-shadow: none;\n",
              "  }\n",
              "\n",
              "  .colab-df-spinner {\n",
              "    border: 2px solid var(--fill-color);\n",
              "    border-color: transparent;\n",
              "    border-bottom-color: var(--fill-color);\n",
              "    animation:\n",
              "      spin 1s steps(1) infinite;\n",
              "  }\n",
              "\n",
              "  @keyframes spin {\n",
              "    0% {\n",
              "      border-color: transparent;\n",
              "      border-bottom-color: var(--fill-color);\n",
              "      border-left-color: var(--fill-color);\n",
              "    }\n",
              "    20% {\n",
              "      border-color: transparent;\n",
              "      border-left-color: var(--fill-color);\n",
              "      border-top-color: var(--fill-color);\n",
              "    }\n",
              "    30% {\n",
              "      border-color: transparent;\n",
              "      border-left-color: var(--fill-color);\n",
              "      border-top-color: var(--fill-color);\n",
              "      border-right-color: var(--fill-color);\n",
              "    }\n",
              "    40% {\n",
              "      border-color: transparent;\n",
              "      border-right-color: var(--fill-color);\n",
              "      border-top-color: var(--fill-color);\n",
              "    }\n",
              "    60% {\n",
              "      border-color: transparent;\n",
              "      border-right-color: var(--fill-color);\n",
              "    }\n",
              "    80% {\n",
              "      border-color: transparent;\n",
              "      border-right-color: var(--fill-color);\n",
              "      border-bottom-color: var(--fill-color);\n",
              "    }\n",
              "    90% {\n",
              "      border-color: transparent;\n",
              "      border-bottom-color: var(--fill-color);\n",
              "    }\n",
              "  }\n",
              "</style>\n",
              "\n",
              "  <script>\n",
              "    async function quickchart(key) {\n",
              "      const quickchartButtonEl =\n",
              "        document.querySelector('#' + key + ' button');\n",
              "      quickchartButtonEl.disabled = true;  // To prevent multiple clicks.\n",
              "      quickchartButtonEl.classList.add('colab-df-spinner');\n",
              "      try {\n",
              "        const charts = await google.colab.kernel.invokeFunction(\n",
              "            'suggestCharts', [key], {});\n",
              "      } catch (error) {\n",
              "        console.error('Error during call to suggestCharts:', error);\n",
              "      }\n",
              "      quickchartButtonEl.classList.remove('colab-df-spinner');\n",
              "      quickchartButtonEl.classList.add('colab-df-quickchart-complete');\n",
              "    }\n",
              "    (() => {\n",
              "      let quickchartButtonEl =\n",
              "        document.querySelector('#df-739bee7b-463b-45d5-ba8c-43f8c16a3c00 button');\n",
              "      quickchartButtonEl.style.display =\n",
              "        google.colab.kernel.accessAllowed ? 'block' : 'none';\n",
              "    })();\n",
              "  </script>\n",
              "</div>\n",
              "    </div>\n",
              "  </div>\n"
            ]
          },
          "metadata": {},
          "execution_count": 76
        }
      ],
      "source": [
        "# Describe data here.\n",
        "df.describe()\n"
      ]
    },
    {
      "cell_type": "markdown",
      "id": "59440e43",
      "metadata": {
        "id": "59440e43"
      },
      "source": [
        "### 2.2. **Identify significant correlations.**"
      ]
    },
    {
      "cell_type": "code",
      "execution_count": null,
      "id": "ae404370-d29f-461a-8d0b-2da26bc852e1",
      "metadata": {
        "tags": [],
        "colab": {
          "base_uri": "https://localhost:8080/"
        },
        "id": "ae404370-d29f-461a-8d0b-2da26bc852e1",
        "outputId": "cffb5a02-59b0-47b1-f394-356ad4797697"
      },
      "outputs": [
        {
          "output_type": "stream",
          "name": "stderr",
          "text": [
            "<ipython-input-77-209d98ea8e7e>:2: FutureWarning: The default value of numeric_only in DataFrame.corr is deprecated. In a future version, it will default to False. Select only valid columns or specify the value of numeric_only to silence this warning.\n",
            "  df_correlations=df.corr()\n"
          ]
        }
      ],
      "source": [
        "# 2.2.1 Build the correlation matrix\n",
        "df_correlations=df.corr()\n"
      ]
    },
    {
      "cell_type": "code",
      "execution_count": null,
      "id": "bab48646-0771-4fe3-9535-862ec0df9552",
      "metadata": {
        "tags": [],
        "colab": {
          "base_uri": "https://localhost:8080/",
          "height": 559
        },
        "id": "bab48646-0771-4fe3-9535-862ec0df9552",
        "outputId": "144998ce-a6ed-44ce-a3aa-6a758c57baf8"
      },
      "outputs": [
        {
          "output_type": "display_data",
          "data": {
            "text/plain": [
              "<Figure size 500x500 with 2 Axes>"
            ],
            "image/png": "[encoded data removed]"
          },
          "metadata": {}
        }
      ],
      "source": [
        "# 2.2.2 Display the correlation matrix as a heatmap\n",
        "plt.figure(figsize=(5, 5))\n",
        "sns.heatmap(df_correlations, cmap='coolwarm')\n",
        "plt.show()"
      ]
    },
    {
      "cell_type": "markdown",
      "id": "7a5d8fa4",
      "metadata": {
        "id": "7a5d8fa4"
      },
      "source": [
        "### 2.3. **Check if is there any multicollinearity.**"
      ]
    },
    {
      "cell_type": "code",
      "execution_count": null,
      "id": "02e7a7e3",
      "metadata": {
        "id": "02e7a7e3"
      },
      "outputs": [],
      "source": [
        "#Import the statsmodels tools needed to perform VIF.\n",
        "from statsmodels.stats.outliers_influence import variance_inflation_factor\n",
        "import statsmodels.api as sm"
      ]
    },
    {
      "cell_type": "code",
      "execution_count": null,
      "id": "55e1a55b-cb83-4aa7-88fb-30dccc1cd4a5",
      "metadata": {
        "tags": [],
        "id": "55e1a55b-cb83-4aa7-88fb-30dccc1cd4a5"
      },
      "outputs": [],
      "source": [
        "# 2.3.1 Select all numerical columns *except* host_id.\n",
        "# Select all numerical columns except 'host_id'\n",
        "no_host_id_numeric_cols = df.select_dtypes(include=['number']).drop(columns=['host_id'])"
      ]
    },
    {
      "cell_type": "code",
      "execution_count": null,
      "id": "d7a0f77d",
      "metadata": {
        "colab": {
          "base_uri": "https://localhost:8080/"
        },
        "id": "d7a0f77d",
        "outputId": "84ebb3bd-4874-4248-8edc-64f5757bcaea"
      },
      "outputs": [
        {
          "output_type": "execute_result",
          "data": {
            "text/plain": [
              "price in $          0\n",
              "minimum_nights      0\n",
              "availability_365    0\n",
              "Rating              0\n",
              "No_of_bed_rooms     0\n",
              "No_of_beds          0\n",
              "No_of_bathrooms     0\n",
              "Bathroom_type       0\n",
              "dtype: int64"
            ]
          },
          "metadata": {},
          "execution_count": 81
        }
      ],
      "source": [
        "# 2.3.2 Make sure there are no missing (NaN) values\n",
        "no_host_id_numeric_cols=no_host_id_numeric_cols.dropna()\n",
        "no_host_id_numeric_cols.isna().sum()\n"
      ]
    },
    {
      "cell_type": "code",
      "execution_count": null,
      "id": "568b0b76",
      "metadata": {
        "id": "568b0b76"
      },
      "outputs": [],
      "source": [
        "# 2.3.3 Add a constant column for the VIF calculation\n",
        "no_host_id_numeric_cols_constant = sm.add_constant(no_host_id_numeric_cols)\n"
      ]
    },
    {
      "cell_type": "code",
      "execution_count": null,
      "id": "c43aa6c5",
      "metadata": {
        "colab": {
          "base_uri": "https://localhost:8080/"
        },
        "id": "c43aa6c5",
        "outputId": "34f6a23b-95df-487a-edee-8eb3f3adffe5"
      },
      "outputs": [
        {
          "output_type": "stream",
          "name": "stdout",
          "text": [
            "           Features         VIF\n",
            "0             const  534.702345\n",
            "1        price in $    1.201031\n",
            "2    minimum_nights    1.000522\n",
            "3  availability_365    1.115009\n",
            "4            Rating    1.058145\n",
            "5   No_of_bed_rooms         inf\n",
            "6        No_of_beds         inf\n",
            "7   No_of_bathrooms    1.327983\n",
            "8     Bathroom_type    1.118510\n"
          ]
        },
        {
          "output_type": "stream",
          "name": "stderr",
          "text": [
            "/usr/local/lib/python3.10/dist-packages/statsmodels/stats/outliers_influence.py:198: RuntimeWarning: divide by zero encountered in double_scalars\n",
            "  vif = 1. / (1. - r_squared_i)\n"
          ]
        }
      ],
      "source": [
        "# 2.3.4 Calculate the VIF for each of the columns and display the information.\n",
        "\n",
        "# Create a DataFrame to store the VIF values\n",
        "vif_data = pd.DataFrame()\n",
        "vif_data[\"Features\"] = no_host_id_numeric_cols_constant.columns\n",
        "vif_data[\"VIF\"] = [variance_inflation_factor(no_host_id_numeric_cols_constant.values, i) for i in range(len(no_host_id_numeric_cols_constant.columns))]\n",
        "print(vif_data)\n"
      ]
    },
    {
      "cell_type": "markdown",
      "id": "2a3f9455",
      "metadata": {
        "id": "2a3f9455"
      },
      "source": [
        "### 2.4. **Spot outliers in the dataset.**\n",
        "(we will not remove outliers for this homework)."
      ]
    },
    {
      "cell_type": "code",
      "execution_count": null,
      "id": "f5aab45d-e608-4155-916a-a4ea68affcc4",
      "metadata": {
        "tags": [],
        "colab": {
          "base_uri": "https://localhost:8080/",
          "height": 465
        },
        "id": "f5aab45d-e608-4155-916a-a4ea68affcc4",
        "outputId": "04b45aaf-7b3d-41ac-fe64-5611f864dbfa"
      },
      "outputs": [
        {
          "output_type": "display_data",
          "data": {
            "text/plain": [
              "<Figure size 500x500 with 1 Axes>"
            ],
            "image/png": "[encoded data removed]"
          },
          "metadata": {}
        }
      ],
      "source": [
        "# 2.4.1. Show boxplot of price in $\n",
        "plt.figure(figsize=(5, 5))\n",
        "sns.boxplot(x='price in $', data=df)\n",
        "plt.show()"
      ]
    },
    {
      "cell_type": "code",
      "execution_count": null,
      "id": "72df07aa-dfbd-41a9-95ce-671f66daed27",
      "metadata": {
        "tags": [],
        "colab": {
          "base_uri": "https://localhost:8080/"
        },
        "id": "72df07aa-dfbd-41a9-95ce-671f66daed27",
        "outputId": "1772a1d8-dd21-4436-e050-179a7f0cb971"
      },
      "outputs": [
        {
          "output_type": "execute_result",
          "data": {
            "text/plain": [
              "12000.0"
            ]
          },
          "metadata": {},
          "execution_count": 85
        }
      ],
      "source": [
        "# 2.4.2 Show the maximum price in $\n",
        "df['price in $'].max()"
      ]
    },
    {
      "cell_type": "code",
      "execution_count": null,
      "id": "ab4b4c7d-0cc6-4e79-9ea0-f51124e1b509",
      "metadata": {
        "tags": [],
        "colab": {
          "base_uri": "https://localhost:8080/",
          "height": 465
        },
        "id": "ab4b4c7d-0cc6-4e79-9ea0-f51124e1b509",
        "outputId": "3c4706ef-19c6-4efc-99a2-982842e8e88c"
      },
      "outputs": [
        {
          "output_type": "display_data",
          "data": {
            "text/plain": [
              "<Figure size 500x500 with 1 Axes>"
            ],
            "image/png": "[encoded data removed]"
          },
          "metadata": {}
        }
      ],
      "source": [
        "# 2.4.3 Show a boxplot for minimum_nights\n",
        "plt.figure(figsize=(5, 5))\n",
        "sns.boxplot(x='minimum_nights', data=df)\n",
        "plt.show()"
      ]
    },
    {
      "cell_type": "code",
      "execution_count": null,
      "id": "5dd14340-b802-46fd-8098-66e43c345753",
      "metadata": {
        "tags": [],
        "colab": {
          "base_uri": "https://localhost:8080/",
          "height": 465
        },
        "id": "5dd14340-b802-46fd-8098-66e43c345753",
        "outputId": "efa2f454-6de0-4708-c59a-6e98c40d5869"
      },
      "outputs": [
        {
          "output_type": "display_data",
          "data": {
            "text/plain": [
              "<Figure size 500x500 with 1 Axes>"
            ],
            "image/png": "[encoded data removed]"
          },
          "metadata": {}
        }
      ],
      "source": [
        "# 2.4.4 Show a boxplot for Rating\n",
        "plt.figure(figsize=(5, 5))\n",
        "sns.boxplot(x='Rating', data=df)\n",
        "plt.show()"
      ]
    },
    {
      "cell_type": "code",
      "execution_count": null,
      "id": "aaa4e4a7-d9a7-42ab-aa4b-f8d167ce3d85",
      "metadata": {
        "tags": [],
        "id": "aaa4e4a7-d9a7-42ab-aa4b-f8d167ce3d85"
      },
      "outputs": [],
      "source": [
        "# 2.4.5 Define a function to drop outliers beyond a specific multiplier of the IQR.\n",
        "def outliers(df, col,multiplier):\n",
        "    q1 = df[col].quantile(0.25)\n",
        "    q3 = df[col].quantile(0.75)\n",
        "    iqr = q3 - q1\n",
        "    lower_bound = q1 - multiplier * iqr\n",
        "    upper_bound = q3 + multiplier * iqr\n",
        "    df_outliers = df[(df[col] >= lower_bound) & (df[col] <= upper_bound)]\n",
        "    return df_outliers"
      ]
    },
    {
      "cell_type": "code",
      "execution_count": null,
      "id": "3707791b-771a-4c4d-b355-3d2778883d7c",
      "metadata": {
        "tags": [],
        "id": "3707791b-771a-4c4d-b355-3d2778883d7c",
        "colab": {
          "base_uri": "https://localhost:8080/"
        },
        "outputId": "2dc8ddbd-3352-4b64-a15a-c55fdcbfb450"
      },
      "outputs": [
        {
          "output_type": "stream",
          "name": "stdout",
          "text": [
            "Outliers for 'price in $':\n",
            "        host_id                           neighbourhood        room_type  \\\n",
            "0          3159  Oostelijk Havengebied - Indische Buurt     Private room   \n",
            "1         59484                            Centrum-Oost     Private room   \n",
            "2       1100324                 De Pijp - Rivierenbuurt  Entire home/apt   \n",
            "3        748161                                Oud-Oost  Entire home/apt   \n",
            "4         97647                            Centrum-West     Private room   \n",
            "...         ...                                     ...              ...   \n",
            "7603   16570501                  De Baarsjes - Oud-West  Entire home/apt   \n",
            "7604  132654754                                  Osdorp  Entire home/apt   \n",
            "7605   23932215                  De Baarsjes - Oud-West  Entire home/apt   \n",
            "7606    4437313                                    Zuid  Entire home/apt   \n",
            "7607   70167802                  De Baarsjes - Oud-West  Entire home/apt   \n",
            "\n",
            "      price in $  minimum_nights  availability_365 Apartment_type       City  \\\n",
            "0           69.0             3.0               7.0          Condo  Amsterdam   \n",
            "1          106.0             1.0               0.0      Townhouse  Amsterdam   \n",
            "2          270.0             4.0               2.0    Rental unit  Amsterdam   \n",
            "3          200.0             3.0               0.0    Rental unit  Amsterdam   \n",
            "4          137.0             3.0               0.0      Houseboat  Amsterdam   \n",
            "...          ...             ...               ...            ...        ...   \n",
            "7603       500.0             2.0              17.0    Rental unit  Amsterdam   \n",
            "7604       190.0             2.0              34.0    Rental unit  Amsterdam   \n",
            "7605       359.0             2.0              18.0    Rental unit  Amsterdam   \n",
            "7606       223.0             1.0              73.0           Home  Amsterdam   \n",
            "7607       139.0             2.0             100.0          Condo  Amsterdam   \n",
            "\n",
            "      Rating  No_of_bed_rooms  No_of_beds  No_of_bathrooms  Bathroom_type  \n",
            "0       4.89              1.0         1.0              1.5            0.0  \n",
            "1       4.44              1.0         1.0              NaN            1.0  \n",
            "2       4.86              3.0         3.0              1.5            1.0  \n",
            "3       4.76              1.0         1.0              1.5            1.0  \n",
            "4       4.94              1.0         1.0              1.5            1.0  \n",
            "...      ...              ...         ...              ...            ...  \n",
            "7603     NaN              2.0         2.0              1.0            1.0  \n",
            "7604     NaN              2.0         2.0              1.0            1.0  \n",
            "7605     NaN              2.0         2.0              1.0            1.0  \n",
            "7606     NaN              2.0         2.0              2.0            1.0  \n",
            "7607     NaN              1.0         1.0              1.0            1.0  \n",
            "\n",
            "[7256 rows x 13 columns]\n",
            "Outliers for 'minimum_nights':\n",
            "        host_id                           neighbourhood        room_type  \\\n",
            "0          3159  Oostelijk Havengebied - Indische Buurt     Private room   \n",
            "1         59484                            Centrum-Oost     Private room   \n",
            "2       1100324                 De Pijp - Rivierenbuurt  Entire home/apt   \n",
            "3        748161                                Oud-Oost  Entire home/apt   \n",
            "4         97647                            Centrum-West     Private room   \n",
            "...         ...                                     ...              ...   \n",
            "7603   16570501                  De Baarsjes - Oud-West  Entire home/apt   \n",
            "7604  132654754                                  Osdorp  Entire home/apt   \n",
            "7605   23932215                  De Baarsjes - Oud-West  Entire home/apt   \n",
            "7606    4437313                                    Zuid  Entire home/apt   \n",
            "7607   70167802                  De Baarsjes - Oud-West  Entire home/apt   \n",
            "\n",
            "      price in $  minimum_nights  availability_365 Apartment_type       City  \\\n",
            "0           69.0             3.0               7.0          Condo  Amsterdam   \n",
            "1          106.0             1.0               0.0      Townhouse  Amsterdam   \n",
            "2          270.0             4.0               2.0    Rental unit  Amsterdam   \n",
            "3          200.0             3.0               0.0    Rental unit  Amsterdam   \n",
            "4          137.0             3.0               0.0      Houseboat  Amsterdam   \n",
            "...          ...             ...               ...            ...        ...   \n",
            "7603       500.0             2.0              17.0    Rental unit  Amsterdam   \n",
            "7604       190.0             2.0              34.0    Rental unit  Amsterdam   \n",
            "7605       359.0             2.0              18.0    Rental unit  Amsterdam   \n",
            "7606       223.0             1.0              73.0           Home  Amsterdam   \n",
            "7607       139.0             2.0             100.0          Condo  Amsterdam   \n",
            "\n",
            "      Rating  No_of_bed_rooms  No_of_beds  No_of_bathrooms  Bathroom_type  \n",
            "0       4.89              1.0         1.0              1.5            0.0  \n",
            "1       4.44              1.0         1.0              NaN            1.0  \n",
            "2       4.86              3.0         3.0              1.5            1.0  \n",
            "3       4.76              1.0         1.0              1.5            1.0  \n",
            "4       4.94              1.0         1.0              1.5            1.0  \n",
            "...      ...              ...         ...              ...            ...  \n",
            "7603     NaN              2.0         2.0              1.0            1.0  \n",
            "7604     NaN              2.0         2.0              1.0            1.0  \n",
            "7605     NaN              2.0         2.0              1.0            1.0  \n",
            "7606     NaN              2.0         2.0              2.0            1.0  \n",
            "7607     NaN              1.0         1.0              1.0            1.0  \n",
            "\n",
            "[7277 rows x 13 columns]\n",
            "Outliers for 'Rating':\n",
            "        host_id                           neighbourhood        room_type  \\\n",
            "0          3159  Oostelijk Havengebied - Indische Buurt     Private room   \n",
            "1         59484                            Centrum-Oost     Private room   \n",
            "2       1100324                 De Pijp - Rivierenbuurt  Entire home/apt   \n",
            "3        748161                                Oud-Oost  Entire home/apt   \n",
            "4         97647                            Centrum-West     Private room   \n",
            "...         ...                                     ...              ...   \n",
            "7363  311321908                            Centrum-West     Private room   \n",
            "7364  311321908                            Centrum-West     Private room   \n",
            "7416  511848149                  De Aker - Nieuw Sloten     Private room   \n",
            "7425  108331970                         Watergraafsmeer     Private room   \n",
            "7478   49402797                              Westerpark  Entire home/apt   \n",
            "\n",
            "      price in $  minimum_nights  availability_365   Apartment_type  \\\n",
            "0           69.0             3.0               7.0            Condo   \n",
            "1          106.0             1.0               0.0        Townhouse   \n",
            "2          270.0             4.0               2.0      Rental unit   \n",
            "3          200.0             3.0               0.0      Rental unit   \n",
            "4          137.0             3.0               0.0        Houseboat   \n",
            "...          ...             ...               ...              ...   \n",
            "7363       356.0             1.0             356.0            Hotel   \n",
            "7364       406.0             1.0             286.0            Hotel   \n",
            "7416        99.0             1.0              95.0             Home   \n",
            "7425       106.0             1.0              19.0  casa particular   \n",
            "7478       316.0             4.0              12.0            Condo   \n",
            "\n",
            "           City  Rating  No_of_bed_rooms  No_of_beds  No_of_bathrooms  \\\n",
            "0     Amsterdam    4.89              1.0         1.0              1.5   \n",
            "1     Amsterdam    4.44              1.0         1.0              NaN   \n",
            "2     Amsterdam    4.86              3.0         3.0              1.5   \n",
            "3     Amsterdam    4.76              1.0         1.0              1.5   \n",
            "4     Amsterdam    4.94              1.0         1.0              1.5   \n",
            "...         ...     ...              ...         ...              ...   \n",
            "7363  Amsterdam    4.90              1.0         1.0              1.0   \n",
            "7364  Amsterdam    4.71              1.0         1.0              1.0   \n",
            "7416  Amsterdam    4.86              1.0         1.0              1.0   \n",
            "7425  Amsterdam    5.00              1.0         1.0              1.5   \n",
            "7478  Amsterdam    5.00              2.0         2.0              1.0   \n",
            "\n",
            "      Bathroom_type  \n",
            "0               0.0  \n",
            "1               1.0  \n",
            "2               1.0  \n",
            "3               1.0  \n",
            "4               1.0  \n",
            "...             ...  \n",
            "7363            1.0  \n",
            "7364            1.0  \n",
            "7416            1.0  \n",
            "7425            0.0  \n",
            "7478            1.0  \n",
            "\n",
            "[5776 rows x 13 columns]\n"
          ]
        }
      ],
      "source": [
        "# 2.4.6 Find outliers for 'price in $', 'minimum_nights', and 'Rating' using the standard multiplier (1.5)\n",
        "outliers_price = outliers(df, 'price in $',1.5)\n",
        "print(\"Outliers for 'price in $':\")\n",
        "print(outliers_price)\n",
        "\n",
        "\n",
        "outliers_nights = outliers(df, 'minimum_nights',1.5)\n",
        "print(\"Outliers for 'minimum_nights':\")\n",
        "print(outliers_nights)\n",
        "\n",
        "outliers_rating = outliers(df, 'Rating',1.5)\n",
        "print(\"Outliers for 'Rating':\")\n",
        "print(outliers_rating)"
      ]
    },
    {
      "cell_type": "code",
      "execution_count": null,
      "id": "12eea4f0-c061-434c-b27e-3d7897a89d22",
      "metadata": {
        "tags": [],
        "id": "12eea4f0-c061-434c-b27e-3d7897a89d22",
        "colab": {
          "base_uri": "https://localhost:8080/"
        },
        "outputId": "d506d549-573b-4160-f9b3-3f77bc4f6ad0"
      },
      "outputs": [
        {
          "output_type": "stream",
          "name": "stdout",
          "text": [
            "Outliers for 'price in $': 7256\n",
            "Outliers for 'minimum_nights': 7277\n",
            "Outliers for 'Rating': 5776\n"
          ]
        }
      ],
      "source": [
        "# 2.4.7 Display the count of outliers in each selected column\n",
        "count_outliers_price = len(outliers(df, 'price in $',1.5))\n",
        "print(\"Outliers for 'price in $':\",count_outliers_price)\n",
        "\n",
        "count_outliers_nights = len(outliers(df, 'minimum_nights',1.5))\n",
        "print(\"Outliers for 'minimum_nights':\",count_outliers_nights)\n",
        "\n",
        "count_outliers_rating = len(outliers(df, 'Rating',1.5))\n",
        "print(\"Outliers for 'Rating':\",count_outliers_rating)"
      ]
    },
    {
      "cell_type": "code",
      "execution_count": null,
      "id": "8bd6997d-bbb5-4361-a4a2-9f983fe47685",
      "metadata": {
        "tags": [],
        "id": "8bd6997d-bbb5-4361-a4a2-9f983fe47685",
        "colab": {
          "base_uri": "https://localhost:8080/"
        },
        "outputId": "3b466211-9b71-48cf-9de3-284d2034b2ba"
      },
      "outputs": [
        {
          "output_type": "stream",
          "name": "stdout",
          "text": [
            "Outliers for 'price in $':\n",
            "        host_id                           neighbourhood        room_type  \\\n",
            "0          3159  Oostelijk Havengebied - Indische Buurt     Private room   \n",
            "1         59484                            Centrum-Oost     Private room   \n",
            "2       1100324                 De Pijp - Rivierenbuurt  Entire home/apt   \n",
            "3        748161                                Oud-Oost  Entire home/apt   \n",
            "4         97647                            Centrum-West     Private room   \n",
            "...         ...                                     ...              ...   \n",
            "7603   16570501                  De Baarsjes - Oud-West  Entire home/apt   \n",
            "7604  132654754                                  Osdorp  Entire home/apt   \n",
            "7605   23932215                  De Baarsjes - Oud-West  Entire home/apt   \n",
            "7606    4437313                                    Zuid  Entire home/apt   \n",
            "7607   70167802                  De Baarsjes - Oud-West  Entire home/apt   \n",
            "\n",
            "      price in $  minimum_nights  availability_365 Apartment_type       City  \\\n",
            "0           69.0             3.0               7.0          Condo  Amsterdam   \n",
            "1          106.0             1.0               0.0      Townhouse  Amsterdam   \n",
            "2          270.0             4.0               2.0    Rental unit  Amsterdam   \n",
            "3          200.0             3.0               0.0    Rental unit  Amsterdam   \n",
            "4          137.0             3.0               0.0      Houseboat  Amsterdam   \n",
            "...          ...             ...               ...            ...        ...   \n",
            "7603       500.0             2.0              17.0    Rental unit  Amsterdam   \n",
            "7604       190.0             2.0              34.0    Rental unit  Amsterdam   \n",
            "7605       359.0             2.0              18.0    Rental unit  Amsterdam   \n",
            "7606       223.0             1.0              73.0           Home  Amsterdam   \n",
            "7607       139.0             2.0             100.0          Condo  Amsterdam   \n",
            "\n",
            "      Rating  No_of_bed_rooms  No_of_beds  No_of_bathrooms  Bathroom_type  \n",
            "0       4.89              1.0         1.0              1.5            0.0  \n",
            "1       4.44              1.0         1.0              NaN            1.0  \n",
            "2       4.86              3.0         3.0              1.5            1.0  \n",
            "3       4.76              1.0         1.0              1.5            1.0  \n",
            "4       4.94              1.0         1.0              1.5            1.0  \n",
            "...      ...              ...         ...              ...            ...  \n",
            "7603     NaN              2.0         2.0              1.0            1.0  \n",
            "7604     NaN              2.0         2.0              1.0            1.0  \n",
            "7605     NaN              2.0         2.0              1.0            1.0  \n",
            "7606     NaN              2.0         2.0              2.0            1.0  \n",
            "7607     NaN              1.0         1.0              1.0            1.0  \n",
            "\n",
            "[7484 rows x 13 columns]\n",
            "Outliers for 'minimum_nights':\n",
            "        host_id                           neighbourhood        room_type  \\\n",
            "0          3159  Oostelijk Havengebied - Indische Buurt     Private room   \n",
            "1         59484                            Centrum-Oost     Private room   \n",
            "2       1100324                 De Pijp - Rivierenbuurt  Entire home/apt   \n",
            "3        748161                                Oud-Oost  Entire home/apt   \n",
            "4         97647                            Centrum-West     Private room   \n",
            "...         ...                                     ...              ...   \n",
            "7603   16570501                  De Baarsjes - Oud-West  Entire home/apt   \n",
            "7604  132654754                                  Osdorp  Entire home/apt   \n",
            "7605   23932215                  De Baarsjes - Oud-West  Entire home/apt   \n",
            "7606    4437313                                    Zuid  Entire home/apt   \n",
            "7607   70167802                  De Baarsjes - Oud-West  Entire home/apt   \n",
            "\n",
            "      price in $  minimum_nights  availability_365 Apartment_type       City  \\\n",
            "0           69.0             3.0               7.0          Condo  Amsterdam   \n",
            "1          106.0             1.0               0.0      Townhouse  Amsterdam   \n",
            "2          270.0             4.0               2.0    Rental unit  Amsterdam   \n",
            "3          200.0             3.0               0.0    Rental unit  Amsterdam   \n",
            "4          137.0             3.0               0.0      Houseboat  Amsterdam   \n",
            "...          ...             ...               ...            ...        ...   \n",
            "7603       500.0             2.0              17.0    Rental unit  Amsterdam   \n",
            "7604       190.0             2.0              34.0    Rental unit  Amsterdam   \n",
            "7605       359.0             2.0              18.0    Rental unit  Amsterdam   \n",
            "7606       223.0             1.0              73.0           Home  Amsterdam   \n",
            "7607       139.0             2.0             100.0          Condo  Amsterdam   \n",
            "\n",
            "      Rating  No_of_bed_rooms  No_of_beds  No_of_bathrooms  Bathroom_type  \n",
            "0       4.89              1.0         1.0              1.5            0.0  \n",
            "1       4.44              1.0         1.0              NaN            1.0  \n",
            "2       4.86              3.0         3.0              1.5            1.0  \n",
            "3       4.76              1.0         1.0              1.5            1.0  \n",
            "4       4.94              1.0         1.0              1.5            1.0  \n",
            "...      ...              ...         ...              ...            ...  \n",
            "7603     NaN              2.0         2.0              1.0            1.0  \n",
            "7604     NaN              2.0         2.0              1.0            1.0  \n",
            "7605     NaN              2.0         2.0              1.0            1.0  \n",
            "7606     NaN              2.0         2.0              2.0            1.0  \n",
            "7607     NaN              1.0         1.0              1.0            1.0  \n",
            "\n",
            "[7357 rows x 13 columns]\n",
            "Outliers for 'Rating':\n",
            "        host_id                           neighbourhood        room_type  \\\n",
            "0          3159  Oostelijk Havengebied - Indische Buurt     Private room   \n",
            "1         59484                            Centrum-Oost     Private room   \n",
            "2       1100324                 De Pijp - Rivierenbuurt  Entire home/apt   \n",
            "3        748161                                Oud-Oost  Entire home/apt   \n",
            "4         97647                            Centrum-West     Private room   \n",
            "...         ...                                     ...              ...   \n",
            "7363  311321908                            Centrum-West     Private room   \n",
            "7364  311321908                            Centrum-West     Private room   \n",
            "7416  511848149                  De Aker - Nieuw Sloten     Private room   \n",
            "7425  108331970                         Watergraafsmeer     Private room   \n",
            "7478   49402797                              Westerpark  Entire home/apt   \n",
            "\n",
            "      price in $  minimum_nights  availability_365   Apartment_type  \\\n",
            "0           69.0             3.0               7.0            Condo   \n",
            "1          106.0             1.0               0.0        Townhouse   \n",
            "2          270.0             4.0               2.0      Rental unit   \n",
            "3          200.0             3.0               0.0      Rental unit   \n",
            "4          137.0             3.0               0.0        Houseboat   \n",
            "...          ...             ...               ...              ...   \n",
            "7363       356.0             1.0             356.0            Hotel   \n",
            "7364       406.0             1.0             286.0            Hotel   \n",
            "7416        99.0             1.0              95.0             Home   \n",
            "7425       106.0             1.0              19.0  casa particular   \n",
            "7478       316.0             4.0              12.0            Condo   \n",
            "\n",
            "           City  Rating  No_of_bed_rooms  No_of_beds  No_of_bathrooms  \\\n",
            "0     Amsterdam    4.89              1.0         1.0              1.5   \n",
            "1     Amsterdam    4.44              1.0         1.0              NaN   \n",
            "2     Amsterdam    4.86              3.0         3.0              1.5   \n",
            "3     Amsterdam    4.76              1.0         1.0              1.5   \n",
            "4     Amsterdam    4.94              1.0         1.0              1.5   \n",
            "...         ...     ...              ...         ...              ...   \n",
            "7363  Amsterdam    4.90              1.0         1.0              1.0   \n",
            "7364  Amsterdam    4.71              1.0         1.0              1.0   \n",
            "7416  Amsterdam    4.86              1.0         1.0              1.0   \n",
            "7425  Amsterdam    5.00              1.0         1.0              1.5   \n",
            "7478  Amsterdam    5.00              2.0         2.0              1.0   \n",
            "\n",
            "      Bathroom_type  \n",
            "0               0.0  \n",
            "1               1.0  \n",
            "2               1.0  \n",
            "3               1.0  \n",
            "4               1.0  \n",
            "...             ...  \n",
            "7363            1.0  \n",
            "7364            1.0  \n",
            "7416            1.0  \n",
            "7425            0.0  \n",
            "7478            1.0  \n",
            "\n",
            "[5993 rows x 13 columns]\n"
          ]
        }
      ],
      "source": [
        "# 2.4.8 Find outliers for the same column using a multiplier of 3.\n",
        "outliers_price = outliers(df, 'price in $',3)\n",
        "print(\"Outliers for 'price in $':\")\n",
        "print(outliers_price)\n",
        "\n",
        "\n",
        "outliers_nights = outliers(df, 'minimum_nights',3)\n",
        "print(\"Outliers for 'minimum_nights':\")\n",
        "print(outliers_nights)\n",
        "\n",
        "outliers_rating = outliers(df, 'Rating',3)\n",
        "print(\"Outliers for 'Rating':\")\n",
        "print(outliers_rating)"
      ]
    },
    {
      "cell_type": "code",
      "execution_count": null,
      "id": "f1988f3c",
      "metadata": {
        "id": "f1988f3c",
        "colab": {
          "base_uri": "https://localhost:8080/"
        },
        "outputId": "31fca57f-d81c-4b92-f468-e8cb9567e9aa"
      },
      "outputs": [
        {
          "output_type": "stream",
          "name": "stdout",
          "text": [
            "Outliers for 'price in $': 7484\n",
            "Outliers for 'minimum_nights': 7357\n",
            "Outliers for 'Rating':\n",
            "5993\n",
            "\n",
            "\n"
          ]
        }
      ],
      "source": [
        "# 2.4.9 Display the new count of outliers in each selected column\n",
        "count_outliers_price = len(outliers(df, 'price in $',3))\n",
        "print(\"Outliers for 'price in $':\",count_outliers_price)\n",
        "\n",
        "count_outliers_nights = len(outliers(df, 'minimum_nights',3))\n",
        "print(\"Outliers for 'minimum_nights':\",count_outliers_nights)\n",
        "count_outliers_rating = len(outliers(df, 'Rating',3))\n",
        "\n",
        "print(\"Outliers for 'Rating':\",count_outliers_rating)\n"
      ]
    },
    {
      "cell_type": "raw",
      "id": "6bb49add",
      "metadata": {
        "id": "6bb49add"
      },
      "source": [
        "2.4.10 What do you think should be done with the outliers for each of the columns?\n",
        "(You are not required to actually remove them for thie Homework).\n",
        "\n",
        "price in $:we can create bins or categories for prices to group listings into different price ranges, which might help handle extreme values.\n",
        "\n",
        "minimum_nights: We can also use Binning method for minimum_nights.\n",
        "\n",
        "Rating: AS ratings are important measures, we can keep them and incase of extreme basied ratings we can remove or keeo them.\n",
        "\n"
      ]
    },
    {
      "cell_type": "markdown",
      "id": "a8144c46-0c57-411e-a3c7-d15b4fee4f7a",
      "metadata": {
        "id": "a8144c46-0c57-411e-a3c7-d15b4fee4f7a"
      },
      "source": [
        "### 2.5. **Compute the Average Price for Each Type of Listing.**"
      ]
    },
    {
      "cell_type": "code",
      "execution_count": null,
      "id": "a7cced60-c5ad-4567-99aa-251076ccc1ba",
      "metadata": {
        "tags": [],
        "id": "a7cced60-c5ad-4567-99aa-251076ccc1ba"
      },
      "outputs": [],
      "source": [
        "# 2.5.1 Group the data by 'room_type' and calculate the average price for each type\n",
        "avg_price_room_type = df.groupby('room_type')['price in $'].mean()"
      ]
    },
    {
      "cell_type": "code",
      "execution_count": null,
      "id": "03510d93-19f3-48ec-9f1f-d84e0148fb79",
      "metadata": {
        "tags": [],
        "id": "03510d93-19f3-48ec-9f1f-d84e0148fb79",
        "colab": {
          "base_uri": "https://localhost:8080/",
          "height": 640
        },
        "outputId": "814f56e2-0b34-4d5f-cdca-891118e2d287"
      },
      "outputs": [
        {
          "output_type": "display_data",
          "data": {
            "text/plain": [
              "<Figure size 500x600 with 1 Axes>"
            ],
            "image/png": "[encoded data removed]"
          },
          "metadata": {}
        }
      ],
      "source": [
        "# 2.5.2 Plot and display  the average price for each room type\n",
        "plt.figure(figsize=(5, 6))\n",
        "avg_price_room_type.plot(kind='bar')\n",
        "plt.show()"
      ]
    },
    {
      "cell_type": "markdown",
      "id": "27dc4a6d",
      "metadata": {
        "id": "27dc4a6d"
      },
      "source": [
        "### 2.6. **How Many Listings Are There for Each Unique 'Apartment Type'?**"
      ]
    },
    {
      "cell_type": "code",
      "execution_count": null,
      "id": "52a47b7a-0f56-4d02-98a5-82eb5ec643b6",
      "metadata": {
        "tags": [],
        "id": "52a47b7a-0f56-4d02-98a5-82eb5ec643b6",
        "colab": {
          "base_uri": "https://localhost:8080/"
        },
        "outputId": "8ae1c491-0cb7-4a62-c8c3-9473d4fef821"
      },
      "outputs": [
        {
          "output_type": "stream",
          "name": "stdout",
          "text": [
            "Rental unit           3383\n",
            "Condo                 1597\n",
            "Home                   704\n",
            "Townhouse              313\n",
            "Bed and breakfast      311\n",
            "Houseboat              240\n",
            "Loft                   233\n",
            "Boat                   144\n",
            "Hotel                  118\n",
            "Guest suite            109\n",
            "Serviced apartment     106\n",
            "Boutique hotel         102\n",
            "Hostel                  56\n",
            "Villa                   35\n",
            "Guesthouse              33\n",
            "Aparthotel              20\n",
            "Place to stay           20\n",
            "Vacation home           19\n",
            "casa particular         17\n",
            "Tiny home               10\n",
            "Cabin                    9\n",
            "Earthen home             5\n",
            "Farm stay                5\n",
            "Camper/RV                3\n",
            "Tent                     3\n",
            "Cottage                  3\n",
            "Nature lodge             2\n",
            "Chalet                   2\n",
            "Tower                    1\n",
            "Barn                     1\n",
            "Cave                     1\n",
            "Yurt                     1\n",
            "Bungalow                 1\n",
            "Name: Apartment_type, dtype: int64\n"
          ]
        }
      ],
      "source": [
        "# 2.6.1 Count the frequency of each unique 'Apartment_type'\n",
        "apt_type_counts = df['Apartment_type'].value_counts()\n",
        "print(apt_type_counts)\n"
      ]
    },
    {
      "cell_type": "code",
      "execution_count": null,
      "id": "aa3171de-3e64-424b-8e3f-d0d58fee3ebe",
      "metadata": {
        "tags": [],
        "id": "aa3171de-3e64-424b-8e3f-d0d58fee3ebe",
        "colab": {
          "base_uri": "https://localhost:8080/",
          "height": 646
        },
        "outputId": "0fa6749f-76c2-4561-d035-fadc98f499de"
      },
      "outputs": [
        {
          "output_type": "display_data",
          "data": {
            "text/plain": [
              "<Figure size 500x600 with 1 Axes>"
            ],
            "image/png": "[encoded data removed]"
          },
          "metadata": {}
        }
      ],
      "source": [
        "# 2.6.2 Plot the frequency distribution of 'Apartment_type'\n",
        "plt.figure(figsize=(5, 6))\n",
        "apt_type_counts.plot(kind='bar', color='skyblue')\n",
        "plt.show()"
      ]
    },
    {
      "cell_type": "code",
      "execution_count": null,
      "id": "4b4521c8",
      "metadata": {
        "tags": [],
        "id": "4b4521c8",
        "colab": {
          "base_uri": "https://localhost:8080/"
        },
        "outputId": "319e3d98-0667-4a90-d9db-d2fac7db35b4"
      },
      "outputs": [
        {
          "output_type": "stream",
          "name": "stdout",
          "text": [
            "Top 10 most common apartment types:\n",
            "Rental unit          3383\n",
            "Condo                1597\n",
            "Home                  704\n",
            "Townhouse             313\n",
            "Bed and breakfast     311\n",
            "Houseboat             240\n",
            "Loft                  233\n",
            "Boat                  144\n",
            "Hotel                 118\n",
            "Guest suite           109\n",
            "Name: Apartment_type, dtype: int64\n"
          ]
        }
      ],
      "source": [
        "# 2.6.3. Display the top 10 most common apartment types\n",
        "print(\"Top 10 most common apartment types:\")\n",
        "print(apt_type_counts.head(10))"
      ]
    },
    {
      "cell_type": "markdown",
      "id": "e5400d3c",
      "metadata": {
        "id": "e5400d3c"
      },
      "source": [
        "### 2.7. **Identify the Top 5 Neighbourhoods with the Highest Average Listing Prices.**"
      ]
    },
    {
      "cell_type": "code",
      "execution_count": null,
      "id": "0c573356-e266-4550-8cb7-895afacd1efc",
      "metadata": {
        "tags": [],
        "id": "0c573356-e266-4550-8cb7-895afacd1efc",
        "colab": {
          "base_uri": "https://localhost:8080/"
        },
        "outputId": "2807c874-9aaa-4024-b800-566b35b62d77"
      },
      "outputs": [
        {
          "output_type": "stream",
          "name": "stdout",
          "text": [
            "Top 5 most expensive neighborhoods based on average price:\n",
            "neighbourhood\n",
            "Centrum-Oost               308.867269\n",
            "Centrum-West               302.632830\n",
            "Zuid                       281.211765\n",
            "De Pijp - Rivierenbuurt    266.075810\n",
            "Oud-Noord                  252.130058\n",
            "Name: price in $, dtype: float64\n"
          ]
        }
      ],
      "source": [
        "# 2.7.1 Find the top 5 most expensive neighbourhoods based on average price\n",
        "# Group the data by 'neighbourhood' and calculate the average price for each neighborhood\n",
        "avg_price_neighborhood = df.groupby('neighbourhood')['price in $'].mean()\n",
        "print(\"Top 5 most expensive neighborhoods based on average price:\")\n",
        "print(avg_price_neighborhood.sort_values(ascending=False).head(5))\n"
      ]
    },
    {
      "cell_type": "code",
      "execution_count": null,
      "id": "606edc4e",
      "metadata": {
        "id": "606edc4e",
        "colab": {
          "base_uri": "https://localhost:8080/",
          "height": 684
        },
        "outputId": "0ad44bd8-3934-4ebf-b465-c729ee5559fc"
      },
      "outputs": [
        {
          "output_type": "display_data",
          "data": {
            "text/plain": [
              "<Figure size 1000x600 with 1 Axes>"
            ],
            "image/png": "[encoded data removed]"
          },
          "metadata": {}
        }
      ],
      "source": [
        "# 2.7.2. Plot and display the top 5 most expensive neighbourhoods\n",
        "expensive_neighborhoods = avg_price_neighborhood.sort_values(ascending=False).head(5)\n",
        "# Create a bar plot\n",
        "plt.figure(figsize=(10, 6))\n",
        "expensive_neighborhoods.plot(kind='bar')\n",
        "plt.show()"
      ]
    },
    {
      "cell_type": "markdown",
      "id": "b6185d59-8190-40ca-bcbc-8021d710f58c",
      "metadata": {
        "id": "b6185d59-8190-40ca-bcbc-8021d710f58c"
      },
      "source": [
        "### 2.8. **Which 'Apartment Types' Are Most and Least Frequently Available?**"
      ]
    },
    {
      "cell_type": "code",
      "execution_count": null,
      "id": "4416d5d1",
      "metadata": {
        "id": "4416d5d1",
        "colab": {
          "base_uri": "https://localhost:8080/"
        },
        "outputId": "0b9235d4-71dc-4756-b4dd-69ebb3f76a5f"
      },
      "outputs": [
        {
          "output_type": "stream",
          "name": "stdout",
          "text": [
            "Most commonly available Apartment Type: Rental unit\n",
            "Least commonly available Apartment Type: Tower\n"
          ]
        }
      ],
      "source": [
        "# 2.8.1 Count the frequency of each unique 'Apartment_type' to find the most and least commonly available types\n",
        "most_common_apartment_type = apt_type_counts.idxmax()\n",
        "least_common_apartment_type = apt_type_counts.idxmin()\n",
        "print(\"Most commonly available Apartment Type:\", most_common_apartment_type)\n",
        "print(\"Least commonly available Apartment Type:\", least_common_apartment_type)\n"
      ]
    },
    {
      "cell_type": "code",
      "execution_count": null,
      "id": "81f00442",
      "metadata": {
        "id": "81f00442",
        "colab": {
          "base_uri": "https://localhost:8080/"
        },
        "outputId": "72258e6a-995a-4621-b7fa-96ec7251d406"
      },
      "outputs": [
        {
          "output_type": "stream",
          "name": "stdout",
          "text": [
            "Top 5 most commonly available Apartment Types:\n",
            "Rental unit          3383\n",
            "Condo                1597\n",
            "Home                  704\n",
            "Townhouse             313\n",
            "Bed and breakfast     311\n",
            "Name: Apartment_type, dtype: int64\n",
            "\n",
            "Least commonly available Apartment Type:\n",
            "Tower       1\n",
            "Barn        1\n",
            "Cave        1\n",
            "Yurt        1\n",
            "Bungalow    1\n",
            "Name: Apartment_type, dtype: int64\n"
          ]
        }
      ],
      "source": [
        "# 2.8.2 Find the top 5 most commonly available and the least commonly available apartment types\n",
        "# Display the results\n",
        "print(\"Top 5 most commonly available Apartment Types:\")\n",
        "print(apt_type_counts.head(5))\n",
        "print(\"\\nLeast commonly available Apartment Type:\")\n",
        "print(apt_type_counts.tail(5))\n"
      ]
    },
    {
      "cell_type": "code",
      "execution_count": null,
      "id": "65fcb07c-0abb-4b5c-b777-e1c5ae79e24f",
      "metadata": {
        "tags": [],
        "id": "65fcb07c-0abb-4b5c-b777-e1c5ae79e24f",
        "colab": {
          "base_uri": "https://localhost:8080/",
          "height": 584
        },
        "outputId": "6cfb417c-0d89-4958-c026-a918fd80905b"
      },
      "outputs": [
        {
          "output_type": "display_data",
          "data": {
            "text/plain": [
              "<Figure size 1000x600 with 1 Axes>"
            ],
            "image/png": "[encoded data removed]"
          },
          "metadata": {}
        }
      ],
      "source": [
        "# 2.8.3 Plot and display the most and least commonly available apartment types\n",
        "plt.figure(figsize=(10, 6))\n",
        "apt_type_counts[[most_common_apartment_type, least_common_apartment_type]].plot(kind='bar')\n",
        "plt.show()"
      ]
    }
  ],
  "metadata": {
    "kernelspec": {
      "display_name": "Python 3 (ipykernel)",
      "language": "python",
      "name": "python3"
    },
    "language_info": {
      "codemirror_mode": {
        "name": "ipython",
        "version": 3
      },
      "file_extension": ".py",
      "mimetype": "text/x-python",
      "name": "python",
      "nbconvert_exporter": "python",
      "pygments_lexer": "ipython3",
      "version": "3.9.13"
    },
    "colab": {
      "provenance": [],
      "collapsed_sections": [
        "b1f0279e-f8af-4079-af42-ac6bad50bfb8"
      ]
    }
  },
  "nbformat": 4,
  "nbformat_minor": 5
}
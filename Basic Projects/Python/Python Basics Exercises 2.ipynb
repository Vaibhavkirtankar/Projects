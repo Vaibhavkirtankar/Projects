{
  "nbformat": 4,
  "nbformat_minor": 0,
  "metadata": {
    "colab": {
      "provenance": []
    },
    "kernelspec": {
      "name": "python3",
      "display_name": "Python 3"
    },
    "language_info": {
      "name": "python"
    }
  },
  "cells": [
    {
      "cell_type": "markdown",
      "source": [
        "## 1. Create a program that asks the user to enter their name and their age. Print out a message addressed to them that tells them the year that they will turn 100 years old."
      ],
      "metadata": {
        "id": "4P7PrIeSdYSz"
      }
    },
    {
      "cell_type": "code",
      "source": [
        "user_name=input(\"Please enter your Name : \")\n",
        "user_age=int(input(\"Please enter your age : \"))\n",
        "# user_final_age=2023 +user_age\n",
        "print(f\"You will be turing 100 at age of :\", user_age+2023 )"
      ],
      "metadata": {
        "colab": {
          "base_uri": "https://localhost:8080/"
        },
        "id": "bc6ttkQcdfmR",
        "outputId": "0b882b90-cfa3-49fa-86c5-bc717980183b"
      },
      "execution_count": null,
      "outputs": [
        {
          "output_type": "stream",
          "name": "stdout",
          "text": [
            "Please enter your Name : wds\n",
            "Please enter your age : 123\n",
            "You will be turing 100 at age of : 2146\n"
          ]
        }
      ]
    },
    {
      "cell_type": "markdown",
      "source": [
        "## 2. Ask the user for a number. Depending on whether the number is even or odd, print out an appropriate message to the user.\n",
        "\n",
        "Extras:\n",
        "\n",
        "If the number is a multiple of 4, print out a different message.\n",
        "Ask the user for two numbers: one number to check (call it num) and one number to divide by (check). If check divides evenly into num, tell that to the user. If not, print a different appropriate message."
      ],
      "metadata": {
        "id": "TpytMD97fTDV"
      }
    },
    {
      "cell_type": "code",
      "source": [
        "num=int(input(\"Please enter first number :\"))\n",
        "check=int(input(\"Please enter second number : \"))\n",
        "\n",
        "if check % num == 0:\n",
        "  print(\"Num evenly divides by Check \")\n",
        "else:\n",
        "  print(\"Num doesn't Evenly divides\")"
      ],
      "metadata": {
        "colab": {
          "base_uri": "https://localhost:8080/"
        },
        "id": "jYDiDATcfUPM",
        "outputId": "c6a13875-e0a7-429a-befc-cb03175ad353"
      },
      "execution_count": null,
      "outputs": [
        {
          "output_type": "stream",
          "name": "stdout",
          "text": [
            "Please enter first number :12\n",
            "Please enter second number : 6\n",
            "Num doesn't Evenly divides\n"
          ]
        }
      ]
    },
    {
      "cell_type": "markdown",
      "source": [
        "3. Take a list, say for example this one:\n",
        "\n",
        "  a = [1, 1, 2, 3, 5, 8, 13, 21, 34, 55, 89]\n",
        "and write a program that prints out all the elements of the list that are less than 5.\n",
        "\n",
        "Extras:\n",
        "\n",
        "Instead of printing the elements one by one, make a new list that has all the elements less than 5 from this list in it and print out this new list.\n",
        "Write this in one line of Python.\n",
        "Ask the user for a number and return a list that contains only elements from the original list a that are smaller than that number given by the user.\n"
      ],
      "metadata": {
        "id": "SEOR5LlqkweV"
      }
    },
    {
      "cell_type": "code",
      "source": [
        "a = [1, 1, 2, 3, 5, 8, 13, 21, 34, 55, 89]\n",
        "num=int(input(\"Please enter an Number : \"))\n",
        "\n",
        "for i in a:\n",
        "  if i < num :\n",
        "    print(i)"
      ],
      "metadata": {
        "colab": {
          "base_uri": "https://localhost:8080/"
        },
        "id": "DGOXtOCZkxYV",
        "outputId": "8593832d-50e5-43b4-bcc6-b4574fda885a"
      },
      "execution_count": null,
      "outputs": [
        {
          "output_type": "stream",
          "name": "stdout",
          "text": [
            "Please enter an Number : 5\n",
            "1\n",
            "1\n",
            "2\n",
            "3\n"
          ]
        }
      ]
    },
    {
      "cell_type": "code",
      "source": [],
      "metadata": {
        "id": "l6ue33TBlDS3"
      },
      "execution_count": null,
      "outputs": []
    }
  ]
}
{
  "nbformat": 4,
  "nbformat_minor": 0,
  "metadata": {
    "colab": {
      "provenance": []
    },
    "kernelspec": {
      "name": "python3",
      "display_name": "Python 3"
    },
    "language_info": {
      "name": "python"
    }
  },
  "cells": [
    {
      "cell_type": "markdown",
      "source": [
        "#### Basic Data Exploration"
      ],
      "metadata": {
        "id": "kgyDyKSX_10f"
      }
    },
    {
      "cell_type": "code",
      "source": [
        "# Importing Dataset and Libraries\n",
        "import numpy as np\n",
        "from sklearn.linear_model import LinearRegression\n",
        "import pandas as pd\n",
        "import matplotlib.pyplot as plt\n",
        "from scipy import stats\n",
        "import statsmodels.api as sm\n",
        "from sklearn.model_selection import train_test_split\n",
        "from sklearn.linear_model import Ridge, Lasso\n",
        "from sklearn.metrics import mean_squared_error\n",
        "from sklearn.linear_model import LogisticRegression\n",
        "from scipy.stats import ttest_ind\n",
        "from sklearn.metrics import accuracy_score\n",
        "df = pd.read_csv('https://raw.githubusercontent.com/ASHOKKUMAR-K/Weight_Prediction/master/weight-height.csv',index_col=False)\n"
      ],
      "metadata": {
        "id": "uyf7Bvo1_30x"
      },
      "execution_count": null,
      "outputs": []
    },
    {
      "cell_type": "code",
      "source": [
        "#Checking the shape\n",
        "df.shape"
      ],
      "metadata": {
        "colab": {
          "base_uri": "https://localhost:8080/"
        },
        "id": "hNnu02saBu1U",
        "outputId": "32a51c15-d119-4001-9d36-5685378e2091"
      },
      "execution_count": null,
      "outputs": [
        {
          "output_type": "execute_result",
          "data": {
            "text/plain": [
              "(10000, 3)"
            ]
          },
          "metadata": {},
          "execution_count": 52
        }
      ]
    },
    {
      "cell_type": "code",
      "source": [
        "#Checking data set\n",
        "df.head()"
      ],
      "metadata": {
        "colab": {
          "base_uri": "https://localhost:8080/",
          "height": 206
        },
        "id": "Wqx8Nv_VAR_5",
        "outputId": "71a59947-83da-4d1f-a755-724aacaa2096"
      },
      "execution_count": null,
      "outputs": [
        {
          "output_type": "execute_result",
          "data": {
            "text/plain": [
              "  Gender     Height      Weight\n",
              "0   Male  73.847017  241.893563\n",
              "1   Male  68.781904  162.310473\n",
              "2   Male  74.110105  212.740856\n",
              "3   Male  71.730978  220.042470\n",
              "4   Male  69.881796  206.349801"
            ],
            "text/html": [
              "\n",
              "  <div id=\"df-909d3b3c-6b69-4c94-bf3d-9fd7723749d1\">\n",
              "    <div class=\"colab-df-container\">\n",
              "      <div>\n",
              "<style scoped>\n",
              "    .dataframe tbody tr th:only-of-type {\n",
              "        vertical-align: middle;\n",
              "    }\n",
              "\n",
              "    .dataframe tbody tr th {\n",
              "        vertical-align: top;\n",
              "    }\n",
              "\n",
              "    .dataframe thead th {\n",
              "        text-align: right;\n",
              "    }\n",
              "</style>\n",
              "<table border=\"1\" class=\"dataframe\">\n",
              "  <thead>\n",
              "    <tr style=\"text-align: right;\">\n",
              "      <th></th>\n",
              "      <th>Gender</th>\n",
              "      <th>Height</th>\n",
              "      <th>Weight</th>\n",
              "    </tr>\n",
              "  </thead>\n",
              "  <tbody>\n",
              "    <tr>\n",
              "      <th>0</th>\n",
              "      <td>Male</td>\n",
              "      <td>73.847017</td>\n",
              "      <td>241.893563</td>\n",
              "    </tr>\n",
              "    <tr>\n",
              "      <th>1</th>\n",
              "      <td>Male</td>\n",
              "      <td>68.781904</td>\n",
              "      <td>162.310473</td>\n",
              "    </tr>\n",
              "    <tr>\n",
              "      <th>2</th>\n",
              "      <td>Male</td>\n",
              "      <td>74.110105</td>\n",
              "      <td>212.740856</td>\n",
              "    </tr>\n",
              "    <tr>\n",
              "      <th>3</th>\n",
              "      <td>Male</td>\n",
              "      <td>71.730978</td>\n",
              "      <td>220.042470</td>\n",
              "    </tr>\n",
              "    <tr>\n",
              "      <th>4</th>\n",
              "      <td>Male</td>\n",
              "      <td>69.881796</td>\n",
              "      <td>206.349801</td>\n",
              "    </tr>\n",
              "  </tbody>\n",
              "</table>\n",
              "</div>\n",
              "      <button class=\"colab-df-convert\" onclick=\"convertToInteractive('df-909d3b3c-6b69-4c94-bf3d-9fd7723749d1')\"\n",
              "              title=\"Convert this dataframe to an interactive table.\"\n",
              "              style=\"display:none;\">\n",
              "        \n",
              "  <svg xmlns=\"http://www.w3.org/2000/svg\" height=\"24px\"viewBox=\"0 0 24 24\"\n",
              "       width=\"24px\">\n",
              "    <path d=\"M0 0h24v24H0V0z\" fill=\"none\"/>\n",
              "    <path d=\"M18.56 5.44l.94 2.06.94-2.06 2.06-.94-2.06-.94-.94-2.06-.94 2.06-2.06.94zm-11 1L8.5 8.5l.94-2.06 2.06-.94-2.06-.94L8.5 2.5l-.94 2.06-2.06.94zm10 10l.94 2.06.94-2.06 2.06-.94-2.06-.94-.94-2.06-.94 2.06-2.06.94z\"/><path d=\"M17.41 7.96l-1.37-1.37c-.4-.4-.92-.59-1.43-.59-.52 0-1.04.2-1.43.59L10.3 9.45l-7.72 7.72c-.78.78-.78 2.05 0 2.83L4 21.41c.39.39.9.59 1.41.59.51 0 1.02-.2 1.41-.59l7.78-7.78 2.81-2.81c.8-.78.8-2.07 0-2.86zM5.41 20L4 18.59l7.72-7.72 1.47 1.35L5.41 20z\"/>\n",
              "  </svg>\n",
              "      </button>\n",
              "      \n",
              "  <style>\n",
              "    .colab-df-container {\n",
              "      display:flex;\n",
              "      flex-wrap:wrap;\n",
              "      gap: 12px;\n",
              "    }\n",
              "\n",
              "    .colab-df-convert {\n",
              "      background-color: #E8F0FE;\n",
              "      border: none;\n",
              "      border-radius: 50%;\n",
              "      cursor: pointer;\n",
              "      display: none;\n",
              "      fill: #1967D2;\n",
              "      height: 32px;\n",
              "      padding: 0 0 0 0;\n",
              "      width: 32px;\n",
              "    }\n",
              "\n",
              "    .colab-df-convert:hover {\n",
              "      background-color: #E2EBFA;\n",
              "      box-shadow: 0px 1px 2px rgba(60, 64, 67, 0.3), 0px 1px 3px 1px rgba(60, 64, 67, 0.15);\n",
              "      fill: #174EA6;\n",
              "    }\n",
              "\n",
              "    [theme=dark] .colab-df-convert {\n",
              "      background-color: #3B4455;\n",
              "      fill: #D2E3FC;\n",
              "    }\n",
              "\n",
              "    [theme=dark] .colab-df-convert:hover {\n",
              "      background-color: #434B5C;\n",
              "      box-shadow: 0px 1px 3px 1px rgba(0, 0, 0, 0.15);\n",
              "      filter: drop-shadow(0px 1px 2px rgba(0, 0, 0, 0.3));\n",
              "      fill: #FFFFFF;\n",
              "    }\n",
              "  </style>\n",
              "\n",
              "      <script>\n",
              "        const buttonEl =\n",
              "          document.querySelector('#df-909d3b3c-6b69-4c94-bf3d-9fd7723749d1 button.colab-df-convert');\n",
              "        buttonEl.style.display =\n",
              "          google.colab.kernel.accessAllowed ? 'block' : 'none';\n",
              "\n",
              "        async function convertToInteractive(key) {\n",
              "          const element = document.querySelector('#df-909d3b3c-6b69-4c94-bf3d-9fd7723749d1');\n",
              "          const dataTable =\n",
              "            await google.colab.kernel.invokeFunction('convertToInteractive',\n",
              "                                                     [key], {});\n",
              "          if (!dataTable) return;\n",
              "\n",
              "          const docLinkHtml = 'Like what you see? Visit the ' +\n",
              "            '<a target=\"_blank\" href=https://colab.research.google.com/notebooks/data_table.ipynb>data table notebook</a>'\n",
              "            + ' to learn more about interactive tables.';\n",
              "          element.innerHTML = '';\n",
              "          dataTable['output_type'] = 'display_data';\n",
              "          await google.colab.output.renderOutput(dataTable, element);\n",
              "          const docLink = document.createElement('div');\n",
              "          docLink.innerHTML = docLinkHtml;\n",
              "          element.appendChild(docLink);\n",
              "        }\n",
              "      </script>\n",
              "    </div>\n",
              "  </div>\n",
              "  "
            ]
          },
          "metadata": {},
          "execution_count": 53
        }
      ]
    },
    {
      "cell_type": "code",
      "source": [
        "df.tail()"
      ],
      "metadata": {
        "colab": {
          "base_uri": "https://localhost:8080/",
          "height": 206
        },
        "id": "nkznqxo1BAyu",
        "outputId": "f6095cac-0985-428f-cd09-52c901da35a3"
      },
      "execution_count": null,
      "outputs": [
        {
          "output_type": "execute_result",
          "data": {
            "text/plain": [
              "      Gender     Height      Weight\n",
              "9995  Female  66.172652  136.777454\n",
              "9996  Female  67.067155  170.867906\n",
              "9997  Female  63.867992  128.475319\n",
              "9998  Female  69.034243  163.852461\n",
              "9999  Female  61.944246  113.649103"
            ],
            "text/html": [
              "\n",
              "  <div id=\"df-9f85c2b8-4698-4d51-b293-8600d1758999\">\n",
              "    <div class=\"colab-df-container\">\n",
              "      <div>\n",
              "<style scoped>\n",
              "    .dataframe tbody tr th:only-of-type {\n",
              "        vertical-align: middle;\n",
              "    }\n",
              "\n",
              "    .dataframe tbody tr th {\n",
              "        vertical-align: top;\n",
              "    }\n",
              "\n",
              "    .dataframe thead th {\n",
              "        text-align: right;\n",
              "    }\n",
              "</style>\n",
              "<table border=\"1\" class=\"dataframe\">\n",
              "  <thead>\n",
              "    <tr style=\"text-align: right;\">\n",
              "      <th></th>\n",
              "      <th>Gender</th>\n",
              "      <th>Height</th>\n",
              "      <th>Weight</th>\n",
              "    </tr>\n",
              "  </thead>\n",
              "  <tbody>\n",
              "    <tr>\n",
              "      <th>9995</th>\n",
              "      <td>Female</td>\n",
              "      <td>66.172652</td>\n",
              "      <td>136.777454</td>\n",
              "    </tr>\n",
              "    <tr>\n",
              "      <th>9996</th>\n",
              "      <td>Female</td>\n",
              "      <td>67.067155</td>\n",
              "      <td>170.867906</td>\n",
              "    </tr>\n",
              "    <tr>\n",
              "      <th>9997</th>\n",
              "      <td>Female</td>\n",
              "      <td>63.867992</td>\n",
              "      <td>128.475319</td>\n",
              "    </tr>\n",
              "    <tr>\n",
              "      <th>9998</th>\n",
              "      <td>Female</td>\n",
              "      <td>69.034243</td>\n",
              "      <td>163.852461</td>\n",
              "    </tr>\n",
              "    <tr>\n",
              "      <th>9999</th>\n",
              "      <td>Female</td>\n",
              "      <td>61.944246</td>\n",
              "      <td>113.649103</td>\n",
              "    </tr>\n",
              "  </tbody>\n",
              "</table>\n",
              "</div>\n",
              "      <button class=\"colab-df-convert\" onclick=\"convertToInteractive('df-9f85c2b8-4698-4d51-b293-8600d1758999')\"\n",
              "              title=\"Convert this dataframe to an interactive table.\"\n",
              "              style=\"display:none;\">\n",
              "        \n",
              "  <svg xmlns=\"http://www.w3.org/2000/svg\" height=\"24px\"viewBox=\"0 0 24 24\"\n",
              "       width=\"24px\">\n",
              "    <path d=\"M0 0h24v24H0V0z\" fill=\"none\"/>\n",
              "    <path d=\"M18.56 5.44l.94 2.06.94-2.06 2.06-.94-2.06-.94-.94-2.06-.94 2.06-2.06.94zm-11 1L8.5 8.5l.94-2.06 2.06-.94-2.06-.94L8.5 2.5l-.94 2.06-2.06.94zm10 10l.94 2.06.94-2.06 2.06-.94-2.06-.94-.94-2.06-.94 2.06-2.06.94z\"/><path d=\"M17.41 7.96l-1.37-1.37c-.4-.4-.92-.59-1.43-.59-.52 0-1.04.2-1.43.59L10.3 9.45l-7.72 7.72c-.78.78-.78 2.05 0 2.83L4 21.41c.39.39.9.59 1.41.59.51 0 1.02-.2 1.41-.59l7.78-7.78 2.81-2.81c.8-.78.8-2.07 0-2.86zM5.41 20L4 18.59l7.72-7.72 1.47 1.35L5.41 20z\"/>\n",
              "  </svg>\n",
              "      </button>\n",
              "      \n",
              "  <style>\n",
              "    .colab-df-container {\n",
              "      display:flex;\n",
              "      flex-wrap:wrap;\n",
              "      gap: 12px;\n",
              "    }\n",
              "\n",
              "    .colab-df-convert {\n",
              "      background-color: #E8F0FE;\n",
              "      border: none;\n",
              "      border-radius: 50%;\n",
              "      cursor: pointer;\n",
              "      display: none;\n",
              "      fill: #1967D2;\n",
              "      height: 32px;\n",
              "      padding: 0 0 0 0;\n",
              "      width: 32px;\n",
              "    }\n",
              "\n",
              "    .colab-df-convert:hover {\n",
              "      background-color: #E2EBFA;\n",
              "      box-shadow: 0px 1px 2px rgba(60, 64, 67, 0.3), 0px 1px 3px 1px rgba(60, 64, 67, 0.15);\n",
              "      fill: #174EA6;\n",
              "    }\n",
              "\n",
              "    [theme=dark] .colab-df-convert {\n",
              "      background-color: #3B4455;\n",
              "      fill: #D2E3FC;\n",
              "    }\n",
              "\n",
              "    [theme=dark] .colab-df-convert:hover {\n",
              "      background-color: #434B5C;\n",
              "      box-shadow: 0px 1px 3px 1px rgba(0, 0, 0, 0.15);\n",
              "      filter: drop-shadow(0px 1px 2px rgba(0, 0, 0, 0.3));\n",
              "      fill: #FFFFFF;\n",
              "    }\n",
              "  </style>\n",
              "\n",
              "      <script>\n",
              "        const buttonEl =\n",
              "          document.querySelector('#df-9f85c2b8-4698-4d51-b293-8600d1758999 button.colab-df-convert');\n",
              "        buttonEl.style.display =\n",
              "          google.colab.kernel.accessAllowed ? 'block' : 'none';\n",
              "\n",
              "        async function convertToInteractive(key) {\n",
              "          const element = document.querySelector('#df-9f85c2b8-4698-4d51-b293-8600d1758999');\n",
              "          const dataTable =\n",
              "            await google.colab.kernel.invokeFunction('convertToInteractive',\n",
              "                                                     [key], {});\n",
              "          if (!dataTable) return;\n",
              "\n",
              "          const docLinkHtml = 'Like what you see? Visit the ' +\n",
              "            '<a target=\"_blank\" href=https://colab.research.google.com/notebooks/data_table.ipynb>data table notebook</a>'\n",
              "            + ' to learn more about interactive tables.';\n",
              "          element.innerHTML = '';\n",
              "          dataTable['output_type'] = 'display_data';\n",
              "          await google.colab.output.renderOutput(dataTable, element);\n",
              "          const docLink = document.createElement('div');\n",
              "          docLink.innerHTML = docLinkHtml;\n",
              "          element.appendChild(docLink);\n",
              "        }\n",
              "      </script>\n",
              "    </div>\n",
              "  </div>\n",
              "  "
            ]
          },
          "metadata": {},
          "execution_count": 54
        }
      ]
    },
    {
      "cell_type": "code",
      "source": [
        "#Checking for Null Values\n",
        "df.isnull().values.sum()"
      ],
      "metadata": {
        "colab": {
          "base_uri": "https://localhost:8080/"
        },
        "id": "g36sDI4UBgrp",
        "outputId": "6abc6679-9c72-4368-d2c3-43858005a775"
      },
      "execution_count": null,
      "outputs": [
        {
          "output_type": "execute_result",
          "data": {
            "text/plain": [
              "0"
            ]
          },
          "metadata": {},
          "execution_count": 55
        }
      ]
    },
    {
      "cell_type": "markdown",
      "source": [
        "#### Building Linear Model"
      ],
      "metadata": {
        "id": "qOtwOh3VCMHz"
      }
    },
    {
      "cell_type": "code",
      "source": [
        "#Assigning Dependent and Independent values\n",
        "X=df[['Gender','Height']]\n",
        "Y=df['Weight']\n",
        "\n",
        "# Converting Gender values  into Numeric Value\n",
        "X=df.replace({'Gender':{'Male':0 ,'Female':1}})\n"
      ],
      "metadata": {
        "id": "N4Sp8oK7CQ9O"
      },
      "execution_count": null,
      "outputs": []
    },
    {
      "cell_type": "markdown",
      "source": [
        "#### Q1.1 - Report the coefficients values by using the standard Least Square Estimates"
      ],
      "metadata": {
        "id": "oHOKJSGCCDiq"
      }
    },
    {
      "cell_type": "code",
      "source": [
        "# Fitting the Model\n",
        "model= sm.OLS(Y,X).fit()\n",
        "summary=model.summary()"
      ],
      "metadata": {
        "id": "iYMAfaq9PmbE"
      },
      "execution_count": null,
      "outputs": []
    },
    {
      "cell_type": "markdown",
      "source": [
        "#### #Q1.2 - What is the standard error of the estimated coefficients, R-squared term, and the 95% confidence interval?"
      ],
      "metadata": {
        "id": "ptiPUEgWTZaY"
      }
    },
    {
      "cell_type": "code",
      "source": [
        "#Standard Error of Estimated coefficients\n",
        "standard_errors=model.bse\n",
        "print(standard_errors)"
      ],
      "metadata": {
        "colab": {
          "base_uri": "https://localhost:8080/"
        },
        "id": "e7aK0fm5P3-v",
        "outputId": "b85b02e0-60c7-45c3-864b-80c2a19e757a"
      },
      "execution_count": null,
      "outputs": [
        {
          "output_type": "stream",
          "name": "stdout",
          "text": [
            "Gender    2.617452e-15\n",
            "Height    1.570643e-16\n",
            "Weight    5.744886e-17\n",
            "dtype: float64\n"
          ]
        }
      ]
    },
    {
      "cell_type": "code",
      "source": [
        "# Calculating R_Squared Error for model\n",
        "r_squared_term = model.rsquared\n",
        "print(f'The R-Squared term for model is :{r_squared_term}')"
      ],
      "metadata": {
        "colab": {
          "base_uri": "https://localhost:8080/"
        },
        "id": "SQCnyhA8S2kE",
        "outputId": "943267fd-b381-4a00-f82b-a503a65f89c5"
      },
      "execution_count": null,
      "outputs": [
        {
          "output_type": "stream",
          "name": "stdout",
          "text": [
            "The R-Squared term for model is :1.0\n"
          ]
        }
      ]
    },
    {
      "cell_type": "code",
      "source": [
        "# Calculating 95% Confidence of model\n",
        "CI=model.conf_int(alpha=0.05)\n",
        "print(f\"95% confidence interval of model is {CI} \")"
      ],
      "metadata": {
        "id": "abKqmkxlZ12y",
        "colab": {
          "base_uri": "https://localhost:8080/"
        },
        "outputId": "8acea81a-f426-4624-87a5-6b2024215340"
      },
      "execution_count": null,
      "outputs": [
        {
          "output_type": "stream",
          "name": "stdout",
          "text": [
            "95% confidence interval of model is                    0             1\n",
            "Gender -1.401339e-13 -1.298724e-13\n",
            "Height  1.357457e-15  1.973212e-15\n",
            "Weight  1.000000e+00  1.000000e+00 \n"
          ]
        }
      ]
    },
    {
      "cell_type": "markdown",
      "source": [
        "#### Q1.3 -Is there any dependence between the gender and weight of the subject?"
      ],
      "metadata": {
        "id": "sLvwbtJ_TrFE"
      }
    },
    {
      "cell_type": "code",
      "source": [
        "# separate the weight data by gender\n",
        "male_weights = df[df['Gender'] == 'Male']['Weight']\n",
        "female_weights = df[df['Gender'] == 'Female']['Weight']\n",
        "\n",
        "# perform the t-test\n",
        "t_stat, p_value = ttest_ind(male_weights, female_weights, equal_var=False)\n",
        "\n",
        "# print the results\n",
        "print(\"t-statistic:\", t_stat)\n",
        "print(\"p-value:\", p_value)\n"
      ],
      "metadata": {
        "colab": {
          "base_uri": "https://localhost:8080/"
        },
        "id": "QVH_bRtAkNsD",
        "outputId": "de62da98-5a1e-420a-fb40-14e0e0da6efa"
      },
      "execution_count": null,
      "outputs": [
        {
          "output_type": "stream",
          "name": "stdout",
          "text": [
            "t-statistic: 131.8195276508186\n",
            "p-value: 0.0\n"
          ]
        }
      ]
    },
    {
      "cell_type": "markdown",
      "source": [
        "### Yes, there is a dependence between gender and weight of the subject, as indicated by the significant coefficient for the gender variable in the linear regression model. The coefficient suggests that, on average, males weigh more than females after controlling for height. Additionally, the p-value associated with the gender coefficient is less than the significance level of 0.05, indicating that the effect of gender on weight is statistically significant. Therefore, we can conclude that gender is a significant predictor of weight in this model. The t-statistic is very high and the p-value is close to zero, indicating that there is a significant difference in weight between males and females in the dataset."
      ],
      "metadata": {
        "id": "9wKPgeflkLKd"
      }
    },
    {
      "cell_type": "markdown",
      "source": [
        "####Q1.4 -  Explain how are the qualitative attributes (such as gender) included in the regression model?\n",
        "\n",
        "Qualitative attributes, also known as categorical variables, are included in a regression model through the use of dummy variables. A dummy variable is a binary variable that takes on the value of 1 if the categorical variable is present, and 0 otherwise.\n",
        "\n",
        "In the case of the gender variable, we can create a dummy variable that takes on the value of 1 for males and 0 for females, or vice versa. This dummy variable is then included in the regression model as an independent variable alongside the other continuous variables.\n",
        "\n",
        "By including the dummy variable in the regression model, we are essentially estimating separate regression lines for each category of the categorical variable. For example, in our weight prediction model, including a gender dummy variable allows us to estimate separate regression lines for males and females.\n",
        "\n",
        "When interpreting the coefficients of the regression model, we can interpret the coefficient associated with the dummy variable as the difference in the mean response variable between the two categories, all other variables being equal. In our weight prediction model, the gender coefficient represents the difference in mean weight between males and females, with height being held constant.\n",
        "\n",
        "It is important to note that when including dummy variables in a regression model, we need to leave out one category as a reference category. This is because including all categories as separate dummy variables will result in perfect multicollinearity, which can cause issues with estimation and interpretation of coefficients."
      ],
      "metadata": {
        "id": "bTXrCpRkU35B"
      }
    },
    {
      "cell_type": "markdown",
      "source": [
        "## Q2 Using the data source in Q1 fit the Ridge and Lasso Regression Models."
      ],
      "metadata": {
        "id": "F9BaoR7eVeDU"
      }
    },
    {
      "cell_type": "code",
      "source": [
        "#Splitting data into Train Test using\n",
        "X_train,X_test,Y_train,Y_test= train_test_split(X,Y,test_size=0.2)"
      ],
      "metadata": {
        "id": "T99Ot1cQVlr-"
      },
      "execution_count": null,
      "outputs": []
    },
    {
      "cell_type": "code",
      "source": [
        "# Fit the Lasso regression model\n",
        "lasso_model = Lasso(alpha=0.1)\n",
        "lasso_model.fit(X_train, Y_train)"
      ],
      "metadata": {
        "colab": {
          "base_uri": "https://localhost:8080/"
        },
        "id": "oU4BLUD0YQ8o",
        "outputId": "7ce28c61-7c67-48f7-8369-f1b7ff48f4a1"
      },
      "execution_count": null,
      "outputs": [
        {
          "output_type": "execute_result",
          "data": {
            "text/plain": [
              "Lasso(alpha=0.1)"
            ]
          },
          "metadata": {},
          "execution_count": 80
        }
      ]
    },
    {
      "cell_type": "code",
      "source": [
        "#Fitting Lasso Regression Model\n",
        "ridge_model= Ridge(alpha=0.1)\n",
        "ridge_model.fit(X_train, Y_train)"
      ],
      "metadata": {
        "colab": {
          "base_uri": "https://localhost:8080/"
        },
        "id": "Hf93FZuyVyIX",
        "outputId": "3dfbba97-cad5-4c82-ffa7-b413e12972ea"
      },
      "execution_count": null,
      "outputs": [
        {
          "output_type": "execute_result",
          "data": {
            "text/plain": [
              "Ridge(alpha=0.1)"
            ]
          },
          "metadata": {},
          "execution_count": 81
        }
      ]
    },
    {
      "cell_type": "markdown",
      "source": [
        "#### Q2.1 - Report the coefficients for both the models"
      ],
      "metadata": {
        "id": "jJtBLdcBY21k"
      }
    },
    {
      "cell_type": "code",
      "source": [
        "# Report the coefficients for Ridge and Lasso regression models\n",
        "ridge_coefs = pd.DataFrame(data=ridge_model.coef_, index=X_train.columns, columns=['Ridge Coefficients'])\n",
        "lasso_coefs = pd.DataFrame(data=lasso_model.coef_, index=X_train.columns, columns=['Lasso Coefficients'])\n",
        "print(\"Ridge regression model coefficients: \")\n",
        "print(ridge_coefs)\n",
        "print(\"\\nLasso regression model coefficients: \")\n",
        "print(lasso_coefs)\n"
      ],
      "metadata": {
        "colab": {
          "base_uri": "https://localhost:8080/"
        },
        "id": "Sfos4bvjZNA3",
        "outputId": "21d7c4c2-c683-44a3-f5b5-e730b7e8282f"
      },
      "execution_count": null,
      "outputs": [
        {
          "output_type": "stream",
          "name": "stdout",
          "text": [
            "Ridge regression model coefficients: \n",
            "        Ridge Coefficients\n",
            "Gender       -2.436045e-06\n",
            "Height        7.478465e-07\n",
            "Weight        9.999999e-01\n",
            "\n",
            "Lasso regression model coefficients: \n",
            "        Lasso Coefficients\n",
            "Gender           -0.000000\n",
            "Height            0.000000\n",
            "Weight            0.999903\n"
          ]
        }
      ]
    },
    {
      "cell_type": "markdown",
      "source": [
        "#### Q.2.2 Report the attribute (among height and gender) least impacting the weight of the subject."
      ],
      "metadata": {
        "id": "zbYjOPJcZ50u"
      }
    },
    {
      "cell_type": "code",
      "source": [
        "# Extracting P values to check less impacting subject."
      ],
      "metadata": {
        "id": "-GYaZegLbf1A"
      },
      "execution_count": null,
      "outputs": []
    },
    {
      "cell_type": "code",
      "source": [
        "# Extract the p-values\n",
        "p_values = model.summary2().tables[1]['P>|t|']\n",
        "# Print the p-values\n",
        "print(f\"P-values:\\n{p_values}\")"
      ],
      "metadata": {
        "colab": {
          "base_uri": "https://localhost:8080/"
        },
        "id": "qrCNkIX2blXL",
        "outputId": "33f45985-813a-4f86-f685-7c020790cd85"
      },
      "execution_count": null,
      "outputs": [
        {
          "output_type": "stream",
          "name": "stdout",
          "text": [
            "P-values:\n",
            "Gender    0.000000e+00\n",
            "Height    3.976155e-26\n",
            "Weight    0.000000e+00\n",
            "Name: P>|t|, dtype: float64\n"
          ]
        }
      ]
    },
    {
      "cell_type": "markdown",
      "source": [
        "#### As we can see Height has higher P value which means it is less impactful."
      ],
      "metadata": {
        "id": "I0DlhngicBuU"
      }
    },
    {
      "cell_type": "markdown",
      "source": [
        "## Q3 Using the data source in Q1, fit Logistic Regression model to predict gender of the subject based on height and weight of the subject. Please use 90% of the data for training and rest 10% for evaluation using predict method"
      ],
      "metadata": {
        "id": "hp-ZlwYvdXoE"
      }
    },
    {
      "cell_type": "code",
      "source": [
        "# Split data into train and test sets using 90% of Data for Training and 10 % for Testing.\n",
        "X1_train,X1_test,Y1_train,Y1_test= train_test_split(X,Y,test_size=0.1)\n",
        "\n",
        "# Fitting the logistic regression model\n",
        "# Fitting the Model\n",
        "reg_model= sm.OLS(Y,X).fit()\n",
        "# Predict on test set\n",
        "y_pred = reg_model.predict(X_test)\n"
      ],
      "metadata": {
        "id": "MHA1XurWdhXZ"
      },
      "execution_count": null,
      "outputs": []
    },
    {
      "cell_type": "code",
      "source": [],
      "metadata": {
        "id": "vQW1fK6FfZ_-"
      },
      "execution_count": null,
      "outputs": []
    }
  ]
}